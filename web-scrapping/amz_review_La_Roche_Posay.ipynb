{
  "nbformat": 4,
  "nbformat_minor": 0,
  "metadata": {
    "colab": {
      "provenance": [],
      "authorship_tag": "ABX9TyODSKYRpkoZ4uMLHkNWmkj5",
      "include_colab_link": true
    },
    "kernelspec": {
      "name": "python3",
      "display_name": "Python 3"
    },
    "language_info": {
      "name": "python"
    }
  },
  "cells": [
    {
      "cell_type": "markdown",
      "metadata": {
        "id": "view-in-github",
        "colab_type": "text"
      },
      "source": [
        "<a href=\"https://colab.research.google.com/github/rnabilahusna/MP_ProductReview/blob/main/web-scrapping/amz_review_La_Roche_Posay.ipynb\" target=\"_parent\"><img src=\"https://colab.research.google.com/assets/colab-badge.svg\" alt=\"Open In Colab\"/></a>"
      ]
    },
    {
      "cell_type": "markdown",
      "source": [
        "#**Reviews Scraping for Roche-Posay from Amazon**"
      ],
      "metadata": {
        "id": "rIPpZcx7QtGg"
      }
    },
    {
      "cell_type": "code",
      "source": [
        "# Import packages\n",
        "import requests\n",
        "import pandas as pd\n",
        "from bs4 import BeautifulSoup\n",
        "from datetime import datetime"
      ],
      "metadata": {
        "id": "8IfXSpIbN2wW"
      },
      "execution_count": 1,
      "outputs": []
    },
    {
      "cell_type": "code",
      "source": [
        "# Header to set the requests as a browser requests\n",
        "headers = {\n",
        "    'authority': 'www.amazon.com',\n",
        "    'accept': 'text/html,application/xhtml+xml,application/xml;q=0.9,image/avif,image/webp,image/apng,*/*;q=0.8,application/signed-exchange;v=b3;q=0.9',\n",
        "    'accept-language': 'en-US,en;q=0.9,bn;q=0.8',\n",
        "    'sec-ch-ua': '\" Not A;Brand\";v=\"99\", \"Chromium\";v=\"102\", \"Google Chrome\";v=\"102\"',\n",
        "    'user-agent': 'Mozilla/5.0 (Windows NT 10.0; Win64; x64) AppleWebKit/537.36 (KHTML, like Gecko) Chrome/102.0.0.0 Safari/537.36'\n",
        "}"
      ],
      "metadata": {
        "id": "DN6RgeIbN4XW"
      },
      "execution_count": 2,
      "outputs": []
    },
    {
      "cell_type": "code",
      "source": [
        "# URL of The amazon Review page\n",
        "reviews_url = 'https://www.amazon.com/Roche-Posay-Hyalu-Hyaluronic-Anti-Wrinkle-Concentrate/product-reviews/B075VX4QVM/'"
      ],
      "metadata": {
        "id": "srvISFrhN6LW"
      },
      "execution_count": 3,
      "outputs": []
    },
    {
      "cell_type": "code",
      "source": [
        "# Define Page Number\n",
        "len_page = 999"
      ],
      "metadata": {
        "id": "L4Mapw7FN9MQ"
      },
      "execution_count": 4,
      "outputs": []
    },
    {
      "cell_type": "markdown",
      "source": [
        "##**Scraping Functions**"
      ],
      "metadata": {
        "id": "wqq02OmWRBJZ"
      }
    },
    {
      "cell_type": "code",
      "source": [
        "# Extra Data as Html object from amazon Review page\n",
        "def reviewsHtml(url, len_page):\n",
        "\n",
        "    # Empty List define to store all pages html data\n",
        "    soups = []\n",
        "\n",
        "    # Loop for gather all 3000 reviews from 300 pages via range\n",
        "    for page_no in range(1, len_page + 1):\n",
        "\n",
        "        # parameter set as page no to the requests body\n",
        "        params = {\n",
        "            'ie': 'UTF8',\n",
        "            'reviewerType': 'all_reviews',\n",
        "            'filterByStar': 'critical',\n",
        "            'pageNumber': page_no,\n",
        "        }\n",
        "\n",
        "        # Request make for each page\n",
        "        response = requests.get(url, headers=headers)\n",
        "\n",
        "        # Save Html object by using BeautifulSoup4 and lxml parser\n",
        "        soup = BeautifulSoup(response.text, 'lxml')\n",
        "\n",
        "        # Add single Html page data in master soups list\n",
        "        soups.append(soup)\n",
        "\n",
        "    return soups"
      ],
      "metadata": {
        "id": "-KF78QegN_XH"
      },
      "execution_count": 5,
      "outputs": []
    },
    {
      "cell_type": "code",
      "source": [
        "# Grab Reviews name, description, date, stars, title from HTML\n",
        "def getReviews(html_data):\n",
        "\n",
        "    # Create Empty list to Hold all data\n",
        "    data_dicts = []\n",
        "\n",
        "    # Select all Reviews BOX html using css selector\n",
        "    boxes = html_data.select('div[data-hook=\"review\"]')\n",
        "\n",
        "    # Iterate all Reviews BOX\n",
        "    for box in boxes:\n",
        "\n",
        "        # Select Name using css selector and cleaning text using strip()\n",
        "        # If Value is empty define value with 'N/A' for all.\n",
        "        try:\n",
        "            name = box.select_one('[class=\"a-profile-name\"]').text.strip()\n",
        "        except Exception as e:\n",
        "            name = 'N/A'\n",
        "\n",
        "        try:\n",
        "            stars = box.select_one('[data-hook=\"review-star-rating\"]').text.strip().split(' out')[0]\n",
        "        except Exception as e:\n",
        "            stars = 'N/A'\n",
        "\n",
        "        try:\n",
        "            title = box.select_one('[data-hook=\"review-title\"]').text.strip()\n",
        "        except Exception as e:\n",
        "            title = 'N/A'\n",
        "\n",
        "        try:\n",
        "            # Convert date str to dd/mm/yyy format\n",
        "            datetime_str = box.select_one('[data-hook=\"review-date\"]').text.strip().split(' on ')[-1]\n",
        "            date = datetime.strptime(datetime_str, '%B %d, %Y').strftime(\"%d/%m/%Y\")\n",
        "        except Exception as e:\n",
        "            date = 'N/A'\n",
        "\n",
        "        try:\n",
        "            description = box.select_one('[data-hook=\"review-body\"]').text.strip()\n",
        "        except Exception as e:\n",
        "            description = 'N/A'\n",
        "\n",
        "        # create Dictionary with al review data\n",
        "        data_dict = {\n",
        "            'Name' : name,\n",
        "            'Stars' : stars,\n",
        "            'Title' : title,\n",
        "            'Date' : date,\n",
        "            'Description' : description\n",
        "        }\n",
        "\n",
        "        # Add Dictionary in master empty List\n",
        "        data_dicts.append(data_dict)\n",
        "\n",
        "    return data_dicts"
      ],
      "metadata": {
        "id": "vvoJSncmN_m3"
      },
      "execution_count": 6,
      "outputs": []
    },
    {
      "cell_type": "markdown",
      "source": [
        "##Process Data"
      ],
      "metadata": {
        "id": "qaqO6KHYRHYj"
      }
    },
    {
      "cell_type": "code",
      "source": [
        "# Grab all HTML\n",
        "html_datas = reviewsHtml(reviews_url, len_page)"
      ],
      "metadata": {
        "id": "ux7AgtwhN_pd"
      },
      "execution_count": 7,
      "outputs": []
    },
    {
      "cell_type": "code",
      "source": [
        "# Empty List to Hold all reviews data\n",
        "reviews = []"
      ],
      "metadata": {
        "id": "SZOrabLJODZt"
      },
      "execution_count": 8,
      "outputs": []
    },
    {
      "cell_type": "code",
      "source": [
        "# Iterate all Html page\n",
        "for html_data in html_datas:\n",
        "\n",
        "    # Grab review data\n",
        "    review = getReviews(html_data)\n",
        "\n",
        "    # add review data in reviews empty list\n",
        "    reviews += review"
      ],
      "metadata": {
        "id": "dZjGP6-vODkM"
      },
      "execution_count": 9,
      "outputs": []
    },
    {
      "cell_type": "code",
      "source": [
        "# Create a dataframe with reviews Data\n",
        "df_reviews = pd.DataFrame(reviews)"
      ],
      "metadata": {
        "id": "76FsD9zuODmd"
      },
      "execution_count": 10,
      "outputs": []
    },
    {
      "cell_type": "code",
      "source": [
        "df_reviews"
      ],
      "metadata": {
        "colab": {
          "base_uri": "https://localhost:8080/",
          "height": 597
        },
        "id": "8-nWT-xlODpD",
        "outputId": "695caffc-5900-481d-bf8f-253573f5a118"
      },
      "execution_count": 11,
      "outputs": [
        {
          "output_type": "execute_result",
          "data": {
            "text/plain": [
              "                 Name Stars  \\\n",
              "0              Graham   4.0   \n",
              "1            Nashalie   5.0   \n",
              "2              shiela   5.0   \n",
              "3              M. Seg   5.0   \n",
              "4              Ashley   5.0   \n",
              "...               ...   ...   \n",
              "1055  consumer review   5.0   \n",
              "1056          Steffie   4.0   \n",
              "1057      Kelly Terry   5.0   \n",
              "1058             flor   5.0   \n",
              "1059       Megan Anno   5.0   \n",
              "\n",
              "                                                  Title        Date  \\\n",
              "0     4.0 out of 5 stars\\nDoes really good job of hy...  01/12/2023   \n",
              "1                5.0 out of 5 stars\\nThis product works  24/11/2023   \n",
              "2        5.0 out of 5 stars\\nBEST Hyaluronic Acid Serum  02/11/2023   \n",
              "3     5.0 out of 5 stars\\nNext best hyaluronic acid ...  01/11/2023   \n",
              "4         5.0 out of 5 stars\\nMiracle for my combo skin  08/11/2023   \n",
              "...                                                 ...         ...   \n",
              "1055                   5.0 out of 5 stars\\nreally works  02/12/2023   \n",
              "1056                      4.0 out of 5 stars\\nIt's fine  04/11/2023   \n",
              "1057                      5.0 out of 5 stars\\nHydration  30/11/2023   \n",
              "1058          5.0 out of 5 stars\\nNo dejo de comprarla!  13/11/2023   \n",
              "1059            5.0 out of 5 stars\\nOne of my favorites  21/11/2023   \n",
              "\n",
              "                                            Description  \n",
              "0     I've tried many skin moisturizing products. My...  \n",
              "1     I have really seen the difference in my face I...  \n",
              "2     I have tried different brands that were expens...  \n",
              "3     I'm a guy and have tried a bunch of hyaluronic...  \n",
              "4     My dermatologist recommended me this for my co...  \n",
              "...                                                 ...  \n",
              "1055  my skin looks so much healthier since using. A...  \n",
              "1056  Purchased only because the price was temporarl...  \n",
              "1057  Very moisturizing eliminated dryness and provi...  \n",
              "1058  Este es el tercer bote que voy comprando porqu...  \n",
              "1059  This is such a great product! Make sure to put...  \n",
              "\n",
              "[1060 rows x 5 columns]"
            ],
            "text/html": [
              "\n",
              "  <div id=\"df-ad192ebe-9814-4c22-811e-771fdf5ab074\" class=\"colab-df-container\">\n",
              "    <div>\n",
              "<style scoped>\n",
              "    .dataframe tbody tr th:only-of-type {\n",
              "        vertical-align: middle;\n",
              "    }\n",
              "\n",
              "    .dataframe tbody tr th {\n",
              "        vertical-align: top;\n",
              "    }\n",
              "\n",
              "    .dataframe thead th {\n",
              "        text-align: right;\n",
              "    }\n",
              "</style>\n",
              "<table border=\"1\" class=\"dataframe\">\n",
              "  <thead>\n",
              "    <tr style=\"text-align: right;\">\n",
              "      <th></th>\n",
              "      <th>Name</th>\n",
              "      <th>Stars</th>\n",
              "      <th>Title</th>\n",
              "      <th>Date</th>\n",
              "      <th>Description</th>\n",
              "    </tr>\n",
              "  </thead>\n",
              "  <tbody>\n",
              "    <tr>\n",
              "      <th>0</th>\n",
              "      <td>Graham</td>\n",
              "      <td>4.0</td>\n",
              "      <td>4.0 out of 5 stars\\nDoes really good job of hy...</td>\n",
              "      <td>01/12/2023</td>\n",
              "      <td>I've tried many skin moisturizing products. My...</td>\n",
              "    </tr>\n",
              "    <tr>\n",
              "      <th>1</th>\n",
              "      <td>Nashalie</td>\n",
              "      <td>5.0</td>\n",
              "      <td>5.0 out of 5 stars\\nThis product works</td>\n",
              "      <td>24/11/2023</td>\n",
              "      <td>I have really seen the difference in my face I...</td>\n",
              "    </tr>\n",
              "    <tr>\n",
              "      <th>2</th>\n",
              "      <td>shiela</td>\n",
              "      <td>5.0</td>\n",
              "      <td>5.0 out of 5 stars\\nBEST Hyaluronic Acid Serum</td>\n",
              "      <td>02/11/2023</td>\n",
              "      <td>I have tried different brands that were expens...</td>\n",
              "    </tr>\n",
              "    <tr>\n",
              "      <th>3</th>\n",
              "      <td>M. Seg</td>\n",
              "      <td>5.0</td>\n",
              "      <td>5.0 out of 5 stars\\nNext best hyaluronic acid ...</td>\n",
              "      <td>01/11/2023</td>\n",
              "      <td>I'm a guy and have tried a bunch of hyaluronic...</td>\n",
              "    </tr>\n",
              "    <tr>\n",
              "      <th>4</th>\n",
              "      <td>Ashley</td>\n",
              "      <td>5.0</td>\n",
              "      <td>5.0 out of 5 stars\\nMiracle for my combo skin</td>\n",
              "      <td>08/11/2023</td>\n",
              "      <td>My dermatologist recommended me this for my co...</td>\n",
              "    </tr>\n",
              "    <tr>\n",
              "      <th>...</th>\n",
              "      <td>...</td>\n",
              "      <td>...</td>\n",
              "      <td>...</td>\n",
              "      <td>...</td>\n",
              "      <td>...</td>\n",
              "    </tr>\n",
              "    <tr>\n",
              "      <th>1055</th>\n",
              "      <td>consumer review</td>\n",
              "      <td>5.0</td>\n",
              "      <td>5.0 out of 5 stars\\nreally works</td>\n",
              "      <td>02/12/2023</td>\n",
              "      <td>my skin looks so much healthier since using. A...</td>\n",
              "    </tr>\n",
              "    <tr>\n",
              "      <th>1056</th>\n",
              "      <td>Steffie</td>\n",
              "      <td>4.0</td>\n",
              "      <td>4.0 out of 5 stars\\nIt's fine</td>\n",
              "      <td>04/11/2023</td>\n",
              "      <td>Purchased only because the price was temporarl...</td>\n",
              "    </tr>\n",
              "    <tr>\n",
              "      <th>1057</th>\n",
              "      <td>Kelly Terry</td>\n",
              "      <td>5.0</td>\n",
              "      <td>5.0 out of 5 stars\\nHydration</td>\n",
              "      <td>30/11/2023</td>\n",
              "      <td>Very moisturizing eliminated dryness and provi...</td>\n",
              "    </tr>\n",
              "    <tr>\n",
              "      <th>1058</th>\n",
              "      <td>flor</td>\n",
              "      <td>5.0</td>\n",
              "      <td>5.0 out of 5 stars\\nNo dejo de comprarla!</td>\n",
              "      <td>13/11/2023</td>\n",
              "      <td>Este es el tercer bote que voy comprando porqu...</td>\n",
              "    </tr>\n",
              "    <tr>\n",
              "      <th>1059</th>\n",
              "      <td>Megan Anno</td>\n",
              "      <td>5.0</td>\n",
              "      <td>5.0 out of 5 stars\\nOne of my favorites</td>\n",
              "      <td>21/11/2023</td>\n",
              "      <td>This is such a great product! Make sure to put...</td>\n",
              "    </tr>\n",
              "  </tbody>\n",
              "</table>\n",
              "<p>1060 rows × 5 columns</p>\n",
              "</div>\n",
              "    <div class=\"colab-df-buttons\">\n",
              "\n",
              "  <div class=\"colab-df-container\">\n",
              "    <button class=\"colab-df-convert\" onclick=\"convertToInteractive('df-ad192ebe-9814-4c22-811e-771fdf5ab074')\"\n",
              "            title=\"Convert this dataframe to an interactive table.\"\n",
              "            style=\"display:none;\">\n",
              "\n",
              "  <svg xmlns=\"http://www.w3.org/2000/svg\" height=\"24px\" viewBox=\"0 -960 960 960\">\n",
              "    <path d=\"M120-120v-720h720v720H120Zm60-500h600v-160H180v160Zm220 220h160v-160H400v160Zm0 220h160v-160H400v160ZM180-400h160v-160H180v160Zm440 0h160v-160H620v160ZM180-180h160v-160H180v160Zm440 0h160v-160H620v160Z\"/>\n",
              "  </svg>\n",
              "    </button>\n",
              "\n",
              "  <style>\n",
              "    .colab-df-container {\n",
              "      display:flex;\n",
              "      gap: 12px;\n",
              "    }\n",
              "\n",
              "    .colab-df-convert {\n",
              "      background-color: #E8F0FE;\n",
              "      border: none;\n",
              "      border-radius: 50%;\n",
              "      cursor: pointer;\n",
              "      display: none;\n",
              "      fill: #1967D2;\n",
              "      height: 32px;\n",
              "      padding: 0 0 0 0;\n",
              "      width: 32px;\n",
              "    }\n",
              "\n",
              "    .colab-df-convert:hover {\n",
              "      background-color: #E2EBFA;\n",
              "      box-shadow: 0px 1px 2px rgba(60, 64, 67, 0.3), 0px 1px 3px 1px rgba(60, 64, 67, 0.15);\n",
              "      fill: #174EA6;\n",
              "    }\n",
              "\n",
              "    .colab-df-buttons div {\n",
              "      margin-bottom: 4px;\n",
              "    }\n",
              "\n",
              "    [theme=dark] .colab-df-convert {\n",
              "      background-color: #3B4455;\n",
              "      fill: #D2E3FC;\n",
              "    }\n",
              "\n",
              "    [theme=dark] .colab-df-convert:hover {\n",
              "      background-color: #434B5C;\n",
              "      box-shadow: 0px 1px 3px 1px rgba(0, 0, 0, 0.15);\n",
              "      filter: drop-shadow(0px 1px 2px rgba(0, 0, 0, 0.3));\n",
              "      fill: #FFFFFF;\n",
              "    }\n",
              "  </style>\n",
              "\n",
              "    <script>\n",
              "      const buttonEl =\n",
              "        document.querySelector('#df-ad192ebe-9814-4c22-811e-771fdf5ab074 button.colab-df-convert');\n",
              "      buttonEl.style.display =\n",
              "        google.colab.kernel.accessAllowed ? 'block' : 'none';\n",
              "\n",
              "      async function convertToInteractive(key) {\n",
              "        const element = document.querySelector('#df-ad192ebe-9814-4c22-811e-771fdf5ab074');\n",
              "        const dataTable =\n",
              "          await google.colab.kernel.invokeFunction('convertToInteractive',\n",
              "                                                    [key], {});\n",
              "        if (!dataTable) return;\n",
              "\n",
              "        const docLinkHtml = 'Like what you see? Visit the ' +\n",
              "          '<a target=\"_blank\" href=https://colab.research.google.com/notebooks/data_table.ipynb>data table notebook</a>'\n",
              "          + ' to learn more about interactive tables.';\n",
              "        element.innerHTML = '';\n",
              "        dataTable['output_type'] = 'display_data';\n",
              "        await google.colab.output.renderOutput(dataTable, element);\n",
              "        const docLink = document.createElement('div');\n",
              "        docLink.innerHTML = docLinkHtml;\n",
              "        element.appendChild(docLink);\n",
              "      }\n",
              "    </script>\n",
              "  </div>\n",
              "\n",
              "\n",
              "<div id=\"df-7a2c1173-bb2a-4760-b9b5-1110e2cf15b7\">\n",
              "  <button class=\"colab-df-quickchart\" onclick=\"quickchart('df-7a2c1173-bb2a-4760-b9b5-1110e2cf15b7')\"\n",
              "            title=\"Suggest charts\"\n",
              "            style=\"display:none;\">\n",
              "\n",
              "<svg xmlns=\"http://www.w3.org/2000/svg\" height=\"24px\"viewBox=\"0 0 24 24\"\n",
              "     width=\"24px\">\n",
              "    <g>\n",
              "        <path d=\"M19 3H5c-1.1 0-2 .9-2 2v14c0 1.1.9 2 2 2h14c1.1 0 2-.9 2-2V5c0-1.1-.9-2-2-2zM9 17H7v-7h2v7zm4 0h-2V7h2v10zm4 0h-2v-4h2v4z\"/>\n",
              "    </g>\n",
              "</svg>\n",
              "  </button>\n",
              "\n",
              "<style>\n",
              "  .colab-df-quickchart {\n",
              "      --bg-color: #E8F0FE;\n",
              "      --fill-color: #1967D2;\n",
              "      --hover-bg-color: #E2EBFA;\n",
              "      --hover-fill-color: #174EA6;\n",
              "      --disabled-fill-color: #AAA;\n",
              "      --disabled-bg-color: #DDD;\n",
              "  }\n",
              "\n",
              "  [theme=dark] .colab-df-quickchart {\n",
              "      --bg-color: #3B4455;\n",
              "      --fill-color: #D2E3FC;\n",
              "      --hover-bg-color: #434B5C;\n",
              "      --hover-fill-color: #FFFFFF;\n",
              "      --disabled-bg-color: #3B4455;\n",
              "      --disabled-fill-color: #666;\n",
              "  }\n",
              "\n",
              "  .colab-df-quickchart {\n",
              "    background-color: var(--bg-color);\n",
              "    border: none;\n",
              "    border-radius: 50%;\n",
              "    cursor: pointer;\n",
              "    display: none;\n",
              "    fill: var(--fill-color);\n",
              "    height: 32px;\n",
              "    padding: 0;\n",
              "    width: 32px;\n",
              "  }\n",
              "\n",
              "  .colab-df-quickchart:hover {\n",
              "    background-color: var(--hover-bg-color);\n",
              "    box-shadow: 0 1px 2px rgba(60, 64, 67, 0.3), 0 1px 3px 1px rgba(60, 64, 67, 0.15);\n",
              "    fill: var(--button-hover-fill-color);\n",
              "  }\n",
              "\n",
              "  .colab-df-quickchart-complete:disabled,\n",
              "  .colab-df-quickchart-complete:disabled:hover {\n",
              "    background-color: var(--disabled-bg-color);\n",
              "    fill: var(--disabled-fill-color);\n",
              "    box-shadow: none;\n",
              "  }\n",
              "\n",
              "  .colab-df-spinner {\n",
              "    border: 2px solid var(--fill-color);\n",
              "    border-color: transparent;\n",
              "    border-bottom-color: var(--fill-color);\n",
              "    animation:\n",
              "      spin 1s steps(1) infinite;\n",
              "  }\n",
              "\n",
              "  @keyframes spin {\n",
              "    0% {\n",
              "      border-color: transparent;\n",
              "      border-bottom-color: var(--fill-color);\n",
              "      border-left-color: var(--fill-color);\n",
              "    }\n",
              "    20% {\n",
              "      border-color: transparent;\n",
              "      border-left-color: var(--fill-color);\n",
              "      border-top-color: var(--fill-color);\n",
              "    }\n",
              "    30% {\n",
              "      border-color: transparent;\n",
              "      border-left-color: var(--fill-color);\n",
              "      border-top-color: var(--fill-color);\n",
              "      border-right-color: var(--fill-color);\n",
              "    }\n",
              "    40% {\n",
              "      border-color: transparent;\n",
              "      border-right-color: var(--fill-color);\n",
              "      border-top-color: var(--fill-color);\n",
              "    }\n",
              "    60% {\n",
              "      border-color: transparent;\n",
              "      border-right-color: var(--fill-color);\n",
              "    }\n",
              "    80% {\n",
              "      border-color: transparent;\n",
              "      border-right-color: var(--fill-color);\n",
              "      border-bottom-color: var(--fill-color);\n",
              "    }\n",
              "    90% {\n",
              "      border-color: transparent;\n",
              "      border-bottom-color: var(--fill-color);\n",
              "    }\n",
              "  }\n",
              "</style>\n",
              "\n",
              "  <script>\n",
              "    async function quickchart(key) {\n",
              "      const quickchartButtonEl =\n",
              "        document.querySelector('#' + key + ' button');\n",
              "      quickchartButtonEl.disabled = true;  // To prevent multiple clicks.\n",
              "      quickchartButtonEl.classList.add('colab-df-spinner');\n",
              "      try {\n",
              "        const charts = await google.colab.kernel.invokeFunction(\n",
              "            'suggestCharts', [key], {});\n",
              "      } catch (error) {\n",
              "        console.error('Error during call to suggestCharts:', error);\n",
              "      }\n",
              "      quickchartButtonEl.classList.remove('colab-df-spinner');\n",
              "      quickchartButtonEl.classList.add('colab-df-quickchart-complete');\n",
              "    }\n",
              "    (() => {\n",
              "      let quickchartButtonEl =\n",
              "        document.querySelector('#df-7a2c1173-bb2a-4760-b9b5-1110e2cf15b7 button');\n",
              "      quickchartButtonEl.style.display =\n",
              "        google.colab.kernel.accessAllowed ? 'block' : 'none';\n",
              "    })();\n",
              "  </script>\n",
              "</div>\n",
              "    </div>\n",
              "  </div>\n"
            ]
          },
          "metadata": {},
          "execution_count": 11
        }
      ]
    },
    {
      "cell_type": "markdown",
      "source": [
        "##**Export Data Scrapped**"
      ],
      "metadata": {
        "id": "FHbABzLrRLMV"
      }
    },
    {
      "cell_type": "code",
      "source": [
        "# Save data\n",
        "df_reviews.to_csv('la-roche-posay-reviews.csv', index=False)"
      ],
      "metadata": {
        "id": "wGCx3mj-ODsx"
      },
      "execution_count": 14,
      "outputs": []
    },
    {
      "cell_type": "code",
      "source": [
        "from google.colab import drive\n",
        "drive.mount('/content/drive')"
      ],
      "metadata": {
        "colab": {
          "base_uri": "https://localhost:8080/"
        },
        "id": "rFM535xSN_sD",
        "outputId": "7c925d44-ff9c-406f-abaa-b587fa471e84"
      },
      "execution_count": 15,
      "outputs": [
        {
          "output_type": "stream",
          "name": "stdout",
          "text": [
            "Mounted at /content/drive\n"
          ]
        }
      ]
    },
    {
      "cell_type": "code",
      "source": [
        "!cp la-roche-posay-reviews.csv '/content/drive/MyDrive/Colab Notebooks/MP1_ProductReview'"
      ],
      "metadata": {
        "id": "wTNchkQCWG9F"
      },
      "execution_count": 16,
      "outputs": []
    },
    {
      "cell_type": "code",
      "source": [],
      "metadata": {
        "id": "TezEQaFFWoD4"
      },
      "execution_count": null,
      "outputs": []
    }
  ]
}
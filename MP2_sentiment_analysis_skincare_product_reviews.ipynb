{
  "nbformat": 4,
  "nbformat_minor": 0,
  "metadata": {
    "colab": {
      "provenance": [],
      "authorship_tag": "ABX9TyN93bOcl9/cUs1xkFhkrN9A",
      "include_colab_link": true
    },
    "kernelspec": {
      "name": "python3",
      "display_name": "Python 3"
    },
    "language_info": {
      "name": "python"
    }
  },
  "cells": [
    {
      "cell_type": "markdown",
      "metadata": {
        "id": "view-in-github",
        "colab_type": "text"
      },
      "source": [
        "<a href=\"https://colab.research.google.com/github/rnabilahusna/MP_ProductReview/blob/main/MP2_sentiment_analysis_skincare_product_reviews.ipynb\" target=\"_parent\"><img src=\"https://colab.research.google.com/assets/colab-badge.svg\" alt=\"Open In Colab\"/></a>"
      ]
    },
    {
      "cell_type": "markdown",
      "source": [
        "## **1.0 Mount Drive**"
      ],
      "metadata": {
        "id": "MIBeyC2zhfls"
      }
    },
    {
      "cell_type": "code",
      "execution_count": null,
      "metadata": {
        "id": "KuQoN6YzDHPP"
      },
      "outputs": [],
      "source": [
        "from google.colab import drive\n",
        "drive.mount('/content/drive')"
      ]
    },
    {
      "cell_type": "markdown",
      "source": [
        "## **2.0 Import Neccessary Libraries**"
      ],
      "metadata": {
        "id": "zATQ8LuuhlWL"
      }
    },
    {
      "cell_type": "code",
      "source": [
        "import pandas as pd\n",
        "import numpy as np\n",
        "import matplotlib.pyplot as plt\n",
        "import seaborn as sns\n",
        "import string\n",
        "import re\n",
        "%matplotlib inline\n",
        "sns.set_style(\"whitegrid\")\n",
        "\n",
        "#set warning\n",
        "import warnings\n",
        "warnings.filterwarnings('ignore')\n",
        "\n",
        "pd.pandas.set_option('display.max_columns', None)"
      ],
      "metadata": {
        "id": "E4CS-WD1EUvu"
      },
      "execution_count": null,
      "outputs": []
    },
    {
      "cell_type": "markdown",
      "source": [
        "## **3.0 Load Data**"
      ],
      "metadata": {
        "id": "7KajlJ8YhsYz"
      }
    },
    {
      "cell_type": "code",
      "source": [
        "# Specify the path to the concatenated file\n",
        "concatenated_file_path = '/content/drive/MyDrive/Colab Notebooks/MP1_ProductReview/concatenated_data_new.csv'\n",
        "\n",
        "# Load the concatenated file into a DataFrame\n",
        "amazon_reviews = pd.read_csv(concatenated_file_path)\n",
        "\n",
        "# Make a copy of raw data into a df DataFrame\n",
        "df = amazon_reviews.copy()"
      ],
      "metadata": {
        "id": "hVnQ2BbAEUx5"
      },
      "execution_count": 9,
      "outputs": []
    },
    {
      "cell_type": "code",
      "source": [
        "# Output data\n",
        "df.head(5)"
      ],
      "metadata": {
        "colab": {
          "base_uri": "https://localhost:8080/",
          "height": 379
        },
        "id": "7otDLUi4U79H",
        "outputId": "f970a8ef-96de-40d8-c4bd-0f8d9c35d60c"
      },
      "execution_count": 10,
      "outputs": [
        {
          "output_type": "execute_result",
          "data": {
            "text/plain": [
              "                                             product        date  \\\n",
              "0  Amazon.com: Customer reviews: CeraVe Foaming F...  28/07/2021   \n",
              "1  Amazon.com: Customer reviews: CeraVe Foaming F...  23/07/2023   \n",
              "2  Amazon.com: Customer reviews: CeraVe Foaming F...  03/03/2022   \n",
              "3  Amazon.com: Customer reviews: CeraVe Foaming F...  28/06/2020   \n",
              "4  Amazon.com: Customer reviews: CeraVe Foaming F...  10/12/2023   \n",
              "\n",
              "                                               title  rating  \\\n",
              "0  1.0 out of 5 stars\\nthere’s no way these revie...     1.0   \n",
              "1               1.0 out of 5 stars\\nNot paraben free     1.0   \n",
              "2  1.0 out of 5 stars\\nCaused reaction- proceed w...     1.0   \n",
              "3                         1.0 out of 5 stars\\nSlimey     1.0   \n",
              "4               1.0 out of 5 stars\\nProducto abierto     1.0   \n",
              "\n",
              "                                                body  helpful_count  \n",
              "0  I bought this because I’ve had really oily ski...              2  \n",
              "1  I don’t understand how these brand name compan...              3  \n",
              "2  Bought this for my child to use as a face wash...             10  \n",
              "3  So, you know that slime you make when you mix ...              6  \n",
              "4  El producto venía abierto y quedó todo el líqu...              0  "
            ],
            "text/html": [
              "\n",
              "  <div id=\"df-3ab2aac6-4cd7-492e-9122-9bec32b81097\" class=\"colab-df-container\">\n",
              "    <div>\n",
              "<style scoped>\n",
              "    .dataframe tbody tr th:only-of-type {\n",
              "        vertical-align: middle;\n",
              "    }\n",
              "\n",
              "    .dataframe tbody tr th {\n",
              "        vertical-align: top;\n",
              "    }\n",
              "\n",
              "    .dataframe thead th {\n",
              "        text-align: right;\n",
              "    }\n",
              "</style>\n",
              "<table border=\"1\" class=\"dataframe\">\n",
              "  <thead>\n",
              "    <tr style=\"text-align: right;\">\n",
              "      <th></th>\n",
              "      <th>product</th>\n",
              "      <th>date</th>\n",
              "      <th>title</th>\n",
              "      <th>rating</th>\n",
              "      <th>body</th>\n",
              "      <th>helpful_count</th>\n",
              "    </tr>\n",
              "  </thead>\n",
              "  <tbody>\n",
              "    <tr>\n",
              "      <th>0</th>\n",
              "      <td>Amazon.com: Customer reviews: CeraVe Foaming F...</td>\n",
              "      <td>28/07/2021</td>\n",
              "      <td>1.0 out of 5 stars\\nthere’s no way these revie...</td>\n",
              "      <td>1.0</td>\n",
              "      <td>I bought this because I’ve had really oily ski...</td>\n",
              "      <td>2</td>\n",
              "    </tr>\n",
              "    <tr>\n",
              "      <th>1</th>\n",
              "      <td>Amazon.com: Customer reviews: CeraVe Foaming F...</td>\n",
              "      <td>23/07/2023</td>\n",
              "      <td>1.0 out of 5 stars\\nNot paraben free</td>\n",
              "      <td>1.0</td>\n",
              "      <td>I don’t understand how these brand name compan...</td>\n",
              "      <td>3</td>\n",
              "    </tr>\n",
              "    <tr>\n",
              "      <th>2</th>\n",
              "      <td>Amazon.com: Customer reviews: CeraVe Foaming F...</td>\n",
              "      <td>03/03/2022</td>\n",
              "      <td>1.0 out of 5 stars\\nCaused reaction- proceed w...</td>\n",
              "      <td>1.0</td>\n",
              "      <td>Bought this for my child to use as a face wash...</td>\n",
              "      <td>10</td>\n",
              "    </tr>\n",
              "    <tr>\n",
              "      <th>3</th>\n",
              "      <td>Amazon.com: Customer reviews: CeraVe Foaming F...</td>\n",
              "      <td>28/06/2020</td>\n",
              "      <td>1.0 out of 5 stars\\nSlimey</td>\n",
              "      <td>1.0</td>\n",
              "      <td>So, you know that slime you make when you mix ...</td>\n",
              "      <td>6</td>\n",
              "    </tr>\n",
              "    <tr>\n",
              "      <th>4</th>\n",
              "      <td>Amazon.com: Customer reviews: CeraVe Foaming F...</td>\n",
              "      <td>10/12/2023</td>\n",
              "      <td>1.0 out of 5 stars\\nProducto abierto</td>\n",
              "      <td>1.0</td>\n",
              "      <td>El producto venía abierto y quedó todo el líqu...</td>\n",
              "      <td>0</td>\n",
              "    </tr>\n",
              "  </tbody>\n",
              "</table>\n",
              "</div>\n",
              "    <div class=\"colab-df-buttons\">\n",
              "\n",
              "  <div class=\"colab-df-container\">\n",
              "    <button class=\"colab-df-convert\" onclick=\"convertToInteractive('df-3ab2aac6-4cd7-492e-9122-9bec32b81097')\"\n",
              "            title=\"Convert this dataframe to an interactive table.\"\n",
              "            style=\"display:none;\">\n",
              "\n",
              "  <svg xmlns=\"http://www.w3.org/2000/svg\" height=\"24px\" viewBox=\"0 -960 960 960\">\n",
              "    <path d=\"M120-120v-720h720v720H120Zm60-500h600v-160H180v160Zm220 220h160v-160H400v160Zm0 220h160v-160H400v160ZM180-400h160v-160H180v160Zm440 0h160v-160H620v160ZM180-180h160v-160H180v160Zm440 0h160v-160H620v160Z\"/>\n",
              "  </svg>\n",
              "    </button>\n",
              "\n",
              "  <style>\n",
              "    .colab-df-container {\n",
              "      display:flex;\n",
              "      gap: 12px;\n",
              "    }\n",
              "\n",
              "    .colab-df-convert {\n",
              "      background-color: #E8F0FE;\n",
              "      border: none;\n",
              "      border-radius: 50%;\n",
              "      cursor: pointer;\n",
              "      display: none;\n",
              "      fill: #1967D2;\n",
              "      height: 32px;\n",
              "      padding: 0 0 0 0;\n",
              "      width: 32px;\n",
              "    }\n",
              "\n",
              "    .colab-df-convert:hover {\n",
              "      background-color: #E2EBFA;\n",
              "      box-shadow: 0px 1px 2px rgba(60, 64, 67, 0.3), 0px 1px 3px 1px rgba(60, 64, 67, 0.15);\n",
              "      fill: #174EA6;\n",
              "    }\n",
              "\n",
              "    .colab-df-buttons div {\n",
              "      margin-bottom: 4px;\n",
              "    }\n",
              "\n",
              "    [theme=dark] .colab-df-convert {\n",
              "      background-color: #3B4455;\n",
              "      fill: #D2E3FC;\n",
              "    }\n",
              "\n",
              "    [theme=dark] .colab-df-convert:hover {\n",
              "      background-color: #434B5C;\n",
              "      box-shadow: 0px 1px 3px 1px rgba(0, 0, 0, 0.15);\n",
              "      filter: drop-shadow(0px 1px 2px rgba(0, 0, 0, 0.3));\n",
              "      fill: #FFFFFF;\n",
              "    }\n",
              "  </style>\n",
              "\n",
              "    <script>\n",
              "      const buttonEl =\n",
              "        document.querySelector('#df-3ab2aac6-4cd7-492e-9122-9bec32b81097 button.colab-df-convert');\n",
              "      buttonEl.style.display =\n",
              "        google.colab.kernel.accessAllowed ? 'block' : 'none';\n",
              "\n",
              "      async function convertToInteractive(key) {\n",
              "        const element = document.querySelector('#df-3ab2aac6-4cd7-492e-9122-9bec32b81097');\n",
              "        const dataTable =\n",
              "          await google.colab.kernel.invokeFunction('convertToInteractive',\n",
              "                                                    [key], {});\n",
              "        if (!dataTable) return;\n",
              "\n",
              "        const docLinkHtml = 'Like what you see? Visit the ' +\n",
              "          '<a target=\"_blank\" href=https://colab.research.google.com/notebooks/data_table.ipynb>data table notebook</a>'\n",
              "          + ' to learn more about interactive tables.';\n",
              "        element.innerHTML = '';\n",
              "        dataTable['output_type'] = 'display_data';\n",
              "        await google.colab.output.renderOutput(dataTable, element);\n",
              "        const docLink = document.createElement('div');\n",
              "        docLink.innerHTML = docLinkHtml;\n",
              "        element.appendChild(docLink);\n",
              "      }\n",
              "    </script>\n",
              "  </div>\n",
              "\n",
              "\n",
              "<div id=\"df-62efa80c-b8e5-483b-a492-9badae57d63e\">\n",
              "  <button class=\"colab-df-quickchart\" onclick=\"quickchart('df-62efa80c-b8e5-483b-a492-9badae57d63e')\"\n",
              "            title=\"Suggest charts\"\n",
              "            style=\"display:none;\">\n",
              "\n",
              "<svg xmlns=\"http://www.w3.org/2000/svg\" height=\"24px\"viewBox=\"0 0 24 24\"\n",
              "     width=\"24px\">\n",
              "    <g>\n",
              "        <path d=\"M19 3H5c-1.1 0-2 .9-2 2v14c0 1.1.9 2 2 2h14c1.1 0 2-.9 2-2V5c0-1.1-.9-2-2-2zM9 17H7v-7h2v7zm4 0h-2V7h2v10zm4 0h-2v-4h2v4z\"/>\n",
              "    </g>\n",
              "</svg>\n",
              "  </button>\n",
              "\n",
              "<style>\n",
              "  .colab-df-quickchart {\n",
              "      --bg-color: #E8F0FE;\n",
              "      --fill-color: #1967D2;\n",
              "      --hover-bg-color: #E2EBFA;\n",
              "      --hover-fill-color: #174EA6;\n",
              "      --disabled-fill-color: #AAA;\n",
              "      --disabled-bg-color: #DDD;\n",
              "  }\n",
              "\n",
              "  [theme=dark] .colab-df-quickchart {\n",
              "      --bg-color: #3B4455;\n",
              "      --fill-color: #D2E3FC;\n",
              "      --hover-bg-color: #434B5C;\n",
              "      --hover-fill-color: #FFFFFF;\n",
              "      --disabled-bg-color: #3B4455;\n",
              "      --disabled-fill-color: #666;\n",
              "  }\n",
              "\n",
              "  .colab-df-quickchart {\n",
              "    background-color: var(--bg-color);\n",
              "    border: none;\n",
              "    border-radius: 50%;\n",
              "    cursor: pointer;\n",
              "    display: none;\n",
              "    fill: var(--fill-color);\n",
              "    height: 32px;\n",
              "    padding: 0;\n",
              "    width: 32px;\n",
              "  }\n",
              "\n",
              "  .colab-df-quickchart:hover {\n",
              "    background-color: var(--hover-bg-color);\n",
              "    box-shadow: 0 1px 2px rgba(60, 64, 67, 0.3), 0 1px 3px 1px rgba(60, 64, 67, 0.15);\n",
              "    fill: var(--button-hover-fill-color);\n",
              "  }\n",
              "\n",
              "  .colab-df-quickchart-complete:disabled,\n",
              "  .colab-df-quickchart-complete:disabled:hover {\n",
              "    background-color: var(--disabled-bg-color);\n",
              "    fill: var(--disabled-fill-color);\n",
              "    box-shadow: none;\n",
              "  }\n",
              "\n",
              "  .colab-df-spinner {\n",
              "    border: 2px solid var(--fill-color);\n",
              "    border-color: transparent;\n",
              "    border-bottom-color: var(--fill-color);\n",
              "    animation:\n",
              "      spin 1s steps(1) infinite;\n",
              "  }\n",
              "\n",
              "  @keyframes spin {\n",
              "    0% {\n",
              "      border-color: transparent;\n",
              "      border-bottom-color: var(--fill-color);\n",
              "      border-left-color: var(--fill-color);\n",
              "    }\n",
              "    20% {\n",
              "      border-color: transparent;\n",
              "      border-left-color: var(--fill-color);\n",
              "      border-top-color: var(--fill-color);\n",
              "    }\n",
              "    30% {\n",
              "      border-color: transparent;\n",
              "      border-left-color: var(--fill-color);\n",
              "      border-top-color: var(--fill-color);\n",
              "      border-right-color: var(--fill-color);\n",
              "    }\n",
              "    40% {\n",
              "      border-color: transparent;\n",
              "      border-right-color: var(--fill-color);\n",
              "      border-top-color: var(--fill-color);\n",
              "    }\n",
              "    60% {\n",
              "      border-color: transparent;\n",
              "      border-right-color: var(--fill-color);\n",
              "    }\n",
              "    80% {\n",
              "      border-color: transparent;\n",
              "      border-right-color: var(--fill-color);\n",
              "      border-bottom-color: var(--fill-color);\n",
              "    }\n",
              "    90% {\n",
              "      border-color: transparent;\n",
              "      border-bottom-color: var(--fill-color);\n",
              "    }\n",
              "  }\n",
              "</style>\n",
              "\n",
              "  <script>\n",
              "    async function quickchart(key) {\n",
              "      const quickchartButtonEl =\n",
              "        document.querySelector('#' + key + ' button');\n",
              "      quickchartButtonEl.disabled = true;  // To prevent multiple clicks.\n",
              "      quickchartButtonEl.classList.add('colab-df-spinner');\n",
              "      try {\n",
              "        const charts = await google.colab.kernel.invokeFunction(\n",
              "            'suggestCharts', [key], {});\n",
              "      } catch (error) {\n",
              "        console.error('Error during call to suggestCharts:', error);\n",
              "      }\n",
              "      quickchartButtonEl.classList.remove('colab-df-spinner');\n",
              "      quickchartButtonEl.classList.add('colab-df-quickchart-complete');\n",
              "    }\n",
              "    (() => {\n",
              "      let quickchartButtonEl =\n",
              "        document.querySelector('#df-62efa80c-b8e5-483b-a492-9badae57d63e button');\n",
              "      quickchartButtonEl.style.display =\n",
              "        google.colab.kernel.accessAllowed ? 'block' : 'none';\n",
              "    })();\n",
              "  </script>\n",
              "</div>\n",
              "    </div>\n",
              "  </div>\n"
            ],
            "application/vnd.google.colaboratory.intrinsic+json": {
              "type": "dataframe",
              "variable_name": "df",
              "summary": "{\n  \"name\": \"df\",\n  \"rows\": 15641,\n  \"fields\": [\n    {\n      \"column\": \"product\",\n      \"properties\": {\n        \"dtype\": \"category\",\n        \"num_unique_values\": 20,\n        \"samples\": [\n          \"Amazon.com: Customer reviews: CeraVe Foaming Facial Cleanser | Daily Face Wash for Oily Skin with Hyaluronic Acid, Ceramides, and Niacinamide| Fragrance Free Paraben Free | 19 Fluid Ounce\",\n          \"Amazon.com: Customer reviews: La Roche-Posay Toleriane Double Repair Face Moisturizer, Daily Moisturizer Face Cream with Ceramide and Niacinamide for All Skin Types, Oil Free, Fragrance Free\",\n          \"Amazon.com: Customer reviews: La Roche-Posay Toleriane Hydrating Gentle Face Cleanser, Daily Facial Cleanser with Niacinamide and Ceramides for Sensitive Skin, Moisturizing Face Wash for Normal to Dry Skin, Fragrance Free\"\n        ],\n        \"semantic_type\": \"\",\n        \"description\": \"\"\n      }\n    },\n    {\n      \"column\": \"date\",\n      \"properties\": {\n        \"dtype\": \"object\",\n        \"num_unique_values\": 3453,\n        \"samples\": [\n          \"13/09/2017\",\n          \"16/08/2023\",\n          \"09/11/2019\"\n        ],\n        \"semantic_type\": \"\",\n        \"description\": \"\"\n      }\n    },\n    {\n      \"column\": \"title\",\n      \"properties\": {\n        \"dtype\": \"string\",\n        \"num_unique_values\": 7948,\n        \"samples\": [\n          \"2.0 out of 5 stars\\nNOT SAFE for sensitive skin\",\n          \"1.0 out of 5 stars\\nHaven't been able to use it, the pump doesn't work.\",\n          \"4.0 out of 5 stars\\nGood absorption.\"\n        ],\n        \"semantic_type\": \"\",\n        \"description\": \"\"\n      }\n    },\n    {\n      \"column\": \"rating\",\n      \"properties\": {\n        \"dtype\": \"number\",\n        \"std\": 1.4822828789362372,\n        \"min\": 1.0,\n        \"max\": 5.0,\n        \"num_unique_values\": 5,\n        \"samples\": [\n          2.0,\n          5.0,\n          3.0\n        ],\n        \"semantic_type\": \"\",\n        \"description\": \"\"\n      }\n    },\n    {\n      \"column\": \"body\",\n      \"properties\": {\n        \"dtype\": \"string\",\n        \"num_unique_values\": 9340,\n        \"samples\": [\n          \"I'm not sure why it's called foaming face wash as it foams like any other soap.  Works as advertised but I'm not sure it's a notch above or better than any other face wash.  There is no rating on the scent as it has none.  It dispenses as a clear gel and foams after the addition of water and hand friction.\",\n          \"I bought this product because I got carried away by the good comments.  I really didn't see any changes, I've been using it for a long time, and the smell is unpleasant.  I honestly don't recommend it.\",\n          \"I like the way it leaves my face feeling but there is no foaming of it really at all.\"\n        ],\n        \"semantic_type\": \"\",\n        \"description\": \"\"\n      }\n    },\n    {\n      \"column\": \"helpful_count\",\n      \"properties\": {\n        \"dtype\": \"number\",\n        \"std\": 15,\n        \"min\": 0,\n        \"max\": 617,\n        \"num_unique_values\": 124,\n        \"samples\": [\n          20,\n          68,\n          105\n        ],\n        \"semantic_type\": \"\",\n        \"description\": \"\"\n      }\n    }\n  ]\n}"
            }
          },
          "metadata": {},
          "execution_count": 10
        }
      ]
    },
    {
      "cell_type": "markdown",
      "source": [
        "## **4.0 Data Exploration**"
      ],
      "metadata": {
        "id": "vtQ47Ztl4kxG"
      }
    },
    {
      "cell_type": "markdown",
      "source": [
        "### **4.1 Dataset Shape**"
      ],
      "metadata": {
        "id": "QI-KyuGzieBh"
      }
    },
    {
      "cell_type": "code",
      "source": [
        "# Dataset shape (row, column)\n",
        "df.shape"
      ],
      "metadata": {
        "colab": {
          "base_uri": "https://localhost:8080/"
        },
        "id": "zOKZotNOFAKl",
        "outputId": "1b41c2c9-f789-42f0-ffea-c51a2dfed705"
      },
      "execution_count": 13,
      "outputs": [
        {
          "output_type": "execute_result",
          "data": {
            "text/plain": [
              "(15641, 6)"
            ]
          },
          "metadata": {},
          "execution_count": 13
        }
      ]
    },
    {
      "cell_type": "markdown",
      "source": [
        "### **4.2 Missing Values**"
      ],
      "metadata": {
        "id": "WJwi2-9Xilij"
      }
    },
    {
      "cell_type": "code",
      "source": [
        "# Check for missing values\n",
        "df.isna().sum()"
      ],
      "metadata": {
        "colab": {
          "base_uri": "https://localhost:8080/"
        },
        "id": "-ke5E0fXWdud",
        "outputId": "cc9369f7-f0dd-4ee3-91b9-bd1c8e0ccea8"
      },
      "execution_count": 12,
      "outputs": [
        {
          "output_type": "execute_result",
          "data": {
            "text/plain": [
              "product           0\n",
              "date              0\n",
              "title             0\n",
              "rating            0\n",
              "body             60\n",
              "helpful_count     0\n",
              "dtype: int64"
            ]
          },
          "metadata": {},
          "execution_count": 12
        }
      ]
    },
    {
      "cell_type": "markdown",
      "source": [
        "### **4.3 Duplicated Rows**"
      ],
      "metadata": {
        "id": "ppy4G4hIipdq"
      }
    },
    {
      "cell_type": "code",
      "source": [
        "# Check for duplicate rows\n",
        "num_duplicate_rows = df.duplicated().sum()\n",
        "num_duplicate_rows"
      ],
      "metadata": {
        "id": "94tBkelrXg_I"
      },
      "execution_count": null,
      "outputs": []
    },
    {
      "cell_type": "markdown",
      "source": [
        "## **5.0 Data Preparation**"
      ],
      "metadata": {
        "id": "r1N6CyuDEm6_"
      }
    },
    {
      "cell_type": "markdown",
      "source": [
        "###**5.1 Rename Column**"
      ],
      "metadata": {
        "id": "ThJAkBKti0-Z"
      }
    },
    {
      "cell_type": "code",
      "source": [
        "# Rename columns to make the dataset easier to understand\n",
        "df.rename(columns={'product': 'Product'}, inplace=True)\n",
        "df.rename(columns={'date': 'Date'}, inplace=True)\n",
        "df.rename(columns={'title': 'Title'}, inplace=True)\n",
        "df.rename(columns={'rating': 'Rating'}, inplace=True)\n",
        "df.rename(columns={'body': 'Review'}, inplace=True)\n",
        "df.rename(columns={'helpful_count': 'Helpful Count'}, inplace=True)"
      ],
      "metadata": {
        "id": "PSY6um5FVEru"
      },
      "execution_count": null,
      "outputs": []
    },
    {
      "cell_type": "markdown",
      "source": [
        "### **5.2 Add New Columns - Skin Concern, Brand, Product Type**"
      ],
      "metadata": {
        "id": "fq0zAYJVi5kG"
      }
    },
    {
      "cell_type": "code",
      "source": [
        "# Mapping dictionary (replace these values with your actual mapping)\n",
        "product_to_skin_concern = {\n",
        "    # acne-oily-skin\n",
        "    'Amazon.com: Customer reviews: CeraVe Foaming Facial Cleanser | Daily Face Wash for Oily Skin with Hyaluronic Acid, Ceramides, and Niacinamide| Fragrance Free Paraben Free | 19 Fluid Ounce': 'acne and oily',\n",
        "    'Amazon.com: Customer reviews: La Roche-Posay Effaclar Purifying Foaming Gel Cleanser for Oily Skin, pH Balancing Daily Face Wash, Oil Free and Soap Free, 13.52 Fl Oz (Pack of 1)': 'acne and oily',\n",
        "    'Amazon.com: Customer reviews: CeraVe Salicylic Acid Acne Treatment with Glycolic Acid and Lactic Acid | AHA/BHA Acne Gel for Face to Control and Clear Breakouts |1.35 Ounce': 'acne and oily',\n",
        "    'Amazon.com: Customer reviews: La Roche-Posay Effaclar Duo Dual Action Acne Spot Treatment Cream with Benzoyl Peroxide Acne Treatment for Acne and Blackheads, Lightweight Sheerness, Safe For Sensitive Skin ,0.7 Fl Oz' : 'acne and oily',\n",
        "    'Amazon.com: Customer reviews: CeraVe AM Facial Moisturizing Lotion SPF 30 | Oil-Free Face Moisturizer with Sunscreen | Non-Comedogenic | 3 Ounce' : 'acne and oily',\n",
        "    'Amazon.com: Customer reviews: La Roche-Posay Mat Oil-Free Mattifying Moisturizer' : 'acne and oily',\n",
        "    'Amazon.com: Customer reviews: CeraVe Retinol Serum for Post-Acne Marks and Skin Texture | Pore Refining, Resurfacing, Brightening Facial Serum with Retinol and Niacinamide | Fragrance Free, Paraben Free &amp; Non-Comedogenic| 1 Oz' : 'acne and oily',\n",
        "    'Amazon.com: Customer reviews: La Roche-Posay Effaclar Salicylic Acid Acne Treatment to Minimize Pores, Clear Acne Blemishes and Post Acne Marks' : 'acne and oily',\n",
        "\n",
        "    # anti-aging skin\n",
        "    'Amazon.com: Customer reviews: CeraVe Anti Aging Face Cream with SPF 30 Sunscreen | Anti Wrinkle Cream for Face with Retinol, SPF 30 Sunscreen, Hyaluronic Acid, and Ceramides | White,1.76 Ounce (Pack of 1)' : 'anti-aging',\n",
        "    'Amazon.com: Customer reviews: La Roche-Posay Redermic R Anti Aging Retinol Cream, Reduces Wrinkles, Fine Lines, and Age Spots with Pure Retinol Face Cream, 1 Fl Oz' : 'anti-aging',\n",
        "    'Amazon.com: Customer reviews: CeraVe Eye Cream for Wrinkles | Under Eye Cream with Caffeine, Peptides, Hyaluronic Acid, Niacinamide, and Ceramides for Fine Lines | Fragrance Free &amp; Ophthalmologist Tested |0.5 Ounces' : 'anti-aging',\n",
        "    'Amazon.com: Customer reviews: La Roche-Posay Pigmentclar Dark Circles Eye Cream with Caffeine, Brightens Under Eye Area and Targets Dark Circles' : 'anti-aging',\n",
        "    'Amazon.com: Customer reviews: CeraVe Anti Aging Retinol Serum | Cream Serum for Smoothing Fine Lines and Skin Brightening | With Retinol, Hyaluronic Acid, Niacinamide, and Ceramides | 1 Ounce' : 'anti-aging',\n",
        "    'Amazon.com: Customer reviews: La Roche-Posay Pure Retinol Face Serum with Vitamin B3. Anti Aging Face Serum for Lines, Wrinkles &amp; Premature Sun Damage to Resurface &amp; Hydrate. Suitable for Sensitive Skin, 1.0 Fl. Oz' : 'anti-aging',\n",
        "\n",
        "    # dry skin\n",
        "    'Amazon.com: Customer reviews: CeraVe Hydrating Facial Cleanser | Moisturizing Non-Foaming Face Wash with Hyaluronic Acid, Ceramides and Glycerin | Fragrance Free Paraben Free | 16 Fluid Ounce' : 'dry',\n",
        "    'Amazon.com: Customer reviews: La Roche-Posay Toleriane Hydrating Gentle Face Cleanser, Daily Facial Cleanser with Niacinamide and Ceramides for Sensitive Skin, Moisturizing Face Wash for Normal to Dry Skin, Fragrance Free' : 'dry',\n",
        "    'Amazon.com: Customer reviews: CeraVe Daily Moisturizing Lotion for Dry Skin | Body Lotion &amp; Facial Moisturizer with Hyaluronic Acid and Ceramides | Fragrance Free | 19 Ounce' : 'dry',\n",
        "    'Amazon.com: Customer reviews: La Roche-Posay Toleriane Double Repair Face Moisturizer, Daily Moisturizer Face Cream with Ceramide and Niacinamide for All Skin Types, Oil Free, Fragrance Free' : 'dry',\n",
        "    'Amazon.com: Customer reviews: Cerave Hyaluronic Acid Serum for Face with Vitamin B5 and Ceramides | Hydrating Face Serum for Dry Skin | Fragrance Free | 1 Ounce' : 'dry',\n",
        "    'Amazon.com: Customer reviews: La Roche-Posay Hyalu B5 Pure Hyaluronic Acid Serum for Face, with Vitamin B5, Anti-Aging Serum for Fine Lines and Wrinkles, Hydrating Serum to Plump and Repair Dry Skin, Safe on Sensitive Skin' : 'dry',\n",
        "}\n",
        "\n",
        "product_to_brand = {\n",
        "    # acne-oily-skin\n",
        "    'Amazon.com: Customer reviews: CeraVe Foaming Facial Cleanser | Daily Face Wash for Oily Skin with Hyaluronic Acid, Ceramides, and Niacinamide| Fragrance Free Paraben Free | 19 Fluid Ounce': 'CeraVe',\n",
        "    'Amazon.com: Customer reviews: La Roche-Posay Effaclar Purifying Foaming Gel Cleanser for Oily Skin, pH Balancing Daily Face Wash, Oil Free and Soap Free, 13.52 Fl Oz (Pack of 1)': 'La Roche-Posay',\n",
        "    'Amazon.com: Customer reviews: CeraVe Salicylic Acid Acne Treatment with Glycolic Acid and Lactic Acid | AHA/BHA Acne Gel for Face to Control and Clear Breakouts |1.35 Ounce': 'CeraVe',\n",
        "    'Amazon.com: Customer reviews: La Roche-Posay Effaclar Duo Dual Action Acne Spot Treatment Cream with Benzoyl Peroxide Acne Treatment for Acne and Blackheads, Lightweight Sheerness, Safe For Sensitive Skin ,0.7 Fl Oz' : 'La Roche-Posay',\n",
        "    'Amazon.com: Customer reviews: CeraVe AM Facial Moisturizing Lotion SPF 30 | Oil-Free Face Moisturizer with Sunscreen | Non-Comedogenic | 3 Ounce' : 'CeraVe',\n",
        "    'Amazon.com: Customer reviews: La Roche-Posay Mat Oil-Free Mattifying Moisturizer' : 'La Roche-Posay',\n",
        "    'Amazon.com: Customer reviews: CeraVe Retinol Serum for Post-Acne Marks and Skin Texture | Pore Refining, Resurfacing, Brightening Facial Serum with Retinol and Niacinamide | Fragrance Free, Paraben Free &amp; Non-Comedogenic| 1 Oz' : 'CeraVe',\n",
        "    'Amazon.com: Customer reviews: La Roche-Posay Effaclar Salicylic Acid Acne Treatment to Minimize Pores, Clear Acne Blemishes and Post Acne Marks' : 'La Roche-Posay',\n",
        "\n",
        "    # anti-aging skin\n",
        "    'Amazon.com: Customer reviews: CeraVe Anti Aging Face Cream with SPF 30 Sunscreen | Anti Wrinkle Cream for Face with Retinol, SPF 30 Sunscreen, Hyaluronic Acid, and Ceramides | White,1.76 Ounce (Pack of 1)' : 'CeraVe',\n",
        "    'Amazon.com: Customer reviews: La Roche-Posay Redermic R Anti Aging Retinol Cream, Reduces Wrinkles, Fine Lines, and Age Spots with Pure Retinol Face Cream, 1 Fl Oz' : 'La Roche-Posay',\n",
        "    'Amazon.com: Customer reviews: CeraVe Eye Cream for Wrinkles | Under Eye Cream with Caffeine, Peptides, Hyaluronic Acid, Niacinamide, and Ceramides for Fine Lines | Fragrance Free &amp; Ophthalmologist Tested |0.5 Ounces' : 'CeraVe',\n",
        "    'Amazon.com: Customer reviews: La Roche-Posay Pigmentclar Dark Circles Eye Cream with Caffeine, Brightens Under Eye Area and Targets Dark Circles' : 'La Roche-Posay',\n",
        "    'Amazon.com: Customer reviews: CeraVe Anti Aging Retinol Serum | Cream Serum for Smoothing Fine Lines and Skin Brightening | With Retinol, Hyaluronic Acid, Niacinamide, and Ceramides | 1 Ounce' : 'CeraVe',\n",
        "    'Amazon.com: Customer reviews: La Roche-Posay Pure Retinol Face Serum with Vitamin B3. Anti Aging Face Serum for Lines, Wrinkles &amp; Premature Sun Damage to Resurface &amp; Hydrate. Suitable for Sensitive Skin, 1.0 Fl. Oz' : 'La Roche-Posay',\n",
        "\n",
        "    # dry skin\n",
        "    'Amazon.com: Customer reviews: CeraVe Hydrating Facial Cleanser | Moisturizing Non-Foaming Face Wash with Hyaluronic Acid, Ceramides and Glycerin | Fragrance Free Paraben Free | 16 Fluid Ounce' : 'CeraVe',\n",
        "    'Amazon.com: Customer reviews: La Roche-Posay Toleriane Hydrating Gentle Face Cleanser, Daily Facial Cleanser with Niacinamide and Ceramides for Sensitive Skin, Moisturizing Face Wash for Normal to Dry Skin, Fragrance Free' : 'La Roche-Posay',\n",
        "    'Amazon.com: Customer reviews: CeraVe Daily Moisturizing Lotion for Dry Skin | Body Lotion &amp; Facial Moisturizer with Hyaluronic Acid and Ceramides | Fragrance Free | 19 Ounce' : 'CeraVe',\n",
        "    'Amazon.com: Customer reviews: La Roche-Posay Toleriane Double Repair Face Moisturizer, Daily Moisturizer Face Cream with Ceramide and Niacinamide for All Skin Types, Oil Free, Fragrance Free' : 'La Roche-Posay',\n",
        "    'Amazon.com: Customer reviews: Cerave Hyaluronic Acid Serum for Face with Vitamin B5 and Ceramides | Hydrating Face Serum for Dry Skin | Fragrance Free | 1 Ounce' : 'CeraVe',\n",
        "    'Amazon.com: Customer reviews: La Roche-Posay Hyalu B5 Pure Hyaluronic Acid Serum for Face, with Vitamin B5, Anti-Aging Serum for Fine Lines and Wrinkles, Hydrating Serum to Plump and Repair Dry Skin, Safe on Sensitive Skin' : 'La Roche-Posay',\n",
        "}\n",
        "\n",
        "product_to_product_type = {\n",
        "    # acne-oily-skin\n",
        "    'Amazon.com: Customer reviews: CeraVe Foaming Facial Cleanser | Daily Face Wash for Oily Skin with Hyaluronic Acid, Ceramides, and Niacinamide| Fragrance Free Paraben Free | 19 Fluid Ounce': 'Cleanser',\n",
        "    'Amazon.com: Customer reviews: La Roche-Posay Effaclar Purifying Foaming Gel Cleanser for Oily Skin, pH Balancing Daily Face Wash, Oil Free and Soap Free, 13.52 Fl Oz (Pack of 1)': 'Cleanser',\n",
        "    'Amazon.com: Customer reviews: CeraVe Salicylic Acid Acne Treatment with Glycolic Acid and Lactic Acid | AHA/BHA Acne Gel for Face to Control and Clear Breakouts |1.35 Ounce': 'Cream',\n",
        "    'Amazon.com: Customer reviews: La Roche-Posay Effaclar Duo Dual Action Acne Spot Treatment Cream with Benzoyl Peroxide Acne Treatment for Acne and Blackheads, Lightweight Sheerness, Safe For Sensitive Skin ,0.7 Fl Oz' : 'Cream',\n",
        "    'Amazon.com: Customer reviews: CeraVe AM Facial Moisturizing Lotion SPF 30 | Oil-Free Face Moisturizer with Sunscreen | Non-Comedogenic | 3 Ounce' : 'Moisturizer',\n",
        "    'Amazon.com: Customer reviews: La Roche-Posay Mat Oil-Free Mattifying Moisturizer' : 'Moisturizer',\n",
        "    'Amazon.com: Customer reviews: CeraVe Retinol Serum for Post-Acne Marks and Skin Texture | Pore Refining, Resurfacing, Brightening Facial Serum with Retinol and Niacinamide | Fragrance Free, Paraben Free &amp; Non-Comedogenic| 1 Oz' : 'Serum',\n",
        "    'Amazon.com: Customer reviews: La Roche-Posay Effaclar Salicylic Acid Acne Treatment to Minimize Pores, Clear Acne Blemishes and Post Acne Marks' : 'Serum',\n",
        "\n",
        "    # anti-aging skin\n",
        "    'Amazon.com: Customer reviews: CeraVe Anti Aging Face Cream with SPF 30 Sunscreen | Anti Wrinkle Cream for Face with Retinol, SPF 30 Sunscreen, Hyaluronic Acid, and Ceramides | White,1.76 Ounce (Pack of 1)' : 'Cream',\n",
        "    'Amazon.com: Customer reviews: La Roche-Posay Redermic R Anti Aging Retinol Cream, Reduces Wrinkles, Fine Lines, and Age Spots with Pure Retinol Face Cream, 1 Fl Oz' : 'Cream',\n",
        "    'Amazon.com: Customer reviews: CeraVe Eye Cream for Wrinkles | Under Eye Cream with Caffeine, Peptides, Hyaluronic Acid, Niacinamide, and Ceramides for Fine Lines | Fragrance Free &amp; Ophthalmologist Tested |0.5 Ounces' : 'Eye Cream',\n",
        "    'Amazon.com: Customer reviews: La Roche-Posay Pigmentclar Dark Circles Eye Cream with Caffeine, Brightens Under Eye Area and Targets Dark Circles' : 'Eye Cream',\n",
        "    'Amazon.com: Customer reviews: CeraVe Anti Aging Retinol Serum | Cream Serum for Smoothing Fine Lines and Skin Brightening | With Retinol, Hyaluronic Acid, Niacinamide, and Ceramides | 1 Ounce' : 'Serum',\n",
        "    'Amazon.com: Customer reviews: La Roche-Posay Pure Retinol Face Serum with Vitamin B3. Anti Aging Face Serum for Lines, Wrinkles &amp; Premature Sun Damage to Resurface &amp; Hydrate. Suitable for Sensitive Skin, 1.0 Fl. Oz' : 'Serum',\n",
        "\n",
        "    # dry skin\n",
        "    'Amazon.com: Customer reviews: CeraVe Hydrating Facial Cleanser | Moisturizing Non-Foaming Face Wash with Hyaluronic Acid, Ceramides and Glycerin | Fragrance Free Paraben Free | 16 Fluid Ounce' : 'Cleanser',\n",
        "    'Amazon.com: Customer reviews: La Roche-Posay Toleriane Hydrating Gentle Face Cleanser, Daily Facial Cleanser with Niacinamide and Ceramides for Sensitive Skin, Moisturizing Face Wash for Normal to Dry Skin, Fragrance Free' : 'Cleanser',\n",
        "    'Amazon.com: Customer reviews: CeraVe Daily Moisturizing Lotion for Dry Skin | Body Lotion &amp; Facial Moisturizer with Hyaluronic Acid and Ceramides | Fragrance Free | 19 Ounce' : 'Moisturizer',\n",
        "    'Amazon.com: Customer reviews: La Roche-Posay Toleriane Double Repair Face Moisturizer, Daily Moisturizer Face Cream with Ceramide and Niacinamide for All Skin Types, Oil Free, Fragrance Free' : 'Moisturizer',\n",
        "    'Amazon.com: Customer reviews: Cerave Hyaluronic Acid Serum for Face with Vitamin B5 and Ceramides | Hydrating Face Serum for Dry Skin | Fragrance Free | 1 Ounce' : 'Serum',\n",
        "    'Amazon.com: Customer reviews: La Roche-Posay Hyalu B5 Pure Hyaluronic Acid Serum for Face, with Vitamin B5, Anti-Aging Serum for Fine Lines and Wrinkles, Hydrating Serum to Plump and Repair Dry Skin, Safe on Sensitive Skin' : 'Serum',\n",
        "}\n",
        "\n",
        "# Map 'product' column values to 'skin_concerns' based on the dictionary\n",
        "df['Skin Concern'] = df['Product'].map(product_to_skin_concern)\n",
        "df['Brand'] = df['Product'].map(product_to_brand)\n",
        "df['Product Type'] = df['Product'].map(product_to_product_type)\n"
      ],
      "metadata": {
        "id": "gdp2zFzhEU0V"
      },
      "execution_count": null,
      "outputs": []
    },
    {
      "cell_type": "markdown",
      "source": [
        "### **5.3 Drop Unnecessary Columns**"
      ],
      "metadata": {
        "id": "rEsCgb7pljkI"
      }
    },
    {
      "cell_type": "code",
      "source": [
        "# Drop the not needed columns for analysis\n",
        "df.drop(columns = ['Product'], inplace = True)\n",
        "df.drop(columns = ['Helpful Count'], inplace = True)"
      ],
      "metadata": {
        "id": "avWBasNIEU20"
      },
      "execution_count": null,
      "outputs": []
    },
    {
      "cell_type": "markdown",
      "source": [
        "### **5.4 Split Date Column**"
      ],
      "metadata": {
        "id": "zOaTqEUwlzZc"
      }
    },
    {
      "cell_type": "code",
      "source": [
        "# Split the 'Date' column into day, month, and year\n",
        "df[['Day', 'Month', 'Year']] = df['Date'].str.split('/', expand=True)\n",
        "df=df.drop(['Date'], axis=1)"
      ],
      "metadata": {
        "id": "2cmH1aM6q_qs"
      },
      "execution_count": null,
      "outputs": []
    },
    {
      "cell_type": "markdown",
      "source": [
        "### **5.5 Concatenate Title with Review**"
      ],
      "metadata": {
        "id": "Aj5fUOzTl8Gj"
      }
    },
    {
      "cell_type": "code",
      "source": [
        "# Extract subtitle from 'Title' column and concatenate with main review text\n",
        "df['Title'] = df['Title'].apply(lambda x: x.split('\\n')[1] if '\\n' in x else '')\n",
        "df['Review'] = df['Review']+df['Title']\n",
        "df = df.drop(['Title'], axis=1)"
      ],
      "metadata": {
        "id": "w4bMDyJ_EU7m"
      },
      "execution_count": null,
      "outputs": []
    },
    {
      "cell_type": "markdown",
      "source": [
        "### **5.6 Translate Non-English Reviews**"
      ],
      "metadata": {
        "id": "O58FVuAqnoaU"
      }
    },
    {
      "cell_type": "code",
      "source": [
        "!pip install langdetect\n",
        "!pip install googletrans==4.0.0-rc1"
      ],
      "metadata": {
        "id": "H3bx1xV3FI7Q"
      },
      "execution_count": null,
      "outputs": []
    },
    {
      "cell_type": "code",
      "source": [
        "from googletrans import Translator\n",
        "import pandas as pd\n",
        "from langdetect import detect\n",
        "\n",
        "# Load your DataFrame (assuming it's named 'df')\n",
        "# df = pd.read_csv('your_dataset.csv')\n",
        "\n",
        "# Initialize the translator\n",
        "translator = Translator()\n",
        "\n",
        "# Function to translate non-English reviews to English\n",
        "def translate_to_english(review):\n",
        "    try:\n",
        "        language = detect(review)\n",
        "        if language != 'en':\n",
        "            translated_review = translator.translate(review, src=language, dest='en').text\n",
        "            return translated_review\n",
        "        else:\n",
        "            return review\n",
        "    except:\n",
        "        return review\n",
        "\n",
        "# Check and translate non-English reviews in the 'review' column\n",
        "df['Review'] = df['Review'].apply(lambda x: translate_to_english(x) if isinstance(x, str) else x)"
      ],
      "metadata": {
        "id": "6ijbVTYrFI9o"
      },
      "execution_count": null,
      "outputs": []
    },
    {
      "cell_type": "markdown",
      "source": [
        "Export Translated Dataset"
      ],
      "metadata": {
        "id": "0pCDBLqXn1l7"
      }
    },
    {
      "cell_type": "code",
      "source": [
        "# OUTPUT FOR CSV\n",
        "# Define the path where the translated DataFrame want to be saved\n",
        "output_path = '/content/drive/MyDrive/Colab Notebooks/MP1_ProductReview/MP2_translated_reviews.csv'\n",
        "\n",
        "# Export the DataFrame to a CSV file\n",
        "df.to_csv(output_path, index=False)\n",
        "\n",
        "# Display the exported path\n",
        "print(f\"Cleaned csv data has been exported to: {output_path}\")\n",
        "\n",
        "# FOR XLSX\n",
        "# Define the path where the translated DataFrame wants to be saved\n",
        "output_path = '/content/drive/MyDrive/Colab Notebooks/MP1_ProductReview/MP2_translared_data.xlsx'\n",
        "\n",
        "# Export the DataFrame to an Excel file\n",
        "df.to_excel(output_path, index=False)\n",
        "\n",
        "# Display the exported path\n",
        "print(f\"Cleaned xlsx data has been exported to: {output_path}\")"
      ],
      "metadata": {
        "id": "CUWWGiNbrapC"
      },
      "execution_count": null,
      "outputs": []
    },
    {
      "cell_type": "markdown",
      "source": [
        "## **6.0 Data Pre-Processing**"
      ],
      "metadata": {
        "id": "VVgdK3MboBXF"
      }
    },
    {
      "cell_type": "markdown",
      "source": [
        "### **6.1 Data Cleaning**"
      ],
      "metadata": {
        "id": "TbvZEGJME0_u"
      }
    },
    {
      "cell_type": "code",
      "source": [
        "# Remove rows that contain empty cells\n",
        "df.dropna(inplace = True)\n",
        "\n",
        "# Remove duplicates\n",
        "df.drop_duplicates(inplace = True)"
      ],
      "metadata": {
        "id": "2weH01C0EVAD"
      },
      "execution_count": null,
      "outputs": []
    },
    {
      "cell_type": "code",
      "source": [
        "df.shape"
      ],
      "metadata": {
        "id": "EtCPyl0CEVCS"
      },
      "execution_count": null,
      "outputs": []
    },
    {
      "cell_type": "markdown",
      "source": [
        "### **6.2 Case Folding**"
      ],
      "metadata": {
        "id": "F20T_h1NZ48T"
      }
    },
    {
      "cell_type": "code",
      "source": [
        "# Convert the 'review' column to lowercase\n",
        "df['Review'] = df['Review'].str.lower()\n",
        "df"
      ],
      "metadata": {
        "id": "92CjOnglFJCp"
      },
      "execution_count": null,
      "outputs": []
    },
    {
      "cell_type": "markdown",
      "source": [
        "Adding Additional Features - length of, and percentage of punctuations in the text"
      ],
      "metadata": {
        "id": "Odo2wy_clLSj"
      }
    },
    {
      "cell_type": "code",
      "source": [
        "def count_punct(text):\n",
        "    count = sum([1 for char in text if char in string.punctuation])\n",
        "    return round(count/(len(text) - text.count(\" \")), 3)*100\n",
        "\n",
        "df['Review Len'] = df['Review'].apply(lambda x: len(x) - x.count(\" \"))\n",
        "df['Word Count'] = df['Review'].apply(lambda x: len(str(x).split()))\n",
        "df['Punct'] = df['Review'].apply(lambda x: count_punct(x))"
      ],
      "metadata": {
        "id": "q6nNXL--55nF"
      },
      "execution_count": null,
      "outputs": []
    },
    {
      "cell_type": "markdown",
      "source": [
        "### **6.3 Tokenization**"
      ],
      "metadata": {
        "id": "nTZqJ8iNaAVn"
      }
    },
    {
      "cell_type": "code",
      "source": [
        "import nltk\n",
        "from nltk.tokenize import word_tokenize\n",
        "nltk.download('punkt')"
      ],
      "metadata": {
        "id": "KPfzEtJdFJFC"
      },
      "execution_count": null,
      "outputs": []
    },
    {
      "cell_type": "code",
      "source": [
        "# Tokenize the 'review' column\n",
        "df['Tokens'] = df['Review'].apply(word_tokenize)"
      ],
      "metadata": {
        "id": "n3HeL-pbFJHP"
      },
      "execution_count": null,
      "outputs": []
    },
    {
      "cell_type": "markdown",
      "source": [
        "### **6.4 Punctuation and Stopword Removal**"
      ],
      "metadata": {
        "id": "EbumEMR-bH8w"
      }
    },
    {
      "cell_type": "code",
      "source": [
        "import string\n",
        "import nltk\n",
        "from nltk.corpus import stopwords\n",
        "import requests"
      ],
      "metadata": {
        "id": "md-BNFTKuhv3"
      },
      "execution_count": null,
      "outputs": []
    },
    {
      "cell_type": "code",
      "source": [
        "# Download NLTK stopwords\n",
        "nltk.download('stopwords')\n",
        "\n",
        "# Download the stopwords file from GitHub\n",
        "stopwords_url = \"https://raw.githubusercontent.com/stopwords-iso/stopwords-en/master/stopwords-en.txt\"\n",
        "response = requests.get(stopwords_url)\n",
        "stopwords_text = response.text\n",
        "\n",
        "# Download the custom stopwords file from your repository\n",
        "custom_stopwords_url = \"https://raw.githubusercontent.com/rnabilahusna/MP_ProductReview/main/stopwords-custom.txt\"\n",
        "custom_response = requests.get(custom_stopwords_url)\n",
        "custom_stopwords_text = custom_response.text\n",
        "\n",
        "# Define additional custom stopwords\n",
        "additional_stopwords = [\"product\", \"leaf\", \"feel\", \"not\"]\n",
        "\n",
        "# Combine the stopwords from both URLs and add custom stopwords\n",
        "all_stopwords = set(stopwords.words('english') + stopwords_text.splitlines() + custom_stopwords_text.splitlines() + additional_stopwords)\n",
        "all_stopwords.remove('not')\n",
        "\n",
        "# Function to remove punctuation\n",
        "def remove_punctuation(text):\n",
        "    translator = str.maketrans('', '', string.punctuation + '’')  # Include the smart quote character\n",
        "    # Remove punctuation\n",
        "    text = [word.translate(translator) for word in text]\n",
        "    # Remove empty strings\n",
        "    text = [word for word in text if word]  # Filter out empty strings\n",
        "    return text\n",
        "\n",
        "# Function to remove stopwords\n",
        "def remove_stopwords(tokens):\n",
        "    return [word for word in tokens if word.lower() not in all_stopwords]\n",
        "\n",
        "# Apply punctuation removal followed by stopwords removal to the \"tokens\" column\n",
        "df['NoStopW Tokens'] = df['Tokens'].apply(remove_punctuation)\n",
        "df['NoStopW Tokens'] = df['NoStopW Tokens'].apply(remove_stopwords)"
      ],
      "metadata": {
        "id": "UkivuQFPbM7B"
      },
      "execution_count": null,
      "outputs": []
    },
    {
      "cell_type": "markdown",
      "source": [
        "### **6.5 Lemmatization and Stemming**"
      ],
      "metadata": {
        "id": "WkuEkWCZRuqR"
      }
    },
    {
      "cell_type": "code",
      "source": [
        "import nltk\n",
        "from nltk.stem import PorterStemmer\n",
        "from nltk.stem import WordNetLemmatizer\n",
        "nltk.download('wordnet')"
      ],
      "metadata": {
        "id": "fUOd-cCFFJJw"
      },
      "execution_count": null,
      "outputs": []
    },
    {
      "cell_type": "code",
      "source": [
        "# Initialize WordNet lemmatizer and Porter stemmer\n",
        "lemmatizer = WordNetLemmatizer()\n",
        "stemmer = PorterStemmer()\n",
        "\n",
        "# Define a function to lemmatize tokens\n",
        "def lemmatize_tokens(tokens):\n",
        "    return [lemmatizer.lemmatize(word) for word in tokens]\n",
        "\n",
        "# Define a function to stem tokens\n",
        "def stem_tokens(tokens):\n",
        "    return [stemmer.stem(word) for word in tokens]\n",
        "\n",
        "# Apply lemmatization and stemming to each row in the 'NoPunc Tokenized Review' column\n",
        "df['Lemmatized Tokens'] = df['NoStopW Tokens'].apply(lemmatize_tokens)\n",
        "df['Stemmed Tokens'] = df['NoStopW Tokens'].apply(stem_tokens)"
      ],
      "metadata": {
        "id": "mAaLK1JrFJMd"
      },
      "execution_count": null,
      "outputs": []
    },
    {
      "cell_type": "code",
      "source": [
        "df.head(5)"
      ],
      "metadata": {
        "id": "GMbYo0r5FJPM"
      },
      "execution_count": null,
      "outputs": []
    },
    {
      "cell_type": "markdown",
      "source": [
        "Export Cleaned Data"
      ],
      "metadata": {
        "id": "AtKNAyI7o_Xr"
      }
    },
    {
      "cell_type": "code",
      "source": [
        "# FOR CSV\n",
        "# Define the path where the cleaned DataFrame want to be saved\n",
        "output_path = '/content/drive/MyDrive/Colab Notebooks/MP1_ProductReview/MP2_cleaned_data.csv'\n",
        "\n",
        "# Export the DataFrame to a CSV file\n",
        "df.to_csv(output_path, index=False)\n",
        "\n",
        "# Display the exported path\n",
        "print(f\"Cleaned csv data has been exported to: {output_path}\")\n",
        "\n",
        "# FOR XLSX\n",
        "# Define the path where the cleaned DataFrame wants to be saved\n",
        "output_path = '/content/drive/MyDrive/Colab Notebooks/MP1_ProductReview/MP2_cleaned_data.xlsx'\n",
        "\n",
        "# Export the DataFrame to an Excel file\n",
        "df.to_excel(output_path, index=False)\n",
        "\n",
        "# Display the exported path\n",
        "print(f\"Cleaned xlsx data has been exported to: {output_path}\")"
      ],
      "metadata": {
        "id": "TbogFumfFJRX"
      },
      "execution_count": null,
      "outputs": []
    },
    {
      "cell_type": "markdown",
      "source": [
        "Import cleaned data"
      ],
      "metadata": {
        "id": "7Z0MzGDMfvhU"
      }
    },
    {
      "cell_type": "code",
      "source": [
        "# Specify the path to the concatenated file\n",
        "concatenated_file_path = '/content/drive/MyDrive/Colab Notebooks/MP2_cleaned_data.csv'\n",
        "\n",
        "# Load the concatenated file into a DataFrame\n",
        "cleaned_amazon_reviews = pd.read_csv(concatenated_file_path)\n",
        "\n",
        "# Make a copy of raw data into a df DataFrame\n",
        "df = cleaned_amazon_reviews.copy()"
      ],
      "metadata": {
        "id": "5nNTPIgVfalu"
      },
      "execution_count": null,
      "outputs": []
    },
    {
      "cell_type": "markdown",
      "source": [
        "## **7.0 Exploratory Data Analysis**\n",
        "\n",
        "### **7.1 Data Overview**"
      ],
      "metadata": {
        "id": "TgC9GZDryKFO"
      }
    },
    {
      "cell_type": "code",
      "source": [
        "# Data Overview\n",
        "print(\"Data Overview:\")\n",
        "df.head()"
      ],
      "metadata": {
        "id": "OVvjxnnsFJXc"
      },
      "execution_count": null,
      "outputs": []
    },
    {
      "cell_type": "code",
      "source": [
        "print(\"\\nInformation about the data:\")\n",
        "df.info()"
      ],
      "metadata": {
        "id": "KudCcic7EVEd"
      },
      "execution_count": null,
      "outputs": []
    },
    {
      "cell_type": "markdown",
      "source": [
        "### **7.2 Statistical Summary**"
      ],
      "metadata": {
        "id": "scHOQasAya2v"
      }
    },
    {
      "cell_type": "markdown",
      "source": [
        "### **7.2.1 Descriptive Statistics**"
      ],
      "metadata": {
        "id": "-DYNY-cZyd78"
      }
    },
    {
      "cell_type": "code",
      "source": [
        "# Frequency distribution for 'rating'\n",
        "rating_counts = df['Rating'].value_counts()\n",
        "\n",
        "# Mode for 'rating'\n",
        "mode_rating = df['Rating'].mode().iloc[0]\n",
        "\n",
        "# Median for 'rating'\n",
        "median_rating = df['Rating'].median()\n",
        "\n",
        "# Range for 'rating'\n",
        "rating_range = df['Rating'].max() - df['Rating'].min()\n",
        "\n",
        "# Display the results\n",
        "print(f\"Mode: {mode_rating}\")\n",
        "print(f\"Median: {median_rating}\")\n",
        "print(f\"Range: {rating_range}\")\n",
        "print(\"\\nRating Descriptive Statistics:\")\n",
        "print(\"Frequency Distribution:\")\n",
        "print(rating_counts)"
      ],
      "metadata": {
        "id": "riyd_cXfEVG4"
      },
      "execution_count": null,
      "outputs": []
    },
    {
      "cell_type": "code",
      "source": [
        "# Specify numerical columns\n",
        "numerical_columns = ['Review Len', 'Word Count']\n",
        "\n",
        "# Statistical Summary for Numerical Columns\n",
        "print(\"\\nStatistical Summary for Numerical Columns:\")\n",
        "df[numerical_columns].describe()"
      ],
      "metadata": {
        "id": "YK5-1ajVyZKa"
      },
      "execution_count": null,
      "outputs": []
    },
    {
      "cell_type": "markdown",
      "source": [
        "### **7.2.2 Non-Parametric Test**"
      ],
      "metadata": {
        "id": "BoKicf_7p97R"
      }
    },
    {
      "cell_type": "code",
      "source": [
        "from scipy.stats import mannwhitneyu\n",
        "\n",
        "# To assess whether there's a significant difference in the distribution of ratings between two brands (independent samples).\n",
        "\n",
        "# Separate ratings for each brand\n",
        "cerave_ratings = df[df['Brand'] == 'CeraVe']['Rating']\n",
        "larocheposay_ratings = df[df['Brand'] == 'La Roche-Posay']['Rating']\n",
        "\n",
        "# Mann-Whitney U Test\n",
        "statistic, p_value = mannwhitneyu(cerave_ratings, larocheposay_ratings)\n",
        "\n",
        "# Display the results\n",
        "print(\"\\nMann-Whitney U Test:\")\n",
        "print(f\"Test Statistic: {statistic}\")\n",
        "print(f\"P-Value: {p_value}\")\n",
        "\n",
        "# Interpret the results\n",
        "alpha = 0.05\n",
        "if p_value < alpha:\n",
        "    print(\"The difference in ratings between CeraVe and La Roche-Posay is statistically significant.\")\n",
        "else:\n",
        "    print(\"There is no statistically significant difference in ratings between CeraVe and La Roche-Posay.\")"
      ],
      "metadata": {
        "id": "7ZUJ7vG6yZEq"
      },
      "execution_count": null,
      "outputs": []
    },
    {
      "cell_type": "markdown",
      "source": [
        "### **7.3 Review Text Length Distribution**"
      ],
      "metadata": {
        "id": "RgMK-V7R9ELn"
      }
    },
    {
      "cell_type": "markdown",
      "source": [
        "### **7.3.1 CeraVe - Review Text Length**"
      ],
      "metadata": {
        "id": "QZPgXNDtsXbl"
      }
    },
    {
      "cell_type": "code",
      "source": [
        "# CeraVe\n",
        "\n",
        "import matplotlib.pyplot as plt\n",
        "\n",
        "# Filter the DataFrame for brand 'CeraVe'\n",
        "df_cerave = df[df['Brand'] == 'CeraVe']\n",
        "\n",
        "# Filter out rows with empty review text\n",
        "df_cerave_filtered = df_cerave.dropna(subset=['Review Len'])\n",
        "\n",
        "# Plot the histogram\n",
        "plt.figure(figsize=(10, 6))\n",
        "plt.hist(df_cerave_filtered['Review Len'], bins=100, color='skyblue', edgecolor='black')\n",
        "plt.title('CeraVe Review Text Length Distribution')\n",
        "plt.xlabel('Review Text Length')\n",
        "plt.ylabel('Frequency')\n",
        "plt.grid(axis='y', linestyle='--', alpha=0.7)\n",
        "plt.show()"
      ],
      "metadata": {
        "id": "kKTZL-Tz9An8"
      },
      "execution_count": null,
      "outputs": []
    },
    {
      "cell_type": "markdown",
      "source": [
        "### **7.3.2 La Roche-Posay - Review Text Length**"
      ],
      "metadata": {
        "id": "0ouhaGBiseZO"
      }
    },
    {
      "cell_type": "code",
      "source": [
        "# La Roche-Posay\n",
        "# Filter the DataFrame for brand 'La Roche-Posay'\n",
        "df_lrp = df[df['Brand'] == 'La Roche-Posay']\n",
        "\n",
        "# Filter out rows with empty review text\n",
        "df_lrp_filtered = df_lrp.dropna(subset=['Review Len'])\n",
        "\n",
        "# Plot the histogram\n",
        "plt.figure(figsize=(10, 6))\n",
        "plt.hist(df_lrp_filtered['Review Len'], bins=100, color='skyblue', edgecolor='black')\n",
        "plt.title('La Roche-Posay Review Text Length Distribution')\n",
        "plt.xlabel('Review Text Length')\n",
        "plt.ylabel('Frequency')\n",
        "plt.grid(axis='y', linestyle='--', alpha=0.7)\n",
        "plt.show()"
      ],
      "metadata": {
        "id": "3cMb3cEQ9Rkg"
      },
      "execution_count": null,
      "outputs": []
    },
    {
      "cell_type": "markdown",
      "source": [
        "## **8.0 Sentiment Analysis**"
      ],
      "metadata": {
        "id": "TmfBleqA5KS6"
      }
    },
    {
      "cell_type": "markdown",
      "source": [
        "Creating 'Rating Class' Column"
      ],
      "metadata": {
        "id": "lDdMcHJh72jR"
      }
    },
    {
      "cell_type": "code",
      "source": [
        "# Figuring out the distribution of categories\n",
        "df['Rating'].value_counts()"
      ],
      "metadata": {
        "id": "F05gtvag6HOF"
      },
      "execution_count": null,
      "outputs": []
    },
    {
      "cell_type": "code",
      "source": [
        "# Deciding the outcome column (product rating) based on the overall score.\n",
        "# If the score is greater than 3, we take that as high-rated rating\n",
        "# If the value is less than 3 it is low-rated\n",
        "# If it is equal to 3, we take that as moderate-rated rating.\n",
        "\n",
        "def classify_rating(row):\n",
        "    if row['Rating'] == 3.0:\n",
        "        val = 'Moderate-rated'\n",
        "    elif row['Rating'] == 1.0 or row['Rating'] == 2.0:\n",
        "        val = 'Low-rated'\n",
        "    elif row['Rating'] == 4.0 or row['Rating'] == 5.0:\n",
        "        val = 'High-rated'\n",
        "    else:\n",
        "        val = -1\n",
        "    return val\n",
        "\n",
        "# Applying the function in our new column\n",
        "# sentiment -> rating_class\n",
        "df['Rating Class'] = df.apply(classify_rating, axis=1)"
      ],
      "metadata": {
        "id": "BR9Osvnm6HRJ"
      },
      "execution_count": null,
      "outputs": []
    },
    {
      "cell_type": "code",
      "source": [
        "df['Rating Class'].value_counts()"
      ],
      "metadata": {
        "id": "Y83-7WTW6HUN"
      },
      "execution_count": null,
      "outputs": []
    },
    {
      "cell_type": "markdown",
      "source": [
        "### **8.1 TextBlob**"
      ],
      "metadata": {
        "id": "e4oEz2QW97gm"
      }
    },
    {
      "cell_type": "code",
      "source": [
        "from textblob import TextBlob\n",
        "\n",
        "# Function to get sentiment polarity from a text\n",
        "def get_sentiment_polarity(text):\n",
        "    analysis = TextBlob(str(text))\n",
        "    return analysis.sentiment.polarity\n",
        "\n",
        "# Apply sentiment analysis to the 'body' column\n",
        "df['polarity_score'] = df['lemmatized_review'].apply(get_sentiment_polarity)"
      ],
      "metadata": {
        "id": "FI7fCpvE6HWc"
      },
      "execution_count": null,
      "outputs": []
    },
    {
      "cell_type": "code",
      "source": [
        "# Function to get sentiment label based on polarity score\n",
        "def get_sentiment_label(score):\n",
        "    if score < 0:\n",
        "        return 'Negative'\n",
        "    elif score == 0:\n",
        "        return 'Neutral'\n",
        "    else:\n",
        "        return 'Positive'\n",
        "\n",
        "# Example: Apply sentiment label to the 'polarity_score' column\n",
        "df['sentiment_label'] = df['polarity_score'].apply(get_sentiment_label)"
      ],
      "metadata": {
        "id": "0bWC6mjyuE9Q"
      },
      "execution_count": null,
      "outputs": []
    },
    {
      "cell_type": "code",
      "source": [],
      "metadata": {
        "id": "TBcENx1HuFBM"
      },
      "execution_count": null,
      "outputs": []
    },
    {
      "cell_type": "code",
      "source": [],
      "metadata": {
        "id": "W12Ra4nNuFGM"
      },
      "execution_count": null,
      "outputs": []
    },
    {
      "cell_type": "code",
      "source": [],
      "metadata": {
        "id": "anaPF2souFIc"
      },
      "execution_count": null,
      "outputs": []
    },
    {
      "cell_type": "code",
      "source": [],
      "metadata": {
        "id": "QCEZjmMUuFK3"
      },
      "execution_count": null,
      "outputs": []
    },
    {
      "cell_type": "code",
      "source": [],
      "metadata": {
        "id": "xhmHs7EiuFNb"
      },
      "execution_count": null,
      "outputs": []
    },
    {
      "cell_type": "code",
      "source": [],
      "metadata": {
        "id": "-vYwSzTauFnl"
      },
      "execution_count": null,
      "outputs": []
    },
    {
      "cell_type": "code",
      "source": [],
      "metadata": {
        "id": "iMbpiUfhuFqF"
      },
      "execution_count": null,
      "outputs": []
    },
    {
      "cell_type": "code",
      "source": [],
      "metadata": {
        "id": "313Q0A7kuFsM"
      },
      "execution_count": null,
      "outputs": []
    }
  ]
}
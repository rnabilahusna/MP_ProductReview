{
  "nbformat": 4,
  "nbformat_minor": 0,
  "metadata": {
    "colab": {
      "provenance": [],
      "authorship_tag": "ABX9TyOio8e57dD5EbK5rsKGb9VK",
      "include_colab_link": true
    },
    "kernelspec": {
      "name": "python3",
      "display_name": "Python 3"
    },
    "language_info": {
      "name": "python"
    }
  },
  "cells": [
    {
      "cell_type": "markdown",
      "metadata": {
        "id": "view-in-github",
        "colab_type": "text"
      },
      "source": [
        "<a href=\"https://colab.research.google.com/github/rnabilahusna/MP_ProductReview/blob/main/MP2_sentiment_analysis_skincare_product_reviews.ipynb\" target=\"_parent\"><img src=\"https://colab.research.google.com/assets/colab-badge.svg\" alt=\"Open In Colab\"/></a>"
      ]
    },
    {
      "cell_type": "markdown",
      "source": [
        "# **SENTIMENT ANALYSIS ON SKINCARE PRODUCT REVIEWS IN AMAZON PLAFORM**"
      ],
      "metadata": {
        "id": "FsVcmWSG5l7b"
      }
    },
    {
      "cell_type": "markdown",
      "source": [
        "## **1.0 Mount Drive**"
      ],
      "metadata": {
        "id": "MIBeyC2zhfls"
      }
    },
    {
      "cell_type": "code",
      "execution_count": 2,
      "metadata": {
        "colab": {
          "base_uri": "https://localhost:8080/"
        },
        "id": "KuQoN6YzDHPP",
        "outputId": "1de7c9da-7c86-4e78-c37c-eec180ee4b7d"
      },
      "outputs": [
        {
          "output_type": "stream",
          "name": "stdout",
          "text": [
            "Drive already mounted at /content/drive; to attempt to forcibly remount, call drive.mount(\"/content/drive\", force_remount=True).\n"
          ]
        }
      ],
      "source": [
        "from google.colab import drive\n",
        "drive.mount('/content/drive')"
      ]
    },
    {
      "cell_type": "markdown",
      "source": [
        "## **2.0 Import Neccessary Libraries**"
      ],
      "metadata": {
        "id": "zATQ8LuuhlWL"
      }
    },
    {
      "cell_type": "code",
      "source": [
        "import pandas as pd\n",
        "import numpy as np\n",
        "import matplotlib.pyplot as plt\n",
        "import seaborn as sns\n",
        "import string\n",
        "import re\n",
        "from sklearn.metrics import confusion_matrix, classification_report\n",
        "%matplotlib inline\n",
        "sns.set_style(\"whitegrid\")\n",
        "\n",
        "#set warning\n",
        "import warnings\n",
        "warnings.filterwarnings('ignore')\n",
        "\n",
        "pd.pandas.set_option('display.max_columns', None)"
      ],
      "metadata": {
        "id": "E4CS-WD1EUvu"
      },
      "execution_count": 3,
      "outputs": []
    },
    {
      "cell_type": "markdown",
      "source": [
        "## **3.0 Load Data**"
      ],
      "metadata": {
        "id": "7KajlJ8YhsYz"
      }
    },
    {
      "cell_type": "code",
      "source": [
        "# Specify the path to the concatenated file\n",
        "concatenated_file_path = '/content/drive/MyDrive/Colab Notebooks/MP1_ProductReview/concatenated_data_new.csv'\n",
        "\n",
        "# Load the concatenated file into a DataFrame\n",
        "amazon_reviews = pd.read_csv(concatenated_file_path)\n",
        "\n",
        "# Make a copy of raw data into a df DataFrame\n",
        "df = amazon_reviews.copy()"
      ],
      "metadata": {
        "id": "hVnQ2BbAEUx5"
      },
      "execution_count": 3,
      "outputs": []
    },
    {
      "cell_type": "code",
      "source": [
        "# Output data\n",
        "df.head(5)"
      ],
      "metadata": {
        "colab": {
          "base_uri": "https://localhost:8080/",
          "height": 379
        },
        "id": "7otDLUi4U79H",
        "outputId": "06941f83-3474-4015-f18e-b66c60d45efc"
      },
      "execution_count": 4,
      "outputs": [
        {
          "output_type": "execute_result",
          "data": {
            "text/plain": [
              "                                             product        date  \\\n",
              "0  Amazon.com: Customer reviews: CeraVe Foaming F...  28/07/2021   \n",
              "1  Amazon.com: Customer reviews: CeraVe Foaming F...  23/07/2023   \n",
              "2  Amazon.com: Customer reviews: CeraVe Foaming F...  03/03/2022   \n",
              "3  Amazon.com: Customer reviews: CeraVe Foaming F...  28/06/2020   \n",
              "4  Amazon.com: Customer reviews: CeraVe Foaming F...  10/12/2023   \n",
              "\n",
              "                                               title  rating  \\\n",
              "0  1.0 out of 5 stars\\nthere’s no way these revie...     1.0   \n",
              "1               1.0 out of 5 stars\\nNot paraben free     1.0   \n",
              "2  1.0 out of 5 stars\\nCaused reaction- proceed w...     1.0   \n",
              "3                         1.0 out of 5 stars\\nSlimey     1.0   \n",
              "4               1.0 out of 5 stars\\nProducto abierto     1.0   \n",
              "\n",
              "                                                body  helpful_count  \n",
              "0  I bought this because I’ve had really oily ski...              2  \n",
              "1  I don’t understand how these brand name compan...              3  \n",
              "2  Bought this for my child to use as a face wash...             10  \n",
              "3  So, you know that slime you make when you mix ...              6  \n",
              "4  El producto venía abierto y quedó todo el líqu...              0  "
            ],
            "text/html": [
              "\n",
              "  <div id=\"df-7ac7851d-0dd8-47db-9ec7-65d87d1d83b8\" class=\"colab-df-container\">\n",
              "    <div>\n",
              "<style scoped>\n",
              "    .dataframe tbody tr th:only-of-type {\n",
              "        vertical-align: middle;\n",
              "    }\n",
              "\n",
              "    .dataframe tbody tr th {\n",
              "        vertical-align: top;\n",
              "    }\n",
              "\n",
              "    .dataframe thead th {\n",
              "        text-align: right;\n",
              "    }\n",
              "</style>\n",
              "<table border=\"1\" class=\"dataframe\">\n",
              "  <thead>\n",
              "    <tr style=\"text-align: right;\">\n",
              "      <th></th>\n",
              "      <th>product</th>\n",
              "      <th>date</th>\n",
              "      <th>title</th>\n",
              "      <th>rating</th>\n",
              "      <th>body</th>\n",
              "      <th>helpful_count</th>\n",
              "    </tr>\n",
              "  </thead>\n",
              "  <tbody>\n",
              "    <tr>\n",
              "      <th>0</th>\n",
              "      <td>Amazon.com: Customer reviews: CeraVe Foaming F...</td>\n",
              "      <td>28/07/2021</td>\n",
              "      <td>1.0 out of 5 stars\\nthere’s no way these revie...</td>\n",
              "      <td>1.0</td>\n",
              "      <td>I bought this because I’ve had really oily ski...</td>\n",
              "      <td>2</td>\n",
              "    </tr>\n",
              "    <tr>\n",
              "      <th>1</th>\n",
              "      <td>Amazon.com: Customer reviews: CeraVe Foaming F...</td>\n",
              "      <td>23/07/2023</td>\n",
              "      <td>1.0 out of 5 stars\\nNot paraben free</td>\n",
              "      <td>1.0</td>\n",
              "      <td>I don’t understand how these brand name compan...</td>\n",
              "      <td>3</td>\n",
              "    </tr>\n",
              "    <tr>\n",
              "      <th>2</th>\n",
              "      <td>Amazon.com: Customer reviews: CeraVe Foaming F...</td>\n",
              "      <td>03/03/2022</td>\n",
              "      <td>1.0 out of 5 stars\\nCaused reaction- proceed w...</td>\n",
              "      <td>1.0</td>\n",
              "      <td>Bought this for my child to use as a face wash...</td>\n",
              "      <td>10</td>\n",
              "    </tr>\n",
              "    <tr>\n",
              "      <th>3</th>\n",
              "      <td>Amazon.com: Customer reviews: CeraVe Foaming F...</td>\n",
              "      <td>28/06/2020</td>\n",
              "      <td>1.0 out of 5 stars\\nSlimey</td>\n",
              "      <td>1.0</td>\n",
              "      <td>So, you know that slime you make when you mix ...</td>\n",
              "      <td>6</td>\n",
              "    </tr>\n",
              "    <tr>\n",
              "      <th>4</th>\n",
              "      <td>Amazon.com: Customer reviews: CeraVe Foaming F...</td>\n",
              "      <td>10/12/2023</td>\n",
              "      <td>1.0 out of 5 stars\\nProducto abierto</td>\n",
              "      <td>1.0</td>\n",
              "      <td>El producto venía abierto y quedó todo el líqu...</td>\n",
              "      <td>0</td>\n",
              "    </tr>\n",
              "  </tbody>\n",
              "</table>\n",
              "</div>\n",
              "    <div class=\"colab-df-buttons\">\n",
              "\n",
              "  <div class=\"colab-df-container\">\n",
              "    <button class=\"colab-df-convert\" onclick=\"convertToInteractive('df-7ac7851d-0dd8-47db-9ec7-65d87d1d83b8')\"\n",
              "            title=\"Convert this dataframe to an interactive table.\"\n",
              "            style=\"display:none;\">\n",
              "\n",
              "  <svg xmlns=\"http://www.w3.org/2000/svg\" height=\"24px\" viewBox=\"0 -960 960 960\">\n",
              "    <path d=\"M120-120v-720h720v720H120Zm60-500h600v-160H180v160Zm220 220h160v-160H400v160Zm0 220h160v-160H400v160ZM180-400h160v-160H180v160Zm440 0h160v-160H620v160ZM180-180h160v-160H180v160Zm440 0h160v-160H620v160Z\"/>\n",
              "  </svg>\n",
              "    </button>\n",
              "\n",
              "  <style>\n",
              "    .colab-df-container {\n",
              "      display:flex;\n",
              "      gap: 12px;\n",
              "    }\n",
              "\n",
              "    .colab-df-convert {\n",
              "      background-color: #E8F0FE;\n",
              "      border: none;\n",
              "      border-radius: 50%;\n",
              "      cursor: pointer;\n",
              "      display: none;\n",
              "      fill: #1967D2;\n",
              "      height: 32px;\n",
              "      padding: 0 0 0 0;\n",
              "      width: 32px;\n",
              "    }\n",
              "\n",
              "    .colab-df-convert:hover {\n",
              "      background-color: #E2EBFA;\n",
              "      box-shadow: 0px 1px 2px rgba(60, 64, 67, 0.3), 0px 1px 3px 1px rgba(60, 64, 67, 0.15);\n",
              "      fill: #174EA6;\n",
              "    }\n",
              "\n",
              "    .colab-df-buttons div {\n",
              "      margin-bottom: 4px;\n",
              "    }\n",
              "\n",
              "    [theme=dark] .colab-df-convert {\n",
              "      background-color: #3B4455;\n",
              "      fill: #D2E3FC;\n",
              "    }\n",
              "\n",
              "    [theme=dark] .colab-df-convert:hover {\n",
              "      background-color: #434B5C;\n",
              "      box-shadow: 0px 1px 3px 1px rgba(0, 0, 0, 0.15);\n",
              "      filter: drop-shadow(0px 1px 2px rgba(0, 0, 0, 0.3));\n",
              "      fill: #FFFFFF;\n",
              "    }\n",
              "  </style>\n",
              "\n",
              "    <script>\n",
              "      const buttonEl =\n",
              "        document.querySelector('#df-7ac7851d-0dd8-47db-9ec7-65d87d1d83b8 button.colab-df-convert');\n",
              "      buttonEl.style.display =\n",
              "        google.colab.kernel.accessAllowed ? 'block' : 'none';\n",
              "\n",
              "      async function convertToInteractive(key) {\n",
              "        const element = document.querySelector('#df-7ac7851d-0dd8-47db-9ec7-65d87d1d83b8');\n",
              "        const dataTable =\n",
              "          await google.colab.kernel.invokeFunction('convertToInteractive',\n",
              "                                                    [key], {});\n",
              "        if (!dataTable) return;\n",
              "\n",
              "        const docLinkHtml = 'Like what you see? Visit the ' +\n",
              "          '<a target=\"_blank\" href=https://colab.research.google.com/notebooks/data_table.ipynb>data table notebook</a>'\n",
              "          + ' to learn more about interactive tables.';\n",
              "        element.innerHTML = '';\n",
              "        dataTable['output_type'] = 'display_data';\n",
              "        await google.colab.output.renderOutput(dataTable, element);\n",
              "        const docLink = document.createElement('div');\n",
              "        docLink.innerHTML = docLinkHtml;\n",
              "        element.appendChild(docLink);\n",
              "      }\n",
              "    </script>\n",
              "  </div>\n",
              "\n",
              "\n",
              "<div id=\"df-0c9dd767-b3b0-4444-925f-9a285288558b\">\n",
              "  <button class=\"colab-df-quickchart\" onclick=\"quickchart('df-0c9dd767-b3b0-4444-925f-9a285288558b')\"\n",
              "            title=\"Suggest charts\"\n",
              "            style=\"display:none;\">\n",
              "\n",
              "<svg xmlns=\"http://www.w3.org/2000/svg\" height=\"24px\"viewBox=\"0 0 24 24\"\n",
              "     width=\"24px\">\n",
              "    <g>\n",
              "        <path d=\"M19 3H5c-1.1 0-2 .9-2 2v14c0 1.1.9 2 2 2h14c1.1 0 2-.9 2-2V5c0-1.1-.9-2-2-2zM9 17H7v-7h2v7zm4 0h-2V7h2v10zm4 0h-2v-4h2v4z\"/>\n",
              "    </g>\n",
              "</svg>\n",
              "  </button>\n",
              "\n",
              "<style>\n",
              "  .colab-df-quickchart {\n",
              "      --bg-color: #E8F0FE;\n",
              "      --fill-color: #1967D2;\n",
              "      --hover-bg-color: #E2EBFA;\n",
              "      --hover-fill-color: #174EA6;\n",
              "      --disabled-fill-color: #AAA;\n",
              "      --disabled-bg-color: #DDD;\n",
              "  }\n",
              "\n",
              "  [theme=dark] .colab-df-quickchart {\n",
              "      --bg-color: #3B4455;\n",
              "      --fill-color: #D2E3FC;\n",
              "      --hover-bg-color: #434B5C;\n",
              "      --hover-fill-color: #FFFFFF;\n",
              "      --disabled-bg-color: #3B4455;\n",
              "      --disabled-fill-color: #666;\n",
              "  }\n",
              "\n",
              "  .colab-df-quickchart {\n",
              "    background-color: var(--bg-color);\n",
              "    border: none;\n",
              "    border-radius: 50%;\n",
              "    cursor: pointer;\n",
              "    display: none;\n",
              "    fill: var(--fill-color);\n",
              "    height: 32px;\n",
              "    padding: 0;\n",
              "    width: 32px;\n",
              "  }\n",
              "\n",
              "  .colab-df-quickchart:hover {\n",
              "    background-color: var(--hover-bg-color);\n",
              "    box-shadow: 0 1px 2px rgba(60, 64, 67, 0.3), 0 1px 3px 1px rgba(60, 64, 67, 0.15);\n",
              "    fill: var(--button-hover-fill-color);\n",
              "  }\n",
              "\n",
              "  .colab-df-quickchart-complete:disabled,\n",
              "  .colab-df-quickchart-complete:disabled:hover {\n",
              "    background-color: var(--disabled-bg-color);\n",
              "    fill: var(--disabled-fill-color);\n",
              "    box-shadow: none;\n",
              "  }\n",
              "\n",
              "  .colab-df-spinner {\n",
              "    border: 2px solid var(--fill-color);\n",
              "    border-color: transparent;\n",
              "    border-bottom-color: var(--fill-color);\n",
              "    animation:\n",
              "      spin 1s steps(1) infinite;\n",
              "  }\n",
              "\n",
              "  @keyframes spin {\n",
              "    0% {\n",
              "      border-color: transparent;\n",
              "      border-bottom-color: var(--fill-color);\n",
              "      border-left-color: var(--fill-color);\n",
              "    }\n",
              "    20% {\n",
              "      border-color: transparent;\n",
              "      border-left-color: var(--fill-color);\n",
              "      border-top-color: var(--fill-color);\n",
              "    }\n",
              "    30% {\n",
              "      border-color: transparent;\n",
              "      border-left-color: var(--fill-color);\n",
              "      border-top-color: var(--fill-color);\n",
              "      border-right-color: var(--fill-color);\n",
              "    }\n",
              "    40% {\n",
              "      border-color: transparent;\n",
              "      border-right-color: var(--fill-color);\n",
              "      border-top-color: var(--fill-color);\n",
              "    }\n",
              "    60% {\n",
              "      border-color: transparent;\n",
              "      border-right-color: var(--fill-color);\n",
              "    }\n",
              "    80% {\n",
              "      border-color: transparent;\n",
              "      border-right-color: var(--fill-color);\n",
              "      border-bottom-color: var(--fill-color);\n",
              "    }\n",
              "    90% {\n",
              "      border-color: transparent;\n",
              "      border-bottom-color: var(--fill-color);\n",
              "    }\n",
              "  }\n",
              "</style>\n",
              "\n",
              "  <script>\n",
              "    async function quickchart(key) {\n",
              "      const quickchartButtonEl =\n",
              "        document.querySelector('#' + key + ' button');\n",
              "      quickchartButtonEl.disabled = true;  // To prevent multiple clicks.\n",
              "      quickchartButtonEl.classList.add('colab-df-spinner');\n",
              "      try {\n",
              "        const charts = await google.colab.kernel.invokeFunction(\n",
              "            'suggestCharts', [key], {});\n",
              "      } catch (error) {\n",
              "        console.error('Error during call to suggestCharts:', error);\n",
              "      }\n",
              "      quickchartButtonEl.classList.remove('colab-df-spinner');\n",
              "      quickchartButtonEl.classList.add('colab-df-quickchart-complete');\n",
              "    }\n",
              "    (() => {\n",
              "      let quickchartButtonEl =\n",
              "        document.querySelector('#df-0c9dd767-b3b0-4444-925f-9a285288558b button');\n",
              "      quickchartButtonEl.style.display =\n",
              "        google.colab.kernel.accessAllowed ? 'block' : 'none';\n",
              "    })();\n",
              "  </script>\n",
              "</div>\n",
              "    </div>\n",
              "  </div>\n"
            ],
            "application/vnd.google.colaboratory.intrinsic+json": {
              "type": "dataframe",
              "variable_name": "df",
              "summary": "{\n  \"name\": \"df\",\n  \"rows\": 15641,\n  \"fields\": [\n    {\n      \"column\": \"product\",\n      \"properties\": {\n        \"dtype\": \"category\",\n        \"num_unique_values\": 20,\n        \"samples\": [\n          \"Amazon.com: Customer reviews: CeraVe Foaming Facial Cleanser | Daily Face Wash for Oily Skin with Hyaluronic Acid, Ceramides, and Niacinamide| Fragrance Free Paraben Free | 19 Fluid Ounce\",\n          \"Amazon.com: Customer reviews: La Roche-Posay Toleriane Double Repair Face Moisturizer, Daily Moisturizer Face Cream with Ceramide and Niacinamide for All Skin Types, Oil Free, Fragrance Free\",\n          \"Amazon.com: Customer reviews: La Roche-Posay Toleriane Hydrating Gentle Face Cleanser, Daily Facial Cleanser with Niacinamide and Ceramides for Sensitive Skin, Moisturizing Face Wash for Normal to Dry Skin, Fragrance Free\"\n        ],\n        \"semantic_type\": \"\",\n        \"description\": \"\"\n      }\n    },\n    {\n      \"column\": \"date\",\n      \"properties\": {\n        \"dtype\": \"object\",\n        \"num_unique_values\": 3453,\n        \"samples\": [\n          \"13/09/2017\",\n          \"16/08/2023\",\n          \"09/11/2019\"\n        ],\n        \"semantic_type\": \"\",\n        \"description\": \"\"\n      }\n    },\n    {\n      \"column\": \"title\",\n      \"properties\": {\n        \"dtype\": \"string\",\n        \"num_unique_values\": 7948,\n        \"samples\": [\n          \"2.0 out of 5 stars\\nNOT SAFE for sensitive skin\",\n          \"1.0 out of 5 stars\\nHaven't been able to use it, the pump doesn't work.\",\n          \"4.0 out of 5 stars\\nGood absorption.\"\n        ],\n        \"semantic_type\": \"\",\n        \"description\": \"\"\n      }\n    },\n    {\n      \"column\": \"rating\",\n      \"properties\": {\n        \"dtype\": \"number\",\n        \"std\": 1.4822828789362372,\n        \"min\": 1.0,\n        \"max\": 5.0,\n        \"num_unique_values\": 5,\n        \"samples\": [\n          2.0,\n          5.0,\n          3.0\n        ],\n        \"semantic_type\": \"\",\n        \"description\": \"\"\n      }\n    },\n    {\n      \"column\": \"body\",\n      \"properties\": {\n        \"dtype\": \"string\",\n        \"num_unique_values\": 9340,\n        \"samples\": [\n          \"I'm not sure why it's called foaming face wash as it foams like any other soap.  Works as advertised but I'm not sure it's a notch above or better than any other face wash.  There is no rating on the scent as it has none.  It dispenses as a clear gel and foams after the addition of water and hand friction.\",\n          \"I bought this product because I got carried away by the good comments.  I really didn't see any changes, I've been using it for a long time, and the smell is unpleasant.  I honestly don't recommend it.\",\n          \"I like the way it leaves my face feeling but there is no foaming of it really at all.\"\n        ],\n        \"semantic_type\": \"\",\n        \"description\": \"\"\n      }\n    },\n    {\n      \"column\": \"helpful_count\",\n      \"properties\": {\n        \"dtype\": \"number\",\n        \"std\": 15,\n        \"min\": 0,\n        \"max\": 617,\n        \"num_unique_values\": 124,\n        \"samples\": [\n          20,\n          68,\n          105\n        ],\n        \"semantic_type\": \"\",\n        \"description\": \"\"\n      }\n    }\n  ]\n}"
            }
          },
          "metadata": {},
          "execution_count": 4
        }
      ]
    },
    {
      "cell_type": "markdown",
      "source": [
        "## **4.0 Data Exploration**"
      ],
      "metadata": {
        "id": "vtQ47Ztl4kxG"
      }
    },
    {
      "cell_type": "markdown",
      "source": [
        "### **4.1 Dataset Shape**"
      ],
      "metadata": {
        "id": "QI-KyuGzieBh"
      }
    },
    {
      "cell_type": "code",
      "source": [
        "# Dataset shape (row, column)\n",
        "df.shape"
      ],
      "metadata": {
        "colab": {
          "base_uri": "https://localhost:8080/"
        },
        "id": "zOKZotNOFAKl",
        "outputId": "3957b0c6-3955-4033-f86c-0077e0a20b55"
      },
      "execution_count": 5,
      "outputs": [
        {
          "output_type": "execute_result",
          "data": {
            "text/plain": [
              "(15641, 6)"
            ]
          },
          "metadata": {},
          "execution_count": 5
        }
      ]
    },
    {
      "cell_type": "markdown",
      "source": [
        "### **4.2 Missing Values**"
      ],
      "metadata": {
        "id": "WJwi2-9Xilij"
      }
    },
    {
      "cell_type": "code",
      "source": [
        "# Check for missing values\n",
        "df.isna().sum()"
      ],
      "metadata": {
        "colab": {
          "base_uri": "https://localhost:8080/"
        },
        "id": "-ke5E0fXWdud",
        "outputId": "82fa08f2-1402-4329-d329-935016388bf5"
      },
      "execution_count": 6,
      "outputs": [
        {
          "output_type": "execute_result",
          "data": {
            "text/plain": [
              "product           0\n",
              "date              0\n",
              "title             0\n",
              "rating            0\n",
              "body             60\n",
              "helpful_count     0\n",
              "dtype: int64"
            ]
          },
          "metadata": {},
          "execution_count": 6
        }
      ]
    },
    {
      "cell_type": "markdown",
      "source": [
        "### **4.3 Duplicated Rows**"
      ],
      "metadata": {
        "id": "ppy4G4hIipdq"
      }
    },
    {
      "cell_type": "code",
      "source": [
        "# Check for duplicate rows\n",
        "num_duplicate_rows = df.duplicated().sum()\n",
        "num_duplicate_rows"
      ],
      "metadata": {
        "colab": {
          "base_uri": "https://localhost:8080/"
        },
        "id": "94tBkelrXg_I",
        "outputId": "dbd53e87-1399-445d-efce-79635af7084c"
      },
      "execution_count": 7,
      "outputs": [
        {
          "output_type": "execute_result",
          "data": {
            "text/plain": [
              "3663"
            ]
          },
          "metadata": {},
          "execution_count": 7
        }
      ]
    },
    {
      "cell_type": "markdown",
      "source": [
        "## **5.0 Data Preparation**"
      ],
      "metadata": {
        "id": "r1N6CyuDEm6_"
      }
    },
    {
      "cell_type": "markdown",
      "source": [
        "###**5.1 Rename Column**"
      ],
      "metadata": {
        "id": "ThJAkBKti0-Z"
      }
    },
    {
      "cell_type": "code",
      "source": [
        "# Rename columns to make the dataset easier to understand\n",
        "df.rename(columns={'title': 'Title'}, inplace=True)\n",
        "df.rename(columns={'rating': 'Rating'}, inplace=True)\n",
        "df.rename(columns={'body': 'Review'}, inplace=True)\n",
        "df.rename(columns={'product': 'Product'}, inplace=True)\n",
        "df.rename(columns={'date': 'Date'}, inplace=True)\n",
        "df.rename(columns={'helpful_count': 'Helpful Count'}, inplace=True)"
      ],
      "metadata": {
        "id": "PSY6um5FVEru"
      },
      "execution_count": 8,
      "outputs": []
    },
    {
      "cell_type": "markdown",
      "source": [
        "### **5.2 Add New Columns - Skin Concern, Brand, Product Type**"
      ],
      "metadata": {
        "id": "fq0zAYJVi5kG"
      }
    },
    {
      "cell_type": "code",
      "source": [
        "# Mapping dictionary (replace these values with your actual mapping)\n",
        "product_to_skin_concern = {\n",
        "    # acne-oily-skin\n",
        "    'Amazon.com: Customer reviews: CeraVe Foaming Facial Cleanser | Daily Face Wash for Oily Skin with Hyaluronic Acid, Ceramides, and Niacinamide| Fragrance Free Paraben Free | 19 Fluid Ounce': 'acne and oily',\n",
        "    'Amazon.com: Customer reviews: La Roche-Posay Effaclar Purifying Foaming Gel Cleanser for Oily Skin, pH Balancing Daily Face Wash, Oil Free and Soap Free, 13.52 Fl Oz (Pack of 1)': 'acne and oily',\n",
        "    'Amazon.com: Customer reviews: CeraVe Salicylic Acid Acne Treatment with Glycolic Acid and Lactic Acid | AHA/BHA Acne Gel for Face to Control and Clear Breakouts |1.35 Ounce': 'acne and oily',\n",
        "    'Amazon.com: Customer reviews: La Roche-Posay Effaclar Duo Dual Action Acne Spot Treatment Cream with Benzoyl Peroxide Acne Treatment for Acne and Blackheads, Lightweight Sheerness, Safe For Sensitive Skin ,0.7 Fl Oz' : 'acne and oily',\n",
        "    'Amazon.com: Customer reviews: CeraVe AM Facial Moisturizing Lotion SPF 30 | Oil-Free Face Moisturizer with Sunscreen | Non-Comedogenic | 3 Ounce' : 'acne and oily',\n",
        "    'Amazon.com: Customer reviews: La Roche-Posay Mat Oil-Free Mattifying Moisturizer' : 'acne and oily',\n",
        "    'Amazon.com: Customer reviews: CeraVe Retinol Serum for Post-Acne Marks and Skin Texture | Pore Refining, Resurfacing, Brightening Facial Serum with Retinol and Niacinamide | Fragrance Free, Paraben Free &amp; Non-Comedogenic| 1 Oz' : 'acne and oily',\n",
        "    'Amazon.com: Customer reviews: La Roche-Posay Effaclar Salicylic Acid Acne Treatment to Minimize Pores, Clear Acne Blemishes and Post Acne Marks' : 'acne and oily',\n",
        "\n",
        "    # anti-aging skin\n",
        "    'Amazon.com: Customer reviews: CeraVe Anti Aging Face Cream with SPF 30 Sunscreen | Anti Wrinkle Cream for Face with Retinol, SPF 30 Sunscreen, Hyaluronic Acid, and Ceramides | White,1.76 Ounce (Pack of 1)' : 'anti-aging',\n",
        "    'Amazon.com: Customer reviews: La Roche-Posay Redermic R Anti Aging Retinol Cream, Reduces Wrinkles, Fine Lines, and Age Spots with Pure Retinol Face Cream, 1 Fl Oz' : 'anti-aging',\n",
        "    'Amazon.com: Customer reviews: CeraVe Eye Cream for Wrinkles | Under Eye Cream with Caffeine, Peptides, Hyaluronic Acid, Niacinamide, and Ceramides for Fine Lines | Fragrance Free &amp; Ophthalmologist Tested |0.5 Ounces' : 'anti-aging',\n",
        "    'Amazon.com: Customer reviews: La Roche-Posay Pigmentclar Dark Circles Eye Cream with Caffeine, Brightens Under Eye Area and Targets Dark Circles' : 'anti-aging',\n",
        "    'Amazon.com: Customer reviews: CeraVe Anti Aging Retinol Serum | Cream Serum for Smoothing Fine Lines and Skin Brightening | With Retinol, Hyaluronic Acid, Niacinamide, and Ceramides | 1 Ounce' : 'anti-aging',\n",
        "    'Amazon.com: Customer reviews: La Roche-Posay Pure Retinol Face Serum with Vitamin B3. Anti Aging Face Serum for Lines, Wrinkles &amp; Premature Sun Damage to Resurface &amp; Hydrate. Suitable for Sensitive Skin, 1.0 Fl. Oz' : 'anti-aging',\n",
        "\n",
        "    # dry skin\n",
        "    'Amazon.com: Customer reviews: CeraVe Hydrating Facial Cleanser | Moisturizing Non-Foaming Face Wash with Hyaluronic Acid, Ceramides and Glycerin | Fragrance Free Paraben Free | 16 Fluid Ounce' : 'dry',\n",
        "    'Amazon.com: Customer reviews: La Roche-Posay Toleriane Hydrating Gentle Face Cleanser, Daily Facial Cleanser with Niacinamide and Ceramides for Sensitive Skin, Moisturizing Face Wash for Normal to Dry Skin, Fragrance Free' : 'dry',\n",
        "    'Amazon.com: Customer reviews: CeraVe Daily Moisturizing Lotion for Dry Skin | Body Lotion &amp; Facial Moisturizer with Hyaluronic Acid and Ceramides | Fragrance Free | 19 Ounce' : 'dry',\n",
        "    'Amazon.com: Customer reviews: La Roche-Posay Toleriane Double Repair Face Moisturizer, Daily Moisturizer Face Cream with Ceramide and Niacinamide for All Skin Types, Oil Free, Fragrance Free' : 'dry',\n",
        "    'Amazon.com: Customer reviews: Cerave Hyaluronic Acid Serum for Face with Vitamin B5 and Ceramides | Hydrating Face Serum for Dry Skin | Fragrance Free | 1 Ounce' : 'dry',\n",
        "    'Amazon.com: Customer reviews: La Roche-Posay Hyalu B5 Pure Hyaluronic Acid Serum for Face, with Vitamin B5, Anti-Aging Serum for Fine Lines and Wrinkles, Hydrating Serum to Plump and Repair Dry Skin, Safe on Sensitive Skin' : 'dry',\n",
        "}\n",
        "\n",
        "product_to_brand = {\n",
        "    # acne-oily-skin\n",
        "    'Amazon.com: Customer reviews: CeraVe Foaming Facial Cleanser | Daily Face Wash for Oily Skin with Hyaluronic Acid, Ceramides, and Niacinamide| Fragrance Free Paraben Free | 19 Fluid Ounce': 'CeraVe',\n",
        "    'Amazon.com: Customer reviews: La Roche-Posay Effaclar Purifying Foaming Gel Cleanser for Oily Skin, pH Balancing Daily Face Wash, Oil Free and Soap Free, 13.52 Fl Oz (Pack of 1)': 'La Roche-Posay',\n",
        "    'Amazon.com: Customer reviews: CeraVe Salicylic Acid Acne Treatment with Glycolic Acid and Lactic Acid | AHA/BHA Acne Gel for Face to Control and Clear Breakouts |1.35 Ounce': 'CeraVe',\n",
        "    'Amazon.com: Customer reviews: La Roche-Posay Effaclar Duo Dual Action Acne Spot Treatment Cream with Benzoyl Peroxide Acne Treatment for Acne and Blackheads, Lightweight Sheerness, Safe For Sensitive Skin ,0.7 Fl Oz' : 'La Roche-Posay',\n",
        "    'Amazon.com: Customer reviews: CeraVe AM Facial Moisturizing Lotion SPF 30 | Oil-Free Face Moisturizer with Sunscreen | Non-Comedogenic | 3 Ounce' : 'CeraVe',\n",
        "    'Amazon.com: Customer reviews: La Roche-Posay Mat Oil-Free Mattifying Moisturizer' : 'La Roche-Posay',\n",
        "    'Amazon.com: Customer reviews: CeraVe Retinol Serum for Post-Acne Marks and Skin Texture | Pore Refining, Resurfacing, Brightening Facial Serum with Retinol and Niacinamide | Fragrance Free, Paraben Free &amp; Non-Comedogenic| 1 Oz' : 'CeraVe',\n",
        "    'Amazon.com: Customer reviews: La Roche-Posay Effaclar Salicylic Acid Acne Treatment to Minimize Pores, Clear Acne Blemishes and Post Acne Marks' : 'La Roche-Posay',\n",
        "\n",
        "    # anti-aging skin\n",
        "    'Amazon.com: Customer reviews: CeraVe Anti Aging Face Cream with SPF 30 Sunscreen | Anti Wrinkle Cream for Face with Retinol, SPF 30 Sunscreen, Hyaluronic Acid, and Ceramides | White,1.76 Ounce (Pack of 1)' : 'CeraVe',\n",
        "    'Amazon.com: Customer reviews: La Roche-Posay Redermic R Anti Aging Retinol Cream, Reduces Wrinkles, Fine Lines, and Age Spots with Pure Retinol Face Cream, 1 Fl Oz' : 'La Roche-Posay',\n",
        "    'Amazon.com: Customer reviews: CeraVe Eye Cream for Wrinkles | Under Eye Cream with Caffeine, Peptides, Hyaluronic Acid, Niacinamide, and Ceramides for Fine Lines | Fragrance Free &amp; Ophthalmologist Tested |0.5 Ounces' : 'CeraVe',\n",
        "    'Amazon.com: Customer reviews: La Roche-Posay Pigmentclar Dark Circles Eye Cream with Caffeine, Brightens Under Eye Area and Targets Dark Circles' : 'La Roche-Posay',\n",
        "    'Amazon.com: Customer reviews: CeraVe Anti Aging Retinol Serum | Cream Serum for Smoothing Fine Lines and Skin Brightening | With Retinol, Hyaluronic Acid, Niacinamide, and Ceramides | 1 Ounce' : 'CeraVe',\n",
        "    'Amazon.com: Customer reviews: La Roche-Posay Pure Retinol Face Serum with Vitamin B3. Anti Aging Face Serum for Lines, Wrinkles &amp; Premature Sun Damage to Resurface &amp; Hydrate. Suitable for Sensitive Skin, 1.0 Fl. Oz' : 'La Roche-Posay',\n",
        "\n",
        "    # dry skin\n",
        "    'Amazon.com: Customer reviews: CeraVe Hydrating Facial Cleanser | Moisturizing Non-Foaming Face Wash with Hyaluronic Acid, Ceramides and Glycerin | Fragrance Free Paraben Free | 16 Fluid Ounce' : 'CeraVe',\n",
        "    'Amazon.com: Customer reviews: La Roche-Posay Toleriane Hydrating Gentle Face Cleanser, Daily Facial Cleanser with Niacinamide and Ceramides for Sensitive Skin, Moisturizing Face Wash for Normal to Dry Skin, Fragrance Free' : 'La Roche-Posay',\n",
        "    'Amazon.com: Customer reviews: CeraVe Daily Moisturizing Lotion for Dry Skin | Body Lotion &amp; Facial Moisturizer with Hyaluronic Acid and Ceramides | Fragrance Free | 19 Ounce' : 'CeraVe',\n",
        "    'Amazon.com: Customer reviews: La Roche-Posay Toleriane Double Repair Face Moisturizer, Daily Moisturizer Face Cream with Ceramide and Niacinamide for All Skin Types, Oil Free, Fragrance Free' : 'La Roche-Posay',\n",
        "    'Amazon.com: Customer reviews: Cerave Hyaluronic Acid Serum for Face with Vitamin B5 and Ceramides | Hydrating Face Serum for Dry Skin | Fragrance Free | 1 Ounce' : 'CeraVe',\n",
        "    'Amazon.com: Customer reviews: La Roche-Posay Hyalu B5 Pure Hyaluronic Acid Serum for Face, with Vitamin B5, Anti-Aging Serum for Fine Lines and Wrinkles, Hydrating Serum to Plump and Repair Dry Skin, Safe on Sensitive Skin' : 'La Roche-Posay',\n",
        "}\n",
        "\n",
        "product_to_product_type = {\n",
        "    # acne-oily-skin\n",
        "    'Amazon.com: Customer reviews: CeraVe Foaming Facial Cleanser | Daily Face Wash for Oily Skin with Hyaluronic Acid, Ceramides, and Niacinamide| Fragrance Free Paraben Free | 19 Fluid Ounce': 'Cleanser',\n",
        "    'Amazon.com: Customer reviews: La Roche-Posay Effaclar Purifying Foaming Gel Cleanser for Oily Skin, pH Balancing Daily Face Wash, Oil Free and Soap Free, 13.52 Fl Oz (Pack of 1)': 'Cleanser',\n",
        "    'Amazon.com: Customer reviews: CeraVe Salicylic Acid Acne Treatment with Glycolic Acid and Lactic Acid | AHA/BHA Acne Gel for Face to Control and Clear Breakouts |1.35 Ounce': 'Cream',\n",
        "    'Amazon.com: Customer reviews: La Roche-Posay Effaclar Duo Dual Action Acne Spot Treatment Cream with Benzoyl Peroxide Acne Treatment for Acne and Blackheads, Lightweight Sheerness, Safe For Sensitive Skin ,0.7 Fl Oz' : 'Cream',\n",
        "    'Amazon.com: Customer reviews: CeraVe AM Facial Moisturizing Lotion SPF 30 | Oil-Free Face Moisturizer with Sunscreen | Non-Comedogenic | 3 Ounce' : 'Moisturizer',\n",
        "    'Amazon.com: Customer reviews: La Roche-Posay Mat Oil-Free Mattifying Moisturizer' : 'Moisturizer',\n",
        "    'Amazon.com: Customer reviews: CeraVe Retinol Serum for Post-Acne Marks and Skin Texture | Pore Refining, Resurfacing, Brightening Facial Serum with Retinol and Niacinamide | Fragrance Free, Paraben Free &amp; Non-Comedogenic| 1 Oz' : 'Serum',\n",
        "    'Amazon.com: Customer reviews: La Roche-Posay Effaclar Salicylic Acid Acne Treatment to Minimize Pores, Clear Acne Blemishes and Post Acne Marks' : 'Serum',\n",
        "\n",
        "    # anti-aging skin\n",
        "    'Amazon.com: Customer reviews: CeraVe Anti Aging Face Cream with SPF 30 Sunscreen | Anti Wrinkle Cream for Face with Retinol, SPF 30 Sunscreen, Hyaluronic Acid, and Ceramides | White,1.76 Ounce (Pack of 1)' : 'Cream',\n",
        "    'Amazon.com: Customer reviews: La Roche-Posay Redermic R Anti Aging Retinol Cream, Reduces Wrinkles, Fine Lines, and Age Spots with Pure Retinol Face Cream, 1 Fl Oz' : 'Cream',\n",
        "    'Amazon.com: Customer reviews: CeraVe Eye Cream for Wrinkles | Under Eye Cream with Caffeine, Peptides, Hyaluronic Acid, Niacinamide, and Ceramides for Fine Lines | Fragrance Free &amp; Ophthalmologist Tested |0.5 Ounces' : 'Eye Cream',\n",
        "    'Amazon.com: Customer reviews: La Roche-Posay Pigmentclar Dark Circles Eye Cream with Caffeine, Brightens Under Eye Area and Targets Dark Circles' : 'Eye Cream',\n",
        "    'Amazon.com: Customer reviews: CeraVe Anti Aging Retinol Serum | Cream Serum for Smoothing Fine Lines and Skin Brightening | With Retinol, Hyaluronic Acid, Niacinamide, and Ceramides | 1 Ounce' : 'Serum',\n",
        "    'Amazon.com: Customer reviews: La Roche-Posay Pure Retinol Face Serum with Vitamin B3. Anti Aging Face Serum for Lines, Wrinkles &amp; Premature Sun Damage to Resurface &amp; Hydrate. Suitable for Sensitive Skin, 1.0 Fl. Oz' : 'Serum',\n",
        "\n",
        "    # dry skin\n",
        "    'Amazon.com: Customer reviews: CeraVe Hydrating Facial Cleanser | Moisturizing Non-Foaming Face Wash with Hyaluronic Acid, Ceramides and Glycerin | Fragrance Free Paraben Free | 16 Fluid Ounce' : 'Cleanser',\n",
        "    'Amazon.com: Customer reviews: La Roche-Posay Toleriane Hydrating Gentle Face Cleanser, Daily Facial Cleanser with Niacinamide and Ceramides for Sensitive Skin, Moisturizing Face Wash for Normal to Dry Skin, Fragrance Free' : 'Cleanser',\n",
        "    'Amazon.com: Customer reviews: CeraVe Daily Moisturizing Lotion for Dry Skin | Body Lotion &amp; Facial Moisturizer with Hyaluronic Acid and Ceramides | Fragrance Free | 19 Ounce' : 'Moisturizer',\n",
        "    'Amazon.com: Customer reviews: La Roche-Posay Toleriane Double Repair Face Moisturizer, Daily Moisturizer Face Cream with Ceramide and Niacinamide for All Skin Types, Oil Free, Fragrance Free' : 'Moisturizer',\n",
        "    'Amazon.com: Customer reviews: Cerave Hyaluronic Acid Serum for Face with Vitamin B5 and Ceramides | Hydrating Face Serum for Dry Skin | Fragrance Free | 1 Ounce' : 'Serum',\n",
        "    'Amazon.com: Customer reviews: La Roche-Posay Hyalu B5 Pure Hyaluronic Acid Serum for Face, with Vitamin B5, Anti-Aging Serum for Fine Lines and Wrinkles, Hydrating Serum to Plump and Repair Dry Skin, Safe on Sensitive Skin' : 'Serum',\n",
        "}\n",
        "\n",
        "# Map 'Product' column values to 'Skin Concerns' based on the dictionary\n",
        "df['Skin Concern'] = df['Product'].map(product_to_skin_concern)\n",
        "df['Brand'] = df['Product'].map(product_to_brand)\n",
        "df['Product Type'] = df['Product'].map(product_to_product_type)\n"
      ],
      "metadata": {
        "id": "gdp2zFzhEU0V"
      },
      "execution_count": 9,
      "outputs": []
    },
    {
      "cell_type": "markdown",
      "source": [
        "### **5.3 Concatenate Title with Review**"
      ],
      "metadata": {
        "id": "Aj5fUOzTl8Gj"
      }
    },
    {
      "cell_type": "code",
      "source": [
        "# Extract subtitle from 'Title' column and concatenate with main review text\n",
        "df['Title'] = df['Title'].apply(lambda x: x.split('\\n')[1] if '\\n' in x else '')\n",
        "df['Review'] = df['Review']+df['Title']\n",
        "df = df.drop(['Title'], axis=1)"
      ],
      "metadata": {
        "id": "w4bMDyJ_EU7m"
      },
      "execution_count": 10,
      "outputs": []
    },
    {
      "cell_type": "markdown",
      "source": [
        "### **5.4 Translate Non-English Reviews**"
      ],
      "metadata": {
        "id": "O58FVuAqnoaU"
      }
    },
    {
      "cell_type": "code",
      "source": [
        "!pip install langdetect\n",
        "!pip install googletrans==4.0.0-rc1"
      ],
      "metadata": {
        "colab": {
          "base_uri": "https://localhost:8080/"
        },
        "id": "H3bx1xV3FI7Q",
        "outputId": "152e589a-5a93-4ebc-8572-aef794f30739"
      },
      "execution_count": 11,
      "outputs": [
        {
          "output_type": "stream",
          "name": "stdout",
          "text": [
            "Requirement already satisfied: langdetect in /usr/local/lib/python3.10/dist-packages (1.0.9)\n",
            "Requirement already satisfied: six in /usr/local/lib/python3.10/dist-packages (from langdetect) (1.16.0)\n",
            "Requirement already satisfied: googletrans==4.0.0-rc1 in /usr/local/lib/python3.10/dist-packages (4.0.0rc1)\n",
            "Requirement already satisfied: httpx==0.13.3 in /usr/local/lib/python3.10/dist-packages (from googletrans==4.0.0-rc1) (0.13.3)\n",
            "Requirement already satisfied: certifi in /usr/local/lib/python3.10/dist-packages (from httpx==0.13.3->googletrans==4.0.0-rc1) (2024.2.2)\n",
            "Requirement already satisfied: hstspreload in /usr/local/lib/python3.10/dist-packages (from httpx==0.13.3->googletrans==4.0.0-rc1) (2024.4.1)\n",
            "Requirement already satisfied: sniffio in /usr/local/lib/python3.10/dist-packages (from httpx==0.13.3->googletrans==4.0.0-rc1) (1.3.1)\n",
            "Requirement already satisfied: chardet==3.* in /usr/local/lib/python3.10/dist-packages (from httpx==0.13.3->googletrans==4.0.0-rc1) (3.0.4)\n",
            "Requirement already satisfied: idna==2.* in /usr/local/lib/python3.10/dist-packages (from httpx==0.13.3->googletrans==4.0.0-rc1) (2.10)\n",
            "Requirement already satisfied: rfc3986<2,>=1.3 in /usr/local/lib/python3.10/dist-packages (from httpx==0.13.3->googletrans==4.0.0-rc1) (1.5.0)\n",
            "Requirement already satisfied: httpcore==0.9.* in /usr/local/lib/python3.10/dist-packages (from httpx==0.13.3->googletrans==4.0.0-rc1) (0.9.1)\n",
            "Requirement already satisfied: h11<0.10,>=0.8 in /usr/local/lib/python3.10/dist-packages (from httpcore==0.9.*->httpx==0.13.3->googletrans==4.0.0-rc1) (0.9.0)\n",
            "Requirement already satisfied: h2==3.* in /usr/local/lib/python3.10/dist-packages (from httpcore==0.9.*->httpx==0.13.3->googletrans==4.0.0-rc1) (3.2.0)\n",
            "Requirement already satisfied: hyperframe<6,>=5.2.0 in /usr/local/lib/python3.10/dist-packages (from h2==3.*->httpcore==0.9.*->httpx==0.13.3->googletrans==4.0.0-rc1) (5.2.0)\n",
            "Requirement already satisfied: hpack<4,>=3.0 in /usr/local/lib/python3.10/dist-packages (from h2==3.*->httpcore==0.9.*->httpx==0.13.3->googletrans==4.0.0-rc1) (3.0.0)\n"
          ]
        }
      ]
    },
    {
      "cell_type": "code",
      "source": [
        "from googletrans import Translator\n",
        "import pandas as pd\n",
        "from langdetect import detect\n",
        "\n",
        "# Initialize the translator\n",
        "translator = Translator()\n",
        "\n",
        "# Function to translate non-English reviews to English\n",
        "def translate_to_english(review):\n",
        "    try:\n",
        "        language = detect(review)\n",
        "        if language != 'en':\n",
        "            translated_review = translator.translate(review, src=language, dest='en').text\n",
        "            return translated_review\n",
        "        else:\n",
        "            return review\n",
        "    except:\n",
        "        return review\n",
        "\n",
        "# Check and translate non-English reviews in the 'Review' column\n",
        "df['Review'] = df['Review'].apply(lambda x: translate_to_english(x) if isinstance(x, str) else x)"
      ],
      "metadata": {
        "id": "6ijbVTYrFI9o"
      },
      "execution_count": 12,
      "outputs": []
    },
    {
      "cell_type": "markdown",
      "source": [
        "### **5.5 Drop Unnecessary Columns**"
      ],
      "metadata": {
        "id": "rEsCgb7pljkI"
      }
    },
    {
      "cell_type": "code",
      "source": [
        "# Drop the not needed columns for analysis\n",
        "df.drop(columns = ['Product'], inplace = True)\n",
        "df.drop(columns = ['Helpful Count'], inplace = True)\n",
        "df.drop(columns = ['Date'], inplace = True)"
      ],
      "metadata": {
        "id": "avWBasNIEU20"
      },
      "execution_count": 13,
      "outputs": []
    },
    {
      "cell_type": "markdown",
      "source": [
        "Export Translated Dataset"
      ],
      "metadata": {
        "id": "0pCDBLqXn1l7"
      }
    },
    {
      "cell_type": "code",
      "source": [
        "# OUTPUT FOR CSV\n",
        "# Define the path where the translated DataFrame want to be saved\n",
        "output_path = '/content/drive/MyDrive/Colab Notebooks/MP1_ProductReview/data/MP2_translated_reviews.csv'\n",
        "\n",
        "# Export the DataFrame to a CSV file\n",
        "df.to_csv(output_path, index=False)\n",
        "\n",
        "# Display the exported path\n",
        "print(f\"Cleaned csv data has been exported to: {output_path}\")\n",
        "\n",
        "# FOR XLSX\n",
        "# Define the path where the translated DataFrame wants to be saved\n",
        "output_path = '/content/drive/MyDrive/Colab Notebooks/MP1_ProductReview/data/MP2_translated_data.xlsx'\n",
        "\n",
        "# Export the DataFrame to an Excel file\n",
        "df.to_excel(output_path, index=False)\n",
        "\n",
        "# Display the exported path\n",
        "print(f\"Cleaned xlsx data has been exported to: {output_path}\")"
      ],
      "metadata": {
        "colab": {
          "base_uri": "https://localhost:8080/"
        },
        "id": "CUWWGiNbrapC",
        "outputId": "dfcc3fa6-444c-4d51-9282-03fe8bdcdc88"
      },
      "execution_count": 14,
      "outputs": [
        {
          "output_type": "stream",
          "name": "stdout",
          "text": [
            "Cleaned csv data has been exported to: /content/drive/MyDrive/Colab Notebooks/MP1_ProductReview/data/MP2_translated_reviews.csv\n",
            "Cleaned xlsx data has been exported to: /content/drive/MyDrive/Colab Notebooks/MP1_ProductReview/data/MP2_translated_data.xlsx\n"
          ]
        }
      ]
    },
    {
      "cell_type": "code",
      "source": [
        "# Specify the path to the concatenated file\n",
        "translated_file_path = '/content/drive/MyDrive/Colab Notebooks/MP1_ProductReview/MP2_translated_data.csv'\n",
        "\n",
        "# Load the concatenated file into a DataFrame\n",
        "amazon_reviews = pd.read_csv(translated_file_path)\n",
        "\n",
        "# Make a copy of raw data into a df DataFrame\n",
        "df = amazon_reviews.copy()"
      ],
      "metadata": {
        "id": "fw9QwvqsWoTO"
      },
      "execution_count": null,
      "outputs": []
    },
    {
      "cell_type": "markdown",
      "source": [
        "## **6.0 Data Pre-Processing**"
      ],
      "metadata": {
        "id": "VVgdK3MboBXF"
      }
    },
    {
      "cell_type": "markdown",
      "source": [
        "### **6.1 Data Cleaning**"
      ],
      "metadata": {
        "id": "TbvZEGJME0_u"
      }
    },
    {
      "cell_type": "code",
      "source": [
        "# Remove rows that contain empty cells\n",
        "df.dropna(inplace = True)\n",
        "\n",
        "# Remove duplicates\n",
        "df.drop_duplicates(inplace = True)"
      ],
      "metadata": {
        "id": "2weH01C0EVAD"
      },
      "execution_count": 15,
      "outputs": []
    },
    {
      "cell_type": "code",
      "source": [
        "df.shape"
      ],
      "metadata": {
        "colab": {
          "base_uri": "https://localhost:8080/"
        },
        "id": "EtCPyl0CEVCS",
        "outputId": "f7631c02-a01a-4e73-ebbc-0e6db1dc2889"
      },
      "execution_count": 16,
      "outputs": [
        {
          "output_type": "execute_result",
          "data": {
            "text/plain": [
              "(9649, 5)"
            ]
          },
          "metadata": {},
          "execution_count": 16
        }
      ]
    },
    {
      "cell_type": "markdown",
      "source": [
        "### **6.2 Case Folding**"
      ],
      "metadata": {
        "id": "F20T_h1NZ48T"
      }
    },
    {
      "cell_type": "code",
      "source": [
        "# Convert the 'review' column to lowercase\n",
        "df['Review'] = df['Review'].str.lower()"
      ],
      "metadata": {
        "id": "92CjOnglFJCp"
      },
      "execution_count": 17,
      "outputs": []
    },
    {
      "cell_type": "markdown",
      "source": [
        "Adding Additional Features - length of, and percentage of punctuations in the text"
      ],
      "metadata": {
        "id": "Odo2wy_clLSj"
      }
    },
    {
      "cell_type": "code",
      "source": [
        "def count_punct(text):\n",
        "    count = sum([1 for char in text if char in string.punctuation])\n",
        "    return round(count/(len(text) - text.count(\" \")), 3)*100\n",
        "\n",
        "df['Review Len'] = df['Review'].apply(lambda x: len(x) - x.count(\" \"))\n",
        "df['Word Count'] = df['Review'].apply(lambda x: len(str(x).split()))\n",
        "df['Punct'] = df['Review'].apply(lambda x: count_punct(x))"
      ],
      "metadata": {
        "id": "q6nNXL--55nF"
      },
      "execution_count": 18,
      "outputs": []
    },
    {
      "cell_type": "markdown",
      "source": [
        "### **6.3 Tokenization**"
      ],
      "metadata": {
        "id": "nTZqJ8iNaAVn"
      }
    },
    {
      "cell_type": "code",
      "source": [
        "import nltk\n",
        "from nltk.tokenize import word_tokenize\n",
        "nltk.download('punkt')"
      ],
      "metadata": {
        "colab": {
          "base_uri": "https://localhost:8080/"
        },
        "id": "KPfzEtJdFJFC",
        "outputId": "e757be71-8664-4a7b-eabe-663f1553e968"
      },
      "execution_count": 19,
      "outputs": [
        {
          "output_type": "stream",
          "name": "stderr",
          "text": [
            "[nltk_data] Downloading package punkt to /root/nltk_data...\n",
            "[nltk_data]   Package punkt is already up-to-date!\n"
          ]
        },
        {
          "output_type": "execute_result",
          "data": {
            "text/plain": [
              "True"
            ]
          },
          "metadata": {},
          "execution_count": 19
        }
      ]
    },
    {
      "cell_type": "code",
      "source": [
        "# Tokenize the 'review' column\n",
        "df['Tokens'] = df['Review'].apply(word_tokenize)"
      ],
      "metadata": {
        "id": "n3HeL-pbFJHP"
      },
      "execution_count": 20,
      "outputs": []
    },
    {
      "cell_type": "markdown",
      "source": [
        "### **6.4 Punctuation and Stopword Removal**"
      ],
      "metadata": {
        "id": "EbumEMR-bH8w"
      }
    },
    {
      "cell_type": "code",
      "source": [
        "import string\n",
        "import nltk\n",
        "from nltk.corpus import stopwords\n",
        "import requests"
      ],
      "metadata": {
        "id": "md-BNFTKuhv3"
      },
      "execution_count": 21,
      "outputs": []
    },
    {
      "cell_type": "code",
      "source": [
        "# Download NLTK stopwords\n",
        "nltk.download('stopwords')\n",
        "\n",
        "# Download the stopwords file from GitHub\n",
        "stopwords_url = \"https://raw.githubusercontent.com/stopwords-iso/stopwords-en/master/stopwords-en.txt\"\n",
        "response = requests.get(stopwords_url)\n",
        "stopwords_text = response.text\n",
        "\n",
        "# Download the custom stopwords file from your repository\n",
        "custom_stopwords_url = \"https://raw.githubusercontent.com/rnabilahusna/MP_ProductReview/main/stopwords-custom.txt\"\n",
        "custom_response = requests.get(custom_stopwords_url)\n",
        "custom_stopwords_text = custom_response.text\n",
        "\n",
        "# Define additional custom stopwords\n",
        "additional_stopwords = [\"product\", \"leaf\", \"feel\", \"not\"]\n",
        "\n",
        "# Combine the stopwords from both URLs and add custom stopwords\n",
        "all_stopwords = set(stopwords.words('english') + stopwords_text.splitlines() + custom_stopwords_text.splitlines() + additional_stopwords)\n",
        "all_stopwords.remove('not')\n",
        "\n",
        "# Function to remove punctuation\n",
        "def remove_punctuation(text):\n",
        "    translator = str.maketrans('', '', string.punctuation + '’')  # Include the smart quote character\n",
        "    # Remove punctuation\n",
        "    text = [word.translate(translator) for word in text]\n",
        "    # Remove empty strings\n",
        "    text = [word for word in text if word]  # Filter out empty strings\n",
        "    return text\n",
        "\n",
        "# Function to remove stopwords\n",
        "def remove_stopwords(tokens):\n",
        "    return [word for word in tokens if word.lower() not in all_stopwords]\n",
        "\n",
        "# Apply punctuation removal followed by stopwords removal to the \"tokens\" column\n",
        "df['NoStopW Tokens'] = df['Tokens'].apply(remove_punctuation)\n",
        "df['NoStopW Tokens'] = df['NoStopW Tokens'].apply(remove_stopwords)"
      ],
      "metadata": {
        "colab": {
          "base_uri": "https://localhost:8080/"
        },
        "id": "UkivuQFPbM7B",
        "outputId": "92a7c1c8-d9bb-433a-d5d1-626e15e745c5"
      },
      "execution_count": 22,
      "outputs": [
        {
          "output_type": "stream",
          "name": "stderr",
          "text": [
            "[nltk_data] Downloading package stopwords to /root/nltk_data...\n",
            "[nltk_data]   Package stopwords is already up-to-date!\n"
          ]
        }
      ]
    },
    {
      "cell_type": "markdown",
      "source": [
        "### **6.5 Lemmatization**"
      ],
      "metadata": {
        "id": "WkuEkWCZRuqR"
      }
    },
    {
      "cell_type": "code",
      "source": [
        "import nltk\n",
        "nltk.download('wordnet')\n",
        "nltk.download('omw-1.4')"
      ],
      "metadata": {
        "colab": {
          "base_uri": "https://localhost:8080/"
        },
        "id": "fUOd-cCFFJJw",
        "outputId": "2ba27d71-16fb-4eb5-f7c6-3c5055870ecc"
      },
      "execution_count": 23,
      "outputs": [
        {
          "output_type": "stream",
          "name": "stderr",
          "text": [
            "[nltk_data] Downloading package wordnet to /root/nltk_data...\n",
            "[nltk_data]   Package wordnet is already up-to-date!\n",
            "[nltk_data] Downloading package omw-1.4 to /root/nltk_data...\n",
            "[nltk_data]   Package omw-1.4 is already up-to-date!\n"
          ]
        },
        {
          "output_type": "execute_result",
          "data": {
            "text/plain": [
              "True"
            ]
          },
          "metadata": {},
          "execution_count": 23
        }
      ]
    },
    {
      "cell_type": "code",
      "source": [
        "def lemmatize_text(token_list):\n",
        "    return \" \".join([lemmatizer.lemmatize(token) for token in token_list if not token in set(all_stopwords)])\n",
        "\n",
        "lemmatizer = nltk.stem.WordNetLemmatizer()\n",
        "df['Lemmatized Tokens'] = df['NoStopW Tokens'].apply(lambda x: lemmatize_text(x))"
      ],
      "metadata": {
        "id": "I44LV3K8jFRG"
      },
      "execution_count": 24,
      "outputs": []
    },
    {
      "cell_type": "markdown",
      "source": [
        "Export Cleaned Data"
      ],
      "metadata": {
        "id": "AtKNAyI7o_Xr"
      }
    },
    {
      "cell_type": "code",
      "source": [
        "# FOR CSV\n",
        "# Define the path where the cleaned DataFrame want to be saved\n",
        "output_path = '/content/drive/MyDrive/Colab Notebooks/MP1_ProductReview/data/MP2_cleaned_data.csv'\n",
        "\n",
        "# Export the DataFrame to a CSV file\n",
        "df.to_csv(output_path, index=False)\n",
        "\n",
        "# Display the exported path\n",
        "print(f\"Cleaned csv data has been exported to: {output_path}\")\n",
        "\n",
        "# FOR XLSX\n",
        "# Define the path where the cleaned DataFrame wants to be saved\n",
        "output_path = '/content/drive/MyDrive/Colab Notebooks/MP1_ProductReview/data/MP2_cleaned_data.xlsx'\n",
        "\n",
        "# Export the DataFrame to an Excel file\n",
        "df.to_excel(output_path, index=False)\n",
        "\n",
        "# Display the exported path\n",
        "print(f\"Cleaned xlsx data has been exported to: {output_path}\")"
      ],
      "metadata": {
        "colab": {
          "base_uri": "https://localhost:8080/"
        },
        "id": "TbogFumfFJRX",
        "outputId": "4301a7c8-126a-46fe-cd19-27c700861117"
      },
      "execution_count": 25,
      "outputs": [
        {
          "output_type": "stream",
          "name": "stdout",
          "text": [
            "Cleaned csv data has been exported to: /content/drive/MyDrive/Colab Notebooks/MP1_ProductReview/data/MP2_cleaned_data.csv\n",
            "Cleaned xlsx data has been exported to: /content/drive/MyDrive/Colab Notebooks/MP1_ProductReview/data/MP2_cleaned_data.xlsx\n"
          ]
        }
      ]
    },
    {
      "cell_type": "markdown",
      "source": [
        "Import cleaned data"
      ],
      "metadata": {
        "id": "7Z0MzGDMfvhU"
      }
    },
    {
      "cell_type": "code",
      "source": [
        "# Specify the path to the concatenated file\n",
        "cleaned_file_path = '/content/drive/MyDrive/Colab Notebooks/MP1_ProductReview/data/MP2_cleaned_data.csv'\n",
        "\n",
        "# Load the concatenated file into a DataFrame\n",
        "cleaned_amazon_reviews = pd.read_csv(cleaned_file_path)\n",
        "\n",
        "# Make a copy of raw data into a df DataFrame\n",
        "df = cleaned_amazon_reviews.copy()"
      ],
      "metadata": {
        "id": "5nNTPIgVfalu"
      },
      "execution_count": 6,
      "outputs": []
    },
    {
      "cell_type": "markdown",
      "source": [
        "## **7.0 Exploratory Data Analysis**\n",
        "\n",
        "### **7.1 Data Overview**"
      ],
      "metadata": {
        "id": "TgC9GZDryKFO"
      }
    },
    {
      "cell_type": "code",
      "source": [
        "# Data Overview\n",
        "print(\"Data Overview:\")\n",
        "df.head(10)"
      ],
      "metadata": {
        "colab": {
          "base_uri": "https://localhost:8080/",
          "height": 1000
        },
        "id": "OVvjxnnsFJXc",
        "outputId": "77000526-84ba-4643-c376-2a01e198399a"
      },
      "execution_count": 8,
      "outputs": [
        {
          "output_type": "stream",
          "name": "stdout",
          "text": [
            "Data Overview:\n"
          ]
        },
        {
          "output_type": "execute_result",
          "data": {
            "text/plain": [
              "   Rating                                             Review   Skin Concern  \\\n",
              "0     1.0  i bought this because i’ve had really oily ski...  acne and oily   \n",
              "1     1.0  i don’t understand how these brand name compan...  acne and oily   \n",
              "2     1.0  bought this for my child to use as a face wash...  acne and oily   \n",
              "3     1.0  so, you know that slime you make when you mix ...  acne and oily   \n",
              "4     1.0  the product was open and all the liquid was in...  acne and oily   \n",
              "5     1.0  i’m writing this review to hopefully save some...  acne and oily   \n",
              "6     1.0  i’m highly against animal cruelty and if only ...  acne and oily   \n",
              "7     1.0  the product looks like it was used, it was dir...  acne and oily   \n",
              "8     1.0  made his pimples worst more painful he figured...  acne and oily   \n",
              "9     1.0  edit: lol i had a severe allergic reaction two...  acne and oily   \n",
              "\n",
              "    Brand Product Type  Review Len  Word Count  Punct  \\\n",
              "0  CeraVe     Cleanser         883         202    1.6   \n",
              "1  CeraVe     Cleanser         307          60    2.3   \n",
              "2  CeraVe     Cleanser         728         169    1.4   \n",
              "3  CeraVe     Cleanser         923         222    4.8   \n",
              "4  CeraVe     Cleanser          75          18    1.3   \n",
              "5  CeraVe     Cleanser         670         152    2.1   \n",
              "6  CeraVe     Cleanser         289          67    0.7   \n",
              "7  CeraVe     Cleanser          53          13    3.8   \n",
              "8  CeraVe     Cleanser         186          43    1.1   \n",
              "9  CeraVe     Cleanser         928         202    3.6   \n",
              "\n",
              "                                              Tokens  \\\n",
              "0  ['i', 'bought', 'this', 'because', 'i', '’', '...   \n",
              "1  ['i', 'don', '’', 't', 'understand', 'how', 't...   \n",
              "2  ['bought', 'this', 'for', 'my', 'child', 'to',...   \n",
              "3  ['so', ',', 'you', 'know', 'that', 'slime', 'y...   \n",
              "4  ['the', 'product', 'was', 'open', 'and', 'all'...   \n",
              "5  ['i', '’', 'm', 'writing', 'this', 'review', '...   \n",
              "6  ['i', '’', 'm', 'highly', 'against', 'animal',...   \n",
              "7  ['the', 'product', 'looks', 'like', 'it', 'was...   \n",
              "8  ['made', 'his', 'pimples', 'worst', 'more', 'p...   \n",
              "9  ['edit', ':', 'lol', 'i', 'had', 'a', 'severe'...   \n",
              "\n",
              "                                      NoStopW Tokens  \\\n",
              "0  ['summer', 'cleared', 'visits', 'decided', 'hu...   \n",
              "1  ['understand', 'companies', 'putting', 'parabe...   \n",
              "2  ['child', 'breakout', 'tzone', 'caused', 'alle...   \n",
              "3  ['slime', 'mix', 'borax', 'glue', 'feels', 'fe...   \n",
              "4                                         ['liquid']   \n",
              "5  ['writing', 'save', 'bad', 'not', 'caused', 'h...   \n",
              "6  ['highly', 'animal', 'cruelty', 'cruelty', 'no...   \n",
              "7                               ['dirty', 'hairbad']   \n",
              "8  ['pimples', 'worst', 'painful', 'figured', 'wo...   \n",
              "9  ['edit', 'lol', 'severe', 'allergic', 'reactio...   \n",
              "\n",
              "                                   Lemmatized Tokens  \n",
              "0  summer cleared visit decided hurt heard terrib...  \n",
              "1  understand company putting parabens product wr...  \n",
              "2  child breakout tzone caused allergic reaction ...  \n",
              "3  slime mix borax glue feel feel slime gunky fra...  \n",
              "4                                             liquid  \n",
              "5  writing save bad not caused horrible break out...  \n",
              "6  highly animal cruelty cruelty not hyped tbh no...  \n",
              "7                                      dirty hairbad  \n",
              "8  pimple worst painful figured worse idk named s...  \n",
              "9  edit lol severe allergic reaction cetaphil rec...  "
            ],
            "text/html": [
              "\n",
              "  <div id=\"df-4964d2d0-b6e8-4de4-887f-98478c8ef94d\" class=\"colab-df-container\">\n",
              "    <div>\n",
              "<style scoped>\n",
              "    .dataframe tbody tr th:only-of-type {\n",
              "        vertical-align: middle;\n",
              "    }\n",
              "\n",
              "    .dataframe tbody tr th {\n",
              "        vertical-align: top;\n",
              "    }\n",
              "\n",
              "    .dataframe thead th {\n",
              "        text-align: right;\n",
              "    }\n",
              "</style>\n",
              "<table border=\"1\" class=\"dataframe\">\n",
              "  <thead>\n",
              "    <tr style=\"text-align: right;\">\n",
              "      <th></th>\n",
              "      <th>Rating</th>\n",
              "      <th>Review</th>\n",
              "      <th>Skin Concern</th>\n",
              "      <th>Brand</th>\n",
              "      <th>Product Type</th>\n",
              "      <th>Review Len</th>\n",
              "      <th>Word Count</th>\n",
              "      <th>Punct</th>\n",
              "      <th>Tokens</th>\n",
              "      <th>NoStopW Tokens</th>\n",
              "      <th>Lemmatized Tokens</th>\n",
              "    </tr>\n",
              "  </thead>\n",
              "  <tbody>\n",
              "    <tr>\n",
              "      <th>0</th>\n",
              "      <td>1.0</td>\n",
              "      <td>i bought this because i’ve had really oily ski...</td>\n",
              "      <td>acne and oily</td>\n",
              "      <td>CeraVe</td>\n",
              "      <td>Cleanser</td>\n",
              "      <td>883</td>\n",
              "      <td>202</td>\n",
              "      <td>1.6</td>\n",
              "      <td>['i', 'bought', 'this', 'because', 'i', '’', '...</td>\n",
              "      <td>['summer', 'cleared', 'visits', 'decided', 'hu...</td>\n",
              "      <td>summer cleared visit decided hurt heard terrib...</td>\n",
              "    </tr>\n",
              "    <tr>\n",
              "      <th>1</th>\n",
              "      <td>1.0</td>\n",
              "      <td>i don’t understand how these brand name compan...</td>\n",
              "      <td>acne and oily</td>\n",
              "      <td>CeraVe</td>\n",
              "      <td>Cleanser</td>\n",
              "      <td>307</td>\n",
              "      <td>60</td>\n",
              "      <td>2.3</td>\n",
              "      <td>['i', 'don', '’', 't', 'understand', 'how', 't...</td>\n",
              "      <td>['understand', 'companies', 'putting', 'parabe...</td>\n",
              "      <td>understand company putting parabens product wr...</td>\n",
              "    </tr>\n",
              "    <tr>\n",
              "      <th>2</th>\n",
              "      <td>1.0</td>\n",
              "      <td>bought this for my child to use as a face wash...</td>\n",
              "      <td>acne and oily</td>\n",
              "      <td>CeraVe</td>\n",
              "      <td>Cleanser</td>\n",
              "      <td>728</td>\n",
              "      <td>169</td>\n",
              "      <td>1.4</td>\n",
              "      <td>['bought', 'this', 'for', 'my', 'child', 'to',...</td>\n",
              "      <td>['child', 'breakout', 'tzone', 'caused', 'alle...</td>\n",
              "      <td>child breakout tzone caused allergic reaction ...</td>\n",
              "    </tr>\n",
              "    <tr>\n",
              "      <th>3</th>\n",
              "      <td>1.0</td>\n",
              "      <td>so, you know that slime you make when you mix ...</td>\n",
              "      <td>acne and oily</td>\n",
              "      <td>CeraVe</td>\n",
              "      <td>Cleanser</td>\n",
              "      <td>923</td>\n",
              "      <td>222</td>\n",
              "      <td>4.8</td>\n",
              "      <td>['so', ',', 'you', 'know', 'that', 'slime', 'y...</td>\n",
              "      <td>['slime', 'mix', 'borax', 'glue', 'feels', 'fe...</td>\n",
              "      <td>slime mix borax glue feel feel slime gunky fra...</td>\n",
              "    </tr>\n",
              "    <tr>\n",
              "      <th>4</th>\n",
              "      <td>1.0</td>\n",
              "      <td>the product was open and all the liquid was in...</td>\n",
              "      <td>acne and oily</td>\n",
              "      <td>CeraVe</td>\n",
              "      <td>Cleanser</td>\n",
              "      <td>75</td>\n",
              "      <td>18</td>\n",
              "      <td>1.3</td>\n",
              "      <td>['the', 'product', 'was', 'open', 'and', 'all'...</td>\n",
              "      <td>['liquid']</td>\n",
              "      <td>liquid</td>\n",
              "    </tr>\n",
              "    <tr>\n",
              "      <th>5</th>\n",
              "      <td>1.0</td>\n",
              "      <td>i’m writing this review to hopefully save some...</td>\n",
              "      <td>acne and oily</td>\n",
              "      <td>CeraVe</td>\n",
              "      <td>Cleanser</td>\n",
              "      <td>670</td>\n",
              "      <td>152</td>\n",
              "      <td>2.1</td>\n",
              "      <td>['i', '’', 'm', 'writing', 'this', 'review', '...</td>\n",
              "      <td>['writing', 'save', 'bad', 'not', 'caused', 'h...</td>\n",
              "      <td>writing save bad not caused horrible break out...</td>\n",
              "    </tr>\n",
              "    <tr>\n",
              "      <th>6</th>\n",
              "      <td>1.0</td>\n",
              "      <td>i’m highly against animal cruelty and if only ...</td>\n",
              "      <td>acne and oily</td>\n",
              "      <td>CeraVe</td>\n",
              "      <td>Cleanser</td>\n",
              "      <td>289</td>\n",
              "      <td>67</td>\n",
              "      <td>0.7</td>\n",
              "      <td>['i', '’', 'm', 'highly', 'against', 'animal',...</td>\n",
              "      <td>['highly', 'animal', 'cruelty', 'cruelty', 'no...</td>\n",
              "      <td>highly animal cruelty cruelty not hyped tbh no...</td>\n",
              "    </tr>\n",
              "    <tr>\n",
              "      <th>7</th>\n",
              "      <td>1.0</td>\n",
              "      <td>the product looks like it was used, it was dir...</td>\n",
              "      <td>acne and oily</td>\n",
              "      <td>CeraVe</td>\n",
              "      <td>Cleanser</td>\n",
              "      <td>53</td>\n",
              "      <td>13</td>\n",
              "      <td>3.8</td>\n",
              "      <td>['the', 'product', 'looks', 'like', 'it', 'was...</td>\n",
              "      <td>['dirty', 'hairbad']</td>\n",
              "      <td>dirty hairbad</td>\n",
              "    </tr>\n",
              "    <tr>\n",
              "      <th>8</th>\n",
              "      <td>1.0</td>\n",
              "      <td>made his pimples worst more painful he figured...</td>\n",
              "      <td>acne and oily</td>\n",
              "      <td>CeraVe</td>\n",
              "      <td>Cleanser</td>\n",
              "      <td>186</td>\n",
              "      <td>43</td>\n",
              "      <td>1.1</td>\n",
              "      <td>['made', 'his', 'pimples', 'worst', 'more', 'p...</td>\n",
              "      <td>['pimples', 'worst', 'painful', 'figured', 'wo...</td>\n",
              "      <td>pimple worst painful figured worse idk named s...</td>\n",
              "    </tr>\n",
              "    <tr>\n",
              "      <th>9</th>\n",
              "      <td>1.0</td>\n",
              "      <td>edit: lol i had a severe allergic reaction two...</td>\n",
              "      <td>acne and oily</td>\n",
              "      <td>CeraVe</td>\n",
              "      <td>Cleanser</td>\n",
              "      <td>928</td>\n",
              "      <td>202</td>\n",
              "      <td>3.6</td>\n",
              "      <td>['edit', ':', 'lol', 'i', 'had', 'a', 'severe'...</td>\n",
              "      <td>['edit', 'lol', 'severe', 'allergic', 'reactio...</td>\n",
              "      <td>edit lol severe allergic reaction cetaphil rec...</td>\n",
              "    </tr>\n",
              "  </tbody>\n",
              "</table>\n",
              "</div>\n",
              "    <div class=\"colab-df-buttons\">\n",
              "\n",
              "  <div class=\"colab-df-container\">\n",
              "    <button class=\"colab-df-convert\" onclick=\"convertToInteractive('df-4964d2d0-b6e8-4de4-887f-98478c8ef94d')\"\n",
              "            title=\"Convert this dataframe to an interactive table.\"\n",
              "            style=\"display:none;\">\n",
              "\n",
              "  <svg xmlns=\"http://www.w3.org/2000/svg\" height=\"24px\" viewBox=\"0 -960 960 960\">\n",
              "    <path d=\"M120-120v-720h720v720H120Zm60-500h600v-160H180v160Zm220 220h160v-160H400v160Zm0 220h160v-160H400v160ZM180-400h160v-160H180v160Zm440 0h160v-160H620v160ZM180-180h160v-160H180v160Zm440 0h160v-160H620v160Z\"/>\n",
              "  </svg>\n",
              "    </button>\n",
              "\n",
              "  <style>\n",
              "    .colab-df-container {\n",
              "      display:flex;\n",
              "      gap: 12px;\n",
              "    }\n",
              "\n",
              "    .colab-df-convert {\n",
              "      background-color: #E8F0FE;\n",
              "      border: none;\n",
              "      border-radius: 50%;\n",
              "      cursor: pointer;\n",
              "      display: none;\n",
              "      fill: #1967D2;\n",
              "      height: 32px;\n",
              "      padding: 0 0 0 0;\n",
              "      width: 32px;\n",
              "    }\n",
              "\n",
              "    .colab-df-convert:hover {\n",
              "      background-color: #E2EBFA;\n",
              "      box-shadow: 0px 1px 2px rgba(60, 64, 67, 0.3), 0px 1px 3px 1px rgba(60, 64, 67, 0.15);\n",
              "      fill: #174EA6;\n",
              "    }\n",
              "\n",
              "    .colab-df-buttons div {\n",
              "      margin-bottom: 4px;\n",
              "    }\n",
              "\n",
              "    [theme=dark] .colab-df-convert {\n",
              "      background-color: #3B4455;\n",
              "      fill: #D2E3FC;\n",
              "    }\n",
              "\n",
              "    [theme=dark] .colab-df-convert:hover {\n",
              "      background-color: #434B5C;\n",
              "      box-shadow: 0px 1px 3px 1px rgba(0, 0, 0, 0.15);\n",
              "      filter: drop-shadow(0px 1px 2px rgba(0, 0, 0, 0.3));\n",
              "      fill: #FFFFFF;\n",
              "    }\n",
              "  </style>\n",
              "\n",
              "    <script>\n",
              "      const buttonEl =\n",
              "        document.querySelector('#df-4964d2d0-b6e8-4de4-887f-98478c8ef94d button.colab-df-convert');\n",
              "      buttonEl.style.display =\n",
              "        google.colab.kernel.accessAllowed ? 'block' : 'none';\n",
              "\n",
              "      async function convertToInteractive(key) {\n",
              "        const element = document.querySelector('#df-4964d2d0-b6e8-4de4-887f-98478c8ef94d');\n",
              "        const dataTable =\n",
              "          await google.colab.kernel.invokeFunction('convertToInteractive',\n",
              "                                                    [key], {});\n",
              "        if (!dataTable) return;\n",
              "\n",
              "        const docLinkHtml = 'Like what you see? Visit the ' +\n",
              "          '<a target=\"_blank\" href=https://colab.research.google.com/notebooks/data_table.ipynb>data table notebook</a>'\n",
              "          + ' to learn more about interactive tables.';\n",
              "        element.innerHTML = '';\n",
              "        dataTable['output_type'] = 'display_data';\n",
              "        await google.colab.output.renderOutput(dataTable, element);\n",
              "        const docLink = document.createElement('div');\n",
              "        docLink.innerHTML = docLinkHtml;\n",
              "        element.appendChild(docLink);\n",
              "      }\n",
              "    </script>\n",
              "  </div>\n",
              "\n",
              "\n",
              "<div id=\"df-aba51bad-35d2-475b-9d17-b3d0cf28d476\">\n",
              "  <button class=\"colab-df-quickchart\" onclick=\"quickchart('df-aba51bad-35d2-475b-9d17-b3d0cf28d476')\"\n",
              "            title=\"Suggest charts\"\n",
              "            style=\"display:none;\">\n",
              "\n",
              "<svg xmlns=\"http://www.w3.org/2000/svg\" height=\"24px\"viewBox=\"0 0 24 24\"\n",
              "     width=\"24px\">\n",
              "    <g>\n",
              "        <path d=\"M19 3H5c-1.1 0-2 .9-2 2v14c0 1.1.9 2 2 2h14c1.1 0 2-.9 2-2V5c0-1.1-.9-2-2-2zM9 17H7v-7h2v7zm4 0h-2V7h2v10zm4 0h-2v-4h2v4z\"/>\n",
              "    </g>\n",
              "</svg>\n",
              "  </button>\n",
              "\n",
              "<style>\n",
              "  .colab-df-quickchart {\n",
              "      --bg-color: #E8F0FE;\n",
              "      --fill-color: #1967D2;\n",
              "      --hover-bg-color: #E2EBFA;\n",
              "      --hover-fill-color: #174EA6;\n",
              "      --disabled-fill-color: #AAA;\n",
              "      --disabled-bg-color: #DDD;\n",
              "  }\n",
              "\n",
              "  [theme=dark] .colab-df-quickchart {\n",
              "      --bg-color: #3B4455;\n",
              "      --fill-color: #D2E3FC;\n",
              "      --hover-bg-color: #434B5C;\n",
              "      --hover-fill-color: #FFFFFF;\n",
              "      --disabled-bg-color: #3B4455;\n",
              "      --disabled-fill-color: #666;\n",
              "  }\n",
              "\n",
              "  .colab-df-quickchart {\n",
              "    background-color: var(--bg-color);\n",
              "    border: none;\n",
              "    border-radius: 50%;\n",
              "    cursor: pointer;\n",
              "    display: none;\n",
              "    fill: var(--fill-color);\n",
              "    height: 32px;\n",
              "    padding: 0;\n",
              "    width: 32px;\n",
              "  }\n",
              "\n",
              "  .colab-df-quickchart:hover {\n",
              "    background-color: var(--hover-bg-color);\n",
              "    box-shadow: 0 1px 2px rgba(60, 64, 67, 0.3), 0 1px 3px 1px rgba(60, 64, 67, 0.15);\n",
              "    fill: var(--button-hover-fill-color);\n",
              "  }\n",
              "\n",
              "  .colab-df-quickchart-complete:disabled,\n",
              "  .colab-df-quickchart-complete:disabled:hover {\n",
              "    background-color: var(--disabled-bg-color);\n",
              "    fill: var(--disabled-fill-color);\n",
              "    box-shadow: none;\n",
              "  }\n",
              "\n",
              "  .colab-df-spinner {\n",
              "    border: 2px solid var(--fill-color);\n",
              "    border-color: transparent;\n",
              "    border-bottom-color: var(--fill-color);\n",
              "    animation:\n",
              "      spin 1s steps(1) infinite;\n",
              "  }\n",
              "\n",
              "  @keyframes spin {\n",
              "    0% {\n",
              "      border-color: transparent;\n",
              "      border-bottom-color: var(--fill-color);\n",
              "      border-left-color: var(--fill-color);\n",
              "    }\n",
              "    20% {\n",
              "      border-color: transparent;\n",
              "      border-left-color: var(--fill-color);\n",
              "      border-top-color: var(--fill-color);\n",
              "    }\n",
              "    30% {\n",
              "      border-color: transparent;\n",
              "      border-left-color: var(--fill-color);\n",
              "      border-top-color: var(--fill-color);\n",
              "      border-right-color: var(--fill-color);\n",
              "    }\n",
              "    40% {\n",
              "      border-color: transparent;\n",
              "      border-right-color: var(--fill-color);\n",
              "      border-top-color: var(--fill-color);\n",
              "    }\n",
              "    60% {\n",
              "      border-color: transparent;\n",
              "      border-right-color: var(--fill-color);\n",
              "    }\n",
              "    80% {\n",
              "      border-color: transparent;\n",
              "      border-right-color: var(--fill-color);\n",
              "      border-bottom-color: var(--fill-color);\n",
              "    }\n",
              "    90% {\n",
              "      border-color: transparent;\n",
              "      border-bottom-color: var(--fill-color);\n",
              "    }\n",
              "  }\n",
              "</style>\n",
              "\n",
              "  <script>\n",
              "    async function quickchart(key) {\n",
              "      const quickchartButtonEl =\n",
              "        document.querySelector('#' + key + ' button');\n",
              "      quickchartButtonEl.disabled = true;  // To prevent multiple clicks.\n",
              "      quickchartButtonEl.classList.add('colab-df-spinner');\n",
              "      try {\n",
              "        const charts = await google.colab.kernel.invokeFunction(\n",
              "            'suggestCharts', [key], {});\n",
              "      } catch (error) {\n",
              "        console.error('Error during call to suggestCharts:', error);\n",
              "      }\n",
              "      quickchartButtonEl.classList.remove('colab-df-spinner');\n",
              "      quickchartButtonEl.classList.add('colab-df-quickchart-complete');\n",
              "    }\n",
              "    (() => {\n",
              "      let quickchartButtonEl =\n",
              "        document.querySelector('#df-aba51bad-35d2-475b-9d17-b3d0cf28d476 button');\n",
              "      quickchartButtonEl.style.display =\n",
              "        google.colab.kernel.accessAllowed ? 'block' : 'none';\n",
              "    })();\n",
              "  </script>\n",
              "</div>\n",
              "    </div>\n",
              "  </div>\n"
            ],
            "application/vnd.google.colaboratory.intrinsic+json": {
              "type": "dataframe",
              "variable_name": "df",
              "summary": "{\n  \"name\": \"df\",\n  \"rows\": 9649,\n  \"fields\": [\n    {\n      \"column\": \"Rating\",\n      \"properties\": {\n        \"dtype\": \"number\",\n        \"std\": 1.5140156390778263,\n        \"min\": 1.0,\n        \"max\": 5.0,\n        \"num_unique_values\": 5,\n        \"samples\": [\n          2.0,\n          5.0,\n          3.0\n        ],\n        \"semantic_type\": \"\",\n        \"description\": \"\"\n      }\n    },\n    {\n      \"column\": \"Review\",\n      \"properties\": {\n        \"dtype\": \"string\",\n        \"num_unique_values\": 9597,\n        \"samples\": [\n          \"i have really sensitive skin, so i might not be the best at commenting on this. the product made my skin feel oily. however, it did not have an unpleasant smell or texture. just didn't work for my skin type. product came as described with no blemishes or damage to the product.so i might not be the best at commenting on this\",\n          \"the box arrived in a very bad condition, it was for a gift, so i could not do it, because it looked like a cheap serum or some promotion.step presentation.it is not as good as even those of neutrogen that i have already used.\",\n          \"i have repurchased this product so many times! it is a great, simple, and affordable hyaluronic acid for your skincare routine. i have dry/combo skin and do not want anything that will conflict with my acne medicine or moisturizer. cerave is a very dependable brand as well!repurchase alert\"\n        ],\n        \"semantic_type\": \"\",\n        \"description\": \"\"\n      }\n    },\n    {\n      \"column\": \"Skin Concern\",\n      \"properties\": {\n        \"dtype\": \"category\",\n        \"num_unique_values\": 3,\n        \"samples\": [\n          \"acne and oily\",\n          \"anti-aging\",\n          \"dry\"\n        ],\n        \"semantic_type\": \"\",\n        \"description\": \"\"\n      }\n    },\n    {\n      \"column\": \"Brand\",\n      \"properties\": {\n        \"dtype\": \"category\",\n        \"num_unique_values\": 2,\n        \"samples\": [\n          \"La Roche-Posay\",\n          \"CeraVe\"\n        ],\n        \"semantic_type\": \"\",\n        \"description\": \"\"\n      }\n    },\n    {\n      \"column\": \"Product Type\",\n      \"properties\": {\n        \"dtype\": \"category\",\n        \"num_unique_values\": 5,\n        \"samples\": [\n          \"Cream\",\n          \"Eye Cream\"\n        ],\n        \"semantic_type\": \"\",\n        \"description\": \"\"\n      }\n    },\n    {\n      \"column\": \"Review Len\",\n      \"properties\": {\n        \"dtype\": \"number\",\n        \"std\": 251,\n        \"min\": 2,\n        \"max\": 5344,\n        \"num_unique_values\": 980,\n        \"samples\": [\n          616,\n          439\n        ],\n        \"semantic_type\": \"\",\n        \"description\": \"\"\n      }\n    },\n    {\n      \"column\": \"Word Count\",\n      \"properties\": {\n        \"dtype\": \"number\",\n        \"std\": 55,\n        \"min\": 1,\n        \"max\": 1072,\n        \"num_unique_values\": 325,\n        \"samples\": [\n          229,\n          16\n        ],\n        \"semantic_type\": \"\",\n        \"description\": \"\"\n      }\n    },\n    {\n      \"column\": \"Punct\",\n      \"properties\": {\n        \"dtype\": \"number\",\n        \"std\": 1.9373957030563838,\n        \"min\": 0.0,\n        \"max\": 27.3,\n        \"num_unique_values\": 133,\n        \"samples\": [\n          7.7,\n          9.2\n        ],\n        \"semantic_type\": \"\",\n        \"description\": \"\"\n      }\n    },\n    {\n      \"column\": \"Tokens\",\n      \"properties\": {\n        \"dtype\": \"string\",\n        \"num_unique_values\": 9584,\n        \"samples\": [\n          \"['for', 'the', 'first', 'few', 'days', 'it', 'felt', 'like', 'the', 'skin', 'was', 'getting', 'nice', 'and', 'soft', '.', 'but', 'started', 'getting', 'acne', 'shortly', 'thereafter', '.', 'so', 'it', 'may', 'not', 'be', 'compatible', 'with', 'all', 'types', 'of', 'skin.for', 'the', 'first', 'few', 'days', 'it', 'felt', 'like', 'the', 'skin', 'was', 'getting', 'nice', 'and', 'soft']\",\n          \"['it', 'works', 'well', 'in', 'its', 'own', ',', 'but', 'if', 'you', 'use', 'any', 'other', 'product', 'like', 'sunscreen', 'or', 'makeup', 'with', 'it', 'on', ',', 'it', 'clumps', 'up', 'and', 'comes', 'off', 'our', 'face.more', 'lotion', 'like']\"\n        ],\n        \"semantic_type\": \"\",\n        \"description\": \"\"\n      }\n    },\n    {\n      \"column\": \"NoStopW Tokens\",\n      \"properties\": {\n        \"dtype\": \"string\",\n        \"num_unique_values\": 9459,\n        \"samples\": [\n          \"['not', 'migrate', 'eyes', 'not', 'miracle', 'sameit', 'not', 'migrate', 'eyes']\",\n          \"['dark', 'circles', 'blue', 'brown', 'metal', 'applicator', 'dispenses', 'peasized', 'recommended', 'application', 'tubes', 'not', 'expect', 'miracle', 'overnight', 'revisit', 'update', 'whenif', 'dark', 'circle', 'amazon', 'return', 'desired', 'resultsla', 'rocheposay', 'pigmentclar', 'dark', 'circle']\"\n        ],\n        \"semantic_type\": \"\",\n        \"description\": \"\"\n      }\n    },\n    {\n      \"column\": \"Lemmatized Tokens\",\n      \"properties\": {\n        \"dtype\": \"string\",\n        \"num_unique_values\": 9458,\n        \"samples\": [\n          \"love crow foot noticeable eye alivehelp tired eye\",\n          \"eye brighter washing concealer patchy left eye circle darker constantly rubbingworked\\u2026 defect\"\n        ],\n        \"semantic_type\": \"\",\n        \"description\": \"\"\n      }\n    }\n  ]\n}"
            }
          },
          "metadata": {},
          "execution_count": 8
        }
      ]
    },
    {
      "cell_type": "code",
      "source": [
        "print(\"\\nInformation about the data:\")\n",
        "df.info()"
      ],
      "metadata": {
        "colab": {
          "base_uri": "https://localhost:8080/"
        },
        "id": "KudCcic7EVEd",
        "outputId": "69827a77-28cf-4a0d-fdea-e56fc78b4b63"
      },
      "execution_count": 9,
      "outputs": [
        {
          "output_type": "stream",
          "name": "stdout",
          "text": [
            "\n",
            "Information about the data:\n",
            "<class 'pandas.core.frame.DataFrame'>\n",
            "RangeIndex: 9649 entries, 0 to 9648\n",
            "Data columns (total 11 columns):\n",
            " #   Column             Non-Null Count  Dtype  \n",
            "---  ------             --------------  -----  \n",
            " 0   Rating             9649 non-null   float64\n",
            " 1   Review             9649 non-null   object \n",
            " 2   Skin Concern       9649 non-null   object \n",
            " 3   Brand              9649 non-null   object \n",
            " 4   Product Type       9649 non-null   object \n",
            " 5   Review Len         9649 non-null   int64  \n",
            " 6   Word Count         9649 non-null   int64  \n",
            " 7   Punct              9649 non-null   float64\n",
            " 8   Tokens             9649 non-null   object \n",
            " 9   NoStopW Tokens     9649 non-null   object \n",
            " 10  Lemmatized Tokens  9596 non-null   object \n",
            "dtypes: float64(2), int64(2), object(7)\n",
            "memory usage: 829.3+ KB\n"
          ]
        }
      ]
    },
    {
      "cell_type": "markdown",
      "source": [
        "### **7.2 Statistical Summary**"
      ],
      "metadata": {
        "id": "scHOQasAya2v"
      }
    },
    {
      "cell_type": "markdown",
      "source": [
        "### **7.2.1 Descriptive Statistics**"
      ],
      "metadata": {
        "id": "-DYNY-cZyd78"
      }
    },
    {
      "cell_type": "code",
      "source": [
        "# Frequency distribution for 'rating'\n",
        "rating_counts = df['Rating'].value_counts()\n",
        "\n",
        "# Sort the frequency distribution based on rating values\n",
        "sorted_rating_counts = rating_counts.sort_index(ascending=False)\n",
        "\n",
        "# Mode for 'rating'\n",
        "mode_rating = df['Rating'].mode().iloc[0]\n",
        "\n",
        "# Median for 'rating'\n",
        "median_rating = df['Rating'].median()\n",
        "\n",
        "# Range for 'rating'\n",
        "rating_range = sorted_rating_counts.index.max() - sorted_rating_counts.index.min()\n",
        "\n",
        "# Print mode, median, and range\n",
        "print(\"Mode:\", mode_rating)\n",
        "print(\"Median:\", median_rating)\n",
        "print(\"Range:\", rating_range)\n",
        "\n",
        "# Print the sorted frequency distribution\n",
        "print(\"\\nRating Descriptive Statistics:\")\n",
        "print(\"Frequency Distribution:\")\n",
        "print(sorted_rating_counts)"
      ],
      "metadata": {
        "colab": {
          "base_uri": "https://localhost:8080/"
        },
        "id": "riyd_cXfEVG4",
        "outputId": "d2f14795-9f0a-422c-97e8-dbfbc02f368d"
      },
      "execution_count": 28,
      "outputs": [
        {
          "output_type": "stream",
          "name": "stdout",
          "text": [
            "Mode: 5.0\n",
            "Median: 3.0\n",
            "Range: 4.0\n",
            "\n",
            "Rating Descriptive Statistics:\n",
            "Frequency Distribution:\n",
            "Rating\n",
            "5.0    2915\n",
            "4.0    1773\n",
            "3.0    1608\n",
            "2.0    1395\n",
            "1.0    1958\n",
            "Name: count, dtype: int64\n"
          ]
        }
      ]
    },
    {
      "cell_type": "code",
      "source": [
        "# Specify numerical columns\n",
        "numerical_columns = ['Review Len', 'Word Count']\n",
        "\n",
        "# Statistical Summary for Numerical Columns\n",
        "print(\"\\nStatistical Summary for Numerical Columns:\")\n",
        "df[numerical_columns].describe()"
      ],
      "metadata": {
        "colab": {
          "base_uri": "https://localhost:8080/",
          "height": 335
        },
        "id": "YK5-1ajVyZKa",
        "outputId": "95c787a3-3669-4db5-e7ae-b55121df19fc"
      },
      "execution_count": 29,
      "outputs": [
        {
          "output_type": "stream",
          "name": "stdout",
          "text": [
            "\n",
            "Statistical Summary for Numerical Columns:\n"
          ]
        },
        {
          "output_type": "execute_result",
          "data": {
            "text/plain": [
              "        Review Len   Word Count\n",
              "count  9649.000000  9649.000000\n",
              "mean    219.570215    49.330190\n",
              "std     251.109369    55.805354\n",
              "min       2.000000     1.000000\n",
              "25%      76.000000    16.000000\n",
              "50%     148.000000    33.000000\n",
              "75%     274.000000    62.000000\n",
              "max    5344.000000  1072.000000"
            ],
            "text/html": [
              "\n",
              "  <div id=\"df-91f7124e-5328-409c-be63-63e67fb283eb\" class=\"colab-df-container\">\n",
              "    <div>\n",
              "<style scoped>\n",
              "    .dataframe tbody tr th:only-of-type {\n",
              "        vertical-align: middle;\n",
              "    }\n",
              "\n",
              "    .dataframe tbody tr th {\n",
              "        vertical-align: top;\n",
              "    }\n",
              "\n",
              "    .dataframe thead th {\n",
              "        text-align: right;\n",
              "    }\n",
              "</style>\n",
              "<table border=\"1\" class=\"dataframe\">\n",
              "  <thead>\n",
              "    <tr style=\"text-align: right;\">\n",
              "      <th></th>\n",
              "      <th>Review Len</th>\n",
              "      <th>Word Count</th>\n",
              "    </tr>\n",
              "  </thead>\n",
              "  <tbody>\n",
              "    <tr>\n",
              "      <th>count</th>\n",
              "      <td>9649.000000</td>\n",
              "      <td>9649.000000</td>\n",
              "    </tr>\n",
              "    <tr>\n",
              "      <th>mean</th>\n",
              "      <td>219.570215</td>\n",
              "      <td>49.330190</td>\n",
              "    </tr>\n",
              "    <tr>\n",
              "      <th>std</th>\n",
              "      <td>251.109369</td>\n",
              "      <td>55.805354</td>\n",
              "    </tr>\n",
              "    <tr>\n",
              "      <th>min</th>\n",
              "      <td>2.000000</td>\n",
              "      <td>1.000000</td>\n",
              "    </tr>\n",
              "    <tr>\n",
              "      <th>25%</th>\n",
              "      <td>76.000000</td>\n",
              "      <td>16.000000</td>\n",
              "    </tr>\n",
              "    <tr>\n",
              "      <th>50%</th>\n",
              "      <td>148.000000</td>\n",
              "      <td>33.000000</td>\n",
              "    </tr>\n",
              "    <tr>\n",
              "      <th>75%</th>\n",
              "      <td>274.000000</td>\n",
              "      <td>62.000000</td>\n",
              "    </tr>\n",
              "    <tr>\n",
              "      <th>max</th>\n",
              "      <td>5344.000000</td>\n",
              "      <td>1072.000000</td>\n",
              "    </tr>\n",
              "  </tbody>\n",
              "</table>\n",
              "</div>\n",
              "    <div class=\"colab-df-buttons\">\n",
              "\n",
              "  <div class=\"colab-df-container\">\n",
              "    <button class=\"colab-df-convert\" onclick=\"convertToInteractive('df-91f7124e-5328-409c-be63-63e67fb283eb')\"\n",
              "            title=\"Convert this dataframe to an interactive table.\"\n",
              "            style=\"display:none;\">\n",
              "\n",
              "  <svg xmlns=\"http://www.w3.org/2000/svg\" height=\"24px\" viewBox=\"0 -960 960 960\">\n",
              "    <path d=\"M120-120v-720h720v720H120Zm60-500h600v-160H180v160Zm220 220h160v-160H400v160Zm0 220h160v-160H400v160ZM180-400h160v-160H180v160Zm440 0h160v-160H620v160ZM180-180h160v-160H180v160Zm440 0h160v-160H620v160Z\"/>\n",
              "  </svg>\n",
              "    </button>\n",
              "\n",
              "  <style>\n",
              "    .colab-df-container {\n",
              "      display:flex;\n",
              "      gap: 12px;\n",
              "    }\n",
              "\n",
              "    .colab-df-convert {\n",
              "      background-color: #E8F0FE;\n",
              "      border: none;\n",
              "      border-radius: 50%;\n",
              "      cursor: pointer;\n",
              "      display: none;\n",
              "      fill: #1967D2;\n",
              "      height: 32px;\n",
              "      padding: 0 0 0 0;\n",
              "      width: 32px;\n",
              "    }\n",
              "\n",
              "    .colab-df-convert:hover {\n",
              "      background-color: #E2EBFA;\n",
              "      box-shadow: 0px 1px 2px rgba(60, 64, 67, 0.3), 0px 1px 3px 1px rgba(60, 64, 67, 0.15);\n",
              "      fill: #174EA6;\n",
              "    }\n",
              "\n",
              "    .colab-df-buttons div {\n",
              "      margin-bottom: 4px;\n",
              "    }\n",
              "\n",
              "    [theme=dark] .colab-df-convert {\n",
              "      background-color: #3B4455;\n",
              "      fill: #D2E3FC;\n",
              "    }\n",
              "\n",
              "    [theme=dark] .colab-df-convert:hover {\n",
              "      background-color: #434B5C;\n",
              "      box-shadow: 0px 1px 3px 1px rgba(0, 0, 0, 0.15);\n",
              "      filter: drop-shadow(0px 1px 2px rgba(0, 0, 0, 0.3));\n",
              "      fill: #FFFFFF;\n",
              "    }\n",
              "  </style>\n",
              "\n",
              "    <script>\n",
              "      const buttonEl =\n",
              "        document.querySelector('#df-91f7124e-5328-409c-be63-63e67fb283eb button.colab-df-convert');\n",
              "      buttonEl.style.display =\n",
              "        google.colab.kernel.accessAllowed ? 'block' : 'none';\n",
              "\n",
              "      async function convertToInteractive(key) {\n",
              "        const element = document.querySelector('#df-91f7124e-5328-409c-be63-63e67fb283eb');\n",
              "        const dataTable =\n",
              "          await google.colab.kernel.invokeFunction('convertToInteractive',\n",
              "                                                    [key], {});\n",
              "        if (!dataTable) return;\n",
              "\n",
              "        const docLinkHtml = 'Like what you see? Visit the ' +\n",
              "          '<a target=\"_blank\" href=https://colab.research.google.com/notebooks/data_table.ipynb>data table notebook</a>'\n",
              "          + ' to learn more about interactive tables.';\n",
              "        element.innerHTML = '';\n",
              "        dataTable['output_type'] = 'display_data';\n",
              "        await google.colab.output.renderOutput(dataTable, element);\n",
              "        const docLink = document.createElement('div');\n",
              "        docLink.innerHTML = docLinkHtml;\n",
              "        element.appendChild(docLink);\n",
              "      }\n",
              "    </script>\n",
              "  </div>\n",
              "\n",
              "\n",
              "<div id=\"df-b26c7d69-740f-409a-b25e-f0f2dc16e4f8\">\n",
              "  <button class=\"colab-df-quickchart\" onclick=\"quickchart('df-b26c7d69-740f-409a-b25e-f0f2dc16e4f8')\"\n",
              "            title=\"Suggest charts\"\n",
              "            style=\"display:none;\">\n",
              "\n",
              "<svg xmlns=\"http://www.w3.org/2000/svg\" height=\"24px\"viewBox=\"0 0 24 24\"\n",
              "     width=\"24px\">\n",
              "    <g>\n",
              "        <path d=\"M19 3H5c-1.1 0-2 .9-2 2v14c0 1.1.9 2 2 2h14c1.1 0 2-.9 2-2V5c0-1.1-.9-2-2-2zM9 17H7v-7h2v7zm4 0h-2V7h2v10zm4 0h-2v-4h2v4z\"/>\n",
              "    </g>\n",
              "</svg>\n",
              "  </button>\n",
              "\n",
              "<style>\n",
              "  .colab-df-quickchart {\n",
              "      --bg-color: #E8F0FE;\n",
              "      --fill-color: #1967D2;\n",
              "      --hover-bg-color: #E2EBFA;\n",
              "      --hover-fill-color: #174EA6;\n",
              "      --disabled-fill-color: #AAA;\n",
              "      --disabled-bg-color: #DDD;\n",
              "  }\n",
              "\n",
              "  [theme=dark] .colab-df-quickchart {\n",
              "      --bg-color: #3B4455;\n",
              "      --fill-color: #D2E3FC;\n",
              "      --hover-bg-color: #434B5C;\n",
              "      --hover-fill-color: #FFFFFF;\n",
              "      --disabled-bg-color: #3B4455;\n",
              "      --disabled-fill-color: #666;\n",
              "  }\n",
              "\n",
              "  .colab-df-quickchart {\n",
              "    background-color: var(--bg-color);\n",
              "    border: none;\n",
              "    border-radius: 50%;\n",
              "    cursor: pointer;\n",
              "    display: none;\n",
              "    fill: var(--fill-color);\n",
              "    height: 32px;\n",
              "    padding: 0;\n",
              "    width: 32px;\n",
              "  }\n",
              "\n",
              "  .colab-df-quickchart:hover {\n",
              "    background-color: var(--hover-bg-color);\n",
              "    box-shadow: 0 1px 2px rgba(60, 64, 67, 0.3), 0 1px 3px 1px rgba(60, 64, 67, 0.15);\n",
              "    fill: var(--button-hover-fill-color);\n",
              "  }\n",
              "\n",
              "  .colab-df-quickchart-complete:disabled,\n",
              "  .colab-df-quickchart-complete:disabled:hover {\n",
              "    background-color: var(--disabled-bg-color);\n",
              "    fill: var(--disabled-fill-color);\n",
              "    box-shadow: none;\n",
              "  }\n",
              "\n",
              "  .colab-df-spinner {\n",
              "    border: 2px solid var(--fill-color);\n",
              "    border-color: transparent;\n",
              "    border-bottom-color: var(--fill-color);\n",
              "    animation:\n",
              "      spin 1s steps(1) infinite;\n",
              "  }\n",
              "\n",
              "  @keyframes spin {\n",
              "    0% {\n",
              "      border-color: transparent;\n",
              "      border-bottom-color: var(--fill-color);\n",
              "      border-left-color: var(--fill-color);\n",
              "    }\n",
              "    20% {\n",
              "      border-color: transparent;\n",
              "      border-left-color: var(--fill-color);\n",
              "      border-top-color: var(--fill-color);\n",
              "    }\n",
              "    30% {\n",
              "      border-color: transparent;\n",
              "      border-left-color: var(--fill-color);\n",
              "      border-top-color: var(--fill-color);\n",
              "      border-right-color: var(--fill-color);\n",
              "    }\n",
              "    40% {\n",
              "      border-color: transparent;\n",
              "      border-right-color: var(--fill-color);\n",
              "      border-top-color: var(--fill-color);\n",
              "    }\n",
              "    60% {\n",
              "      border-color: transparent;\n",
              "      border-right-color: var(--fill-color);\n",
              "    }\n",
              "    80% {\n",
              "      border-color: transparent;\n",
              "      border-right-color: var(--fill-color);\n",
              "      border-bottom-color: var(--fill-color);\n",
              "    }\n",
              "    90% {\n",
              "      border-color: transparent;\n",
              "      border-bottom-color: var(--fill-color);\n",
              "    }\n",
              "  }\n",
              "</style>\n",
              "\n",
              "  <script>\n",
              "    async function quickchart(key) {\n",
              "      const quickchartButtonEl =\n",
              "        document.querySelector('#' + key + ' button');\n",
              "      quickchartButtonEl.disabled = true;  // To prevent multiple clicks.\n",
              "      quickchartButtonEl.classList.add('colab-df-spinner');\n",
              "      try {\n",
              "        const charts = await google.colab.kernel.invokeFunction(\n",
              "            'suggestCharts', [key], {});\n",
              "      } catch (error) {\n",
              "        console.error('Error during call to suggestCharts:', error);\n",
              "      }\n",
              "      quickchartButtonEl.classList.remove('colab-df-spinner');\n",
              "      quickchartButtonEl.classList.add('colab-df-quickchart-complete');\n",
              "    }\n",
              "    (() => {\n",
              "      let quickchartButtonEl =\n",
              "        document.querySelector('#df-b26c7d69-740f-409a-b25e-f0f2dc16e4f8 button');\n",
              "      quickchartButtonEl.style.display =\n",
              "        google.colab.kernel.accessAllowed ? 'block' : 'none';\n",
              "    })();\n",
              "  </script>\n",
              "</div>\n",
              "    </div>\n",
              "  </div>\n"
            ],
            "application/vnd.google.colaboratory.intrinsic+json": {
              "type": "dataframe",
              "summary": "{\n  \"name\": \"df[numerical_columns]\",\n  \"rows\": 8,\n  \"fields\": [\n    {\n      \"column\": \"Review Len\",\n      \"properties\": {\n        \"dtype\": \"number\",\n        \"std\": 3586.097774999732,\n        \"min\": 2.0,\n        \"max\": 9649.0,\n        \"num_unique_values\": 8,\n        \"samples\": [\n          219.5702145300031,\n          148.0,\n          9649.0\n        ],\n        \"semantic_type\": \"\",\n        \"description\": \"\"\n      }\n    },\n    {\n      \"column\": \"Word Count\",\n      \"properties\": {\n        \"dtype\": \"number\",\n        \"std\": 3365.959246804571,\n        \"min\": 1.0,\n        \"max\": 9649.0,\n        \"num_unique_values\": 8,\n        \"samples\": [\n          49.33018965695927,\n          33.0,\n          9649.0\n        ],\n        \"semantic_type\": \"\",\n        \"description\": \"\"\n      }\n    }\n  ]\n}"
            }
          },
          "metadata": {},
          "execution_count": 29
        }
      ]
    },
    {
      "cell_type": "markdown",
      "source": [
        "### **7.2.2 Non-Parametric Test**"
      ],
      "metadata": {
        "id": "BoKicf_7p97R"
      }
    },
    {
      "cell_type": "code",
      "source": [
        "from scipy.stats import mannwhitneyu\n",
        "\n",
        "# To assess whether there's a significant difference in the distribution of ratings between two brands (independent samples).\n",
        "\n",
        "# Separate ratings for each brand\n",
        "cerave_ratings = df[df['Brand'] == 'CeraVe']['Rating']\n",
        "larocheposay_ratings = df[df['Brand'] == 'La Roche-Posay']['Rating']\n",
        "\n",
        "# Mann-Whitney U Test\n",
        "statistic, p_value = mannwhitneyu(cerave_ratings, larocheposay_ratings)\n",
        "\n",
        "# Display the results\n",
        "print(\"\\nMann-Whitney U Test:\")\n",
        "print(f\"Test Statistic: {statistic}\")\n",
        "print(f\"P-Value: {p_value}\")\n",
        "\n",
        "# Interpret the results\n",
        "alpha = 0.05\n",
        "if p_value < alpha:\n",
        "    print(\"The difference in ratings between CeraVe and La Roche-Posay is statistically significant.\")\n",
        "else:\n",
        "    print(\"There is no statistically significant difference in ratings between CeraVe and La Roche-Posay.\")"
      ],
      "metadata": {
        "colab": {
          "base_uri": "https://localhost:8080/"
        },
        "id": "7ZUJ7vG6yZEq",
        "outputId": "7138dac8-7507-4639-cb55-7dd22499e08c"
      },
      "execution_count": 30,
      "outputs": [
        {
          "output_type": "stream",
          "name": "stdout",
          "text": [
            "\n",
            "Mann-Whitney U Test:\n",
            "Test Statistic: 11248802.0\n",
            "P-Value: 0.25790424735453876\n",
            "There is no statistically significant difference in ratings between CeraVe and La Roche-Posay.\n"
          ]
        }
      ]
    },
    {
      "cell_type": "markdown",
      "source": [
        "### **7.3 Review Text Length Distribution**"
      ],
      "metadata": {
        "id": "RgMK-V7R9ELn"
      }
    },
    {
      "cell_type": "markdown",
      "source": [
        "### **7.3.1 CeraVe - Review Text Length**"
      ],
      "metadata": {
        "id": "QZPgXNDtsXbl"
      }
    },
    {
      "cell_type": "code",
      "source": [
        "# CeraVe\n",
        "\n",
        "import matplotlib.pyplot as plt\n",
        "\n",
        "# Filter the DataFrame for brand 'CeraVe'\n",
        "df_cerave = df[df['Brand'] == 'CeraVe']\n",
        "\n",
        "# Filter out rows with empty review text\n",
        "df_cerave_filtered = df_cerave.dropna(subset=['Review Len'])\n",
        "\n",
        "# Plot the histogram\n",
        "plt.figure(figsize=(10, 6))\n",
        "plt.hist(df_cerave_filtered['Review Len'], bins=100, color='skyblue', edgecolor='black')\n",
        "plt.title('CeraVe Review Text Length Distribution')\n",
        "plt.xlabel('Review Text Length')\n",
        "plt.ylabel('Frequency')\n",
        "plt.grid(axis='y', linestyle='--', alpha=0.7)\n",
        "plt.show()"
      ],
      "metadata": {
        "colab": {
          "base_uri": "https://localhost:8080/",
          "height": 537
        },
        "id": "kKTZL-Tz9An8",
        "outputId": "9987a0f1-d6a4-4de5-9eb0-30f5ece8ddd2"
      },
      "execution_count": 31,
      "outputs": [
        {
          "output_type": "display_data",
          "data": {
            "text/plain": [
              "<Figure size 1000x600 with 1 Axes>"
            ],
            "image/png": "[encoded data removed]"
          },
          "metadata": {}
        }
      ]
    },
    {
      "cell_type": "markdown",
      "source": [
        "### **7.3.2 La Roche-Posay - Review Text Length**"
      ],
      "metadata": {
        "id": "0ouhaGBiseZO"
      }
    },
    {
      "cell_type": "code",
      "source": [
        "# La Roche-Posay\n",
        "# Filter the DataFrame for brand 'La Roche-Posay'\n",
        "df_lrp = df[df['Brand'] == 'La Roche-Posay']\n",
        "\n",
        "# Filter out rows with empty review text\n",
        "df_lrp_filtered = df_lrp.dropna(subset=['Review Len'])\n",
        "\n",
        "# Plot the histogram\n",
        "plt.figure(figsize=(10, 6))\n",
        "plt.hist(df_lrp_filtered['Review Len'], bins=100, color='skyblue', edgecolor='black')\n",
        "plt.title('La Roche-Posay Review Text Length Distribution')\n",
        "plt.xlabel('Review Text Length')\n",
        "plt.ylabel('Frequency')\n",
        "plt.grid(axis='y', linestyle='--', alpha=0.7)\n",
        "plt.show()"
      ],
      "metadata": {
        "colab": {
          "base_uri": "https://localhost:8080/",
          "height": 543
        },
        "id": "3cMb3cEQ9Rkg",
        "outputId": "b0a296d7-5818-430c-e812-0f4c73e6a055"
      },
      "execution_count": 32,
      "outputs": [
        {
          "output_type": "display_data",
          "data": {
            "text/plain": [
              "<Figure size 1000x600 with 1 Axes>"
            ],
            "image/png": "[encoded data removed]"
          },
          "metadata": {}
        }
      ]
    },
    {
      "cell_type": "markdown",
      "source": [
        "## **8.0 Sentiment Analysis**"
      ],
      "metadata": {
        "id": "TmfBleqA5KS6"
      }
    },
    {
      "cell_type": "markdown",
      "source": [
        "Creating 'Rating Class' Column"
      ],
      "metadata": {
        "id": "lDdMcHJh72jR"
      }
    },
    {
      "cell_type": "code",
      "source": [
        "# Figuring out the distribution of categories\n",
        "df['Rating'].value_counts()"
      ],
      "metadata": {
        "colab": {
          "base_uri": "https://localhost:8080/"
        },
        "id": "F05gtvag6HOF",
        "outputId": "da5139b0-424e-4a3e-a72b-01abec262ea7"
      },
      "execution_count": 11,
      "outputs": [
        {
          "output_type": "execute_result",
          "data": {
            "text/plain": [
              "Rating\n",
              "5.0    2915\n",
              "1.0    1958\n",
              "4.0    1773\n",
              "3.0    1608\n",
              "2.0    1395\n",
              "Name: count, dtype: int64"
            ]
          },
          "metadata": {},
          "execution_count": 11
        }
      ]
    },
    {
      "cell_type": "code",
      "source": [
        "# Deciding the outcome column (product rating) based on the overall score.\n",
        "# If the score is greater than 3, we take that as high-rated rating\n",
        "# If the value is less than 3 it is low-rated\n",
        "# If it is equal to 3, we take that as moderate-rated rating.\n",
        "\n",
        "def classify_rating(row):\n",
        "    if row['Rating'] == 3.0:\n",
        "        val = 'Moderate-rated'\n",
        "    elif row['Rating'] == 1.0 or row['Rating'] == 2.0:\n",
        "        val = 'Low-rated'\n",
        "    elif row['Rating'] == 4.0 or row['Rating'] == 5.0:\n",
        "        val = 'High-rated'\n",
        "    else:\n",
        "        val = -1\n",
        "    return val\n",
        "\n",
        "# Applying the function in our new column\n",
        "# sentiment -> rating_class\n",
        "df['Rating Class'] = df.apply(classify_rating, axis=1)"
      ],
      "metadata": {
        "id": "BR9Osvnm6HRJ"
      },
      "execution_count": 12,
      "outputs": []
    },
    {
      "cell_type": "code",
      "source": [
        "df['Rating Class'].value_counts()"
      ],
      "metadata": {
        "colab": {
          "base_uri": "https://localhost:8080/"
        },
        "id": "Y83-7WTW6HUN",
        "outputId": "816ee5ae-8f19-4d6c-ac63-92769eda8556"
      },
      "execution_count": 13,
      "outputs": [
        {
          "output_type": "execute_result",
          "data": {
            "text/plain": [
              "Rating Class\n",
              "High-rated        4688\n",
              "Low-rated         3353\n",
              "Moderate-rated    1608\n",
              "Name: count, dtype: int64"
            ]
          },
          "metadata": {},
          "execution_count": 13
        }
      ]
    },
    {
      "cell_type": "markdown",
      "source": [
        "### **8.1 Pre-Trained Model**"
      ],
      "metadata": {
        "id": "bMDb5fP1Dhe2"
      }
    },
    {
      "cell_type": "markdown",
      "source": [
        "### **8.1.1 NLTK Sentiment Analyzer**"
      ],
      "metadata": {
        "id": "sSQZg9eR5N_W"
      }
    },
    {
      "cell_type": "code",
      "source": [
        "# Add label/ground truth to the reviews\n",
        "df['Label'] = df['Rating'].map({1.0:0, 2.0:0, 3.0:0, 4.0:1, 5.0:1})"
      ],
      "metadata": {
        "id": "0VZ-zTkGDyjc"
      },
      "execution_count": 14,
      "outputs": []
    },
    {
      "cell_type": "code",
      "source": [
        "import nltk\n",
        "nltk.download('vader_lexicon')\n",
        "\n",
        "from nltk.sentiment.vader import SentimentIntensityAnalyzer\n",
        "analyzer = SentimentIntensityAnalyzer()"
      ],
      "metadata": {
        "colab": {
          "base_uri": "https://localhost:8080/"
        },
        "id": "7NLXTiCvRpuf",
        "outputId": "0577051d-c2a8-49f0-e655-d3ee36e9a6e9"
      },
      "execution_count": 37,
      "outputs": [
        {
          "output_type": "stream",
          "name": "stderr",
          "text": [
            "[nltk_data] Downloading package vader_lexicon to /root/nltk_data...\n",
            "[nltk_data]   Package vader_lexicon is already up-to-date!\n"
          ]
        }
      ]
    },
    {
      "cell_type": "code",
      "source": [
        "# Create get_sentiment function\n",
        "\n",
        "def get_sentiment(text):\n",
        "    scores = analyzer.polarity_scores(text)\n",
        "    sentiment = 1 if scores['pos'] > 0 else 0\n",
        "    return sentiment\n",
        "\n",
        "# Apply get_sentiment function\n",
        "df['VADER Sentiment'] = df['Lemmatized Tokens'].apply(get_sentiment)\n",
        "df"
      ],
      "metadata": {
        "colab": {
          "base_uri": "https://localhost:8080/",
          "height": 1000
        },
        "id": "kUlisoH65M7X",
        "outputId": "beb1ecbf-9b27-4a0f-8371-80a1018ca053"
      },
      "execution_count": 38,
      "outputs": [
        {
          "output_type": "execute_result",
          "data": {
            "text/plain": [
              "       Rating                                             Review  \\\n",
              "0         1.0  i bought this because i’ve had really oily ski...   \n",
              "1         1.0  i don’t understand how these brand name compan...   \n",
              "2         1.0  bought this for my child to use as a face wash...   \n",
              "3         1.0  so, you know that slime you make when you mix ...   \n",
              "4         1.0  the product was open and all the liquid was in...   \n",
              "...       ...                                                ...   \n",
              "15602     5.0  the media could not be loaded.\\n              ...   \n",
              "15607     5.0  i love this entire line, and this product has ...   \n",
              "15610     5.0  este es el tercer bote que voy comprando porqu...   \n",
              "15614     5.0  moistures and illuminates skin. put imine over...   \n",
              "15623     5.0                              not greasyworks great   \n",
              "\n",
              "        Skin Concern           Brand Product Type  Review Len  Word Count  \\\n",
              "0      acne and oily          CeraVe     Cleanser         883         202   \n",
              "1      acne and oily          CeraVe     Cleanser         307          60   \n",
              "2      acne and oily          CeraVe     Cleanser         728         169   \n",
              "3      acne and oily          CeraVe     Cleanser         923         222   \n",
              "4      acne and oily          CeraVe     Cleanser          75          18   \n",
              "...              ...             ...          ...         ...         ...   \n",
              "15602            dry  La Roche-Posay        Serum         182          34   \n",
              "15607            dry  La Roche-Posay        Serum          73          17   \n",
              "15610            dry  La Roche-Posay        Serum         198          43   \n",
              "15614            dry  La Roche-Posay        Serum          55           9   \n",
              "15623            dry  La Roche-Posay        Serum          19           3   \n",
              "\n",
              "       Punct                                             Tokens  \\\n",
              "0        1.6  [i, bought, this, because, i, ’, ve, had, real...   \n",
              "1        2.3  [i, don, ’, t, understand, how, these, brand, ...   \n",
              "2        1.4  [bought, this, for, my, child, to, use, as, a,...   \n",
              "3        4.8  [so, ,, you, know, that, slime, you, make, whe...   \n",
              "4        1.3  [the, product, was, open, and, all, the, liqui...   \n",
              "...      ...                                                ...   \n",
              "15602    3.8  [the, media, could, not, be, loaded, ., my, ab...   \n",
              "15607    1.4  [i, love, this, entire, line, ,, and, this, pr...   \n",
              "15610    2.5  [este, es, el, tercer, bote, que, voy, compran...   \n",
              "15614    3.6  [moistures, and, illuminates, skin, ., put, im...   \n",
              "15623    0.0                          [not, greasyworks, great]   \n",
              "\n",
              "                                          NoStopW Tokens  \\\n",
              "0      [summer, cleared, visits, decided, hurt, heard...   \n",
              "1      [understand, companies, putting, parabens, pro...   \n",
              "2      [child, breakout, tzone, caused, allergic, rea...   \n",
              "3      [slime, mix, borax, glue, feels, feels, slime,...   \n",
              "4                                               [liquid]   \n",
              "...                                                  ...   \n",
              "15602  [media, not, loaded, absolute, favorite, light...   \n",
              "15607      [love, entire, holy, grail, itemsholy, grail]   \n",
              "15610  [este, el, tercer, bote, voy, comprando, porqu...   \n",
              "15614        [moistures, illuminates, imine, pondslooks]   \n",
              "15623                                 [not, greasyworks]   \n",
              "\n",
              "                                       Lemmatized Tokens Rating Class  Label  \\\n",
              "0      summer cleared visit decided hurt heard terrib...    Low-rated      0   \n",
              "1      understand company putting parabens product wr...    Low-rated      0   \n",
              "2      child breakout tzone caused allergic reaction ...    Low-rated      0   \n",
              "3      slime mix borax glue feel feel slime gunky fra...    Low-rated      0   \n",
              "4                                                 liquid    Low-rated      0   \n",
              "...                                                  ...          ...    ...   \n",
              "15602  medium not loaded absolute favorite light abso...   High-rated      1   \n",
              "15607             love entire holy grail itemsholy grail   High-rated      1   \n",
              "15610  este el tercer bote voy comprando porque encan...   High-rated      1   \n",
              "15614              moisture illuminates imine pondslooks   High-rated      1   \n",
              "15623                                    not greasyworks   High-rated      1   \n",
              "\n",
              "       VADER Sentiment  \n",
              "0                    1  \n",
              "1                    0  \n",
              "2                    1  \n",
              "3                    1  \n",
              "4                    0  \n",
              "...                ...  \n",
              "15602                1  \n",
              "15607                1  \n",
              "15610                1  \n",
              "15614                0  \n",
              "15623                0  \n",
              "\n",
              "[9649 rows x 14 columns]"
            ],
            "text/html": [
              "\n",
              "  <div id=\"df-c100c44d-55a7-478d-a6db-8e3a68cf7d8e\" class=\"colab-df-container\">\n",
              "    <div>\n",
              "<style scoped>\n",
              "    .dataframe tbody tr th:only-of-type {\n",
              "        vertical-align: middle;\n",
              "    }\n",
              "\n",
              "    .dataframe tbody tr th {\n",
              "        vertical-align: top;\n",
              "    }\n",
              "\n",
              "    .dataframe thead th {\n",
              "        text-align: right;\n",
              "    }\n",
              "</style>\n",
              "<table border=\"1\" class=\"dataframe\">\n",
              "  <thead>\n",
              "    <tr style=\"text-align: right;\">\n",
              "      <th></th>\n",
              "      <th>Rating</th>\n",
              "      <th>Review</th>\n",
              "      <th>Skin Concern</th>\n",
              "      <th>Brand</th>\n",
              "      <th>Product Type</th>\n",
              "      <th>Review Len</th>\n",
              "      <th>Word Count</th>\n",
              "      <th>Punct</th>\n",
              "      <th>Tokens</th>\n",
              "      <th>NoStopW Tokens</th>\n",
              "      <th>Lemmatized Tokens</th>\n",
              "      <th>Rating Class</th>\n",
              "      <th>Label</th>\n",
              "      <th>VADER Sentiment</th>\n",
              "    </tr>\n",
              "  </thead>\n",
              "  <tbody>\n",
              "    <tr>\n",
              "      <th>0</th>\n",
              "      <td>1.0</td>\n",
              "      <td>i bought this because i’ve had really oily ski...</td>\n",
              "      <td>acne and oily</td>\n",
              "      <td>CeraVe</td>\n",
              "      <td>Cleanser</td>\n",
              "      <td>883</td>\n",
              "      <td>202</td>\n",
              "      <td>1.6</td>\n",
              "      <td>[i, bought, this, because, i, ’, ve, had, real...</td>\n",
              "      <td>[summer, cleared, visits, decided, hurt, heard...</td>\n",
              "      <td>summer cleared visit decided hurt heard terrib...</td>\n",
              "      <td>Low-rated</td>\n",
              "      <td>0</td>\n",
              "      <td>1</td>\n",
              "    </tr>\n",
              "    <tr>\n",
              "      <th>1</th>\n",
              "      <td>1.0</td>\n",
              "      <td>i don’t understand how these brand name compan...</td>\n",
              "      <td>acne and oily</td>\n",
              "      <td>CeraVe</td>\n",
              "      <td>Cleanser</td>\n",
              "      <td>307</td>\n",
              "      <td>60</td>\n",
              "      <td>2.3</td>\n",
              "      <td>[i, don, ’, t, understand, how, these, brand, ...</td>\n",
              "      <td>[understand, companies, putting, parabens, pro...</td>\n",
              "      <td>understand company putting parabens product wr...</td>\n",
              "      <td>Low-rated</td>\n",
              "      <td>0</td>\n",
              "      <td>0</td>\n",
              "    </tr>\n",
              "    <tr>\n",
              "      <th>2</th>\n",
              "      <td>1.0</td>\n",
              "      <td>bought this for my child to use as a face wash...</td>\n",
              "      <td>acne and oily</td>\n",
              "      <td>CeraVe</td>\n",
              "      <td>Cleanser</td>\n",
              "      <td>728</td>\n",
              "      <td>169</td>\n",
              "      <td>1.4</td>\n",
              "      <td>[bought, this, for, my, child, to, use, as, a,...</td>\n",
              "      <td>[child, breakout, tzone, caused, allergic, rea...</td>\n",
              "      <td>child breakout tzone caused allergic reaction ...</td>\n",
              "      <td>Low-rated</td>\n",
              "      <td>0</td>\n",
              "      <td>1</td>\n",
              "    </tr>\n",
              "    <tr>\n",
              "      <th>3</th>\n",
              "      <td>1.0</td>\n",
              "      <td>so, you know that slime you make when you mix ...</td>\n",
              "      <td>acne and oily</td>\n",
              "      <td>CeraVe</td>\n",
              "      <td>Cleanser</td>\n",
              "      <td>923</td>\n",
              "      <td>222</td>\n",
              "      <td>4.8</td>\n",
              "      <td>[so, ,, you, know, that, slime, you, make, whe...</td>\n",
              "      <td>[slime, mix, borax, glue, feels, feels, slime,...</td>\n",
              "      <td>slime mix borax glue feel feel slime gunky fra...</td>\n",
              "      <td>Low-rated</td>\n",
              "      <td>0</td>\n",
              "      <td>1</td>\n",
              "    </tr>\n",
              "    <tr>\n",
              "      <th>4</th>\n",
              "      <td>1.0</td>\n",
              "      <td>the product was open and all the liquid was in...</td>\n",
              "      <td>acne and oily</td>\n",
              "      <td>CeraVe</td>\n",
              "      <td>Cleanser</td>\n",
              "      <td>75</td>\n",
              "      <td>18</td>\n",
              "      <td>1.3</td>\n",
              "      <td>[the, product, was, open, and, all, the, liqui...</td>\n",
              "      <td>[liquid]</td>\n",
              "      <td>liquid</td>\n",
              "      <td>Low-rated</td>\n",
              "      <td>0</td>\n",
              "      <td>0</td>\n",
              "    </tr>\n",
              "    <tr>\n",
              "      <th>...</th>\n",
              "      <td>...</td>\n",
              "      <td>...</td>\n",
              "      <td>...</td>\n",
              "      <td>...</td>\n",
              "      <td>...</td>\n",
              "      <td>...</td>\n",
              "      <td>...</td>\n",
              "      <td>...</td>\n",
              "      <td>...</td>\n",
              "      <td>...</td>\n",
              "      <td>...</td>\n",
              "      <td>...</td>\n",
              "      <td>...</td>\n",
              "      <td>...</td>\n",
              "    </tr>\n",
              "    <tr>\n",
              "      <th>15602</th>\n",
              "      <td>5.0</td>\n",
              "      <td>the media could not be loaded.\\n              ...</td>\n",
              "      <td>dry</td>\n",
              "      <td>La Roche-Posay</td>\n",
              "      <td>Serum</td>\n",
              "      <td>182</td>\n",
              "      <td>34</td>\n",
              "      <td>3.8</td>\n",
              "      <td>[the, media, could, not, be, loaded, ., my, ab...</td>\n",
              "      <td>[media, not, loaded, absolute, favorite, light...</td>\n",
              "      <td>medium not loaded absolute favorite light abso...</td>\n",
              "      <td>High-rated</td>\n",
              "      <td>1</td>\n",
              "      <td>1</td>\n",
              "    </tr>\n",
              "    <tr>\n",
              "      <th>15607</th>\n",
              "      <td>5.0</td>\n",
              "      <td>i love this entire line, and this product has ...</td>\n",
              "      <td>dry</td>\n",
              "      <td>La Roche-Posay</td>\n",
              "      <td>Serum</td>\n",
              "      <td>73</td>\n",
              "      <td>17</td>\n",
              "      <td>1.4</td>\n",
              "      <td>[i, love, this, entire, line, ,, and, this, pr...</td>\n",
              "      <td>[love, entire, holy, grail, itemsholy, grail]</td>\n",
              "      <td>love entire holy grail itemsholy grail</td>\n",
              "      <td>High-rated</td>\n",
              "      <td>1</td>\n",
              "      <td>1</td>\n",
              "    </tr>\n",
              "    <tr>\n",
              "      <th>15610</th>\n",
              "      <td>5.0</td>\n",
              "      <td>este es el tercer bote que voy comprando porqu...</td>\n",
              "      <td>dry</td>\n",
              "      <td>La Roche-Posay</td>\n",
              "      <td>Serum</td>\n",
              "      <td>198</td>\n",
              "      <td>43</td>\n",
              "      <td>2.5</td>\n",
              "      <td>[este, es, el, tercer, bote, que, voy, compran...</td>\n",
              "      <td>[este, el, tercer, bote, voy, comprando, porqu...</td>\n",
              "      <td>este el tercer bote voy comprando porque encan...</td>\n",
              "      <td>High-rated</td>\n",
              "      <td>1</td>\n",
              "      <td>1</td>\n",
              "    </tr>\n",
              "    <tr>\n",
              "      <th>15614</th>\n",
              "      <td>5.0</td>\n",
              "      <td>moistures and illuminates skin. put imine over...</td>\n",
              "      <td>dry</td>\n",
              "      <td>La Roche-Posay</td>\n",
              "      <td>Serum</td>\n",
              "      <td>55</td>\n",
              "      <td>9</td>\n",
              "      <td>3.6</td>\n",
              "      <td>[moistures, and, illuminates, skin, ., put, im...</td>\n",
              "      <td>[moistures, illuminates, imine, pondslooks]</td>\n",
              "      <td>moisture illuminates imine pondslooks</td>\n",
              "      <td>High-rated</td>\n",
              "      <td>1</td>\n",
              "      <td>0</td>\n",
              "    </tr>\n",
              "    <tr>\n",
              "      <th>15623</th>\n",
              "      <td>5.0</td>\n",
              "      <td>not greasyworks great</td>\n",
              "      <td>dry</td>\n",
              "      <td>La Roche-Posay</td>\n",
              "      <td>Serum</td>\n",
              "      <td>19</td>\n",
              "      <td>3</td>\n",
              "      <td>0.0</td>\n",
              "      <td>[not, greasyworks, great]</td>\n",
              "      <td>[not, greasyworks]</td>\n",
              "      <td>not greasyworks</td>\n",
              "      <td>High-rated</td>\n",
              "      <td>1</td>\n",
              "      <td>0</td>\n",
              "    </tr>\n",
              "  </tbody>\n",
              "</table>\n",
              "<p>9649 rows × 14 columns</p>\n",
              "</div>\n",
              "    <div class=\"colab-df-buttons\">\n",
              "\n",
              "  <div class=\"colab-df-container\">\n",
              "    <button class=\"colab-df-convert\" onclick=\"convertToInteractive('df-c100c44d-55a7-478d-a6db-8e3a68cf7d8e')\"\n",
              "            title=\"Convert this dataframe to an interactive table.\"\n",
              "            style=\"display:none;\">\n",
              "\n",
              "  <svg xmlns=\"http://www.w3.org/2000/svg\" height=\"24px\" viewBox=\"0 -960 960 960\">\n",
              "    <path d=\"M120-120v-720h720v720H120Zm60-500h600v-160H180v160Zm220 220h160v-160H400v160Zm0 220h160v-160H400v160ZM180-400h160v-160H180v160Zm440 0h160v-160H620v160ZM180-180h160v-160H180v160Zm440 0h160v-160H620v160Z\"/>\n",
              "  </svg>\n",
              "    </button>\n",
              "\n",
              "  <style>\n",
              "    .colab-df-container {\n",
              "      display:flex;\n",
              "      gap: 12px;\n",
              "    }\n",
              "\n",
              "    .colab-df-convert {\n",
              "      background-color: #E8F0FE;\n",
              "      border: none;\n",
              "      border-radius: 50%;\n",
              "      cursor: pointer;\n",
              "      display: none;\n",
              "      fill: #1967D2;\n",
              "      height: 32px;\n",
              "      padding: 0 0 0 0;\n",
              "      width: 32px;\n",
              "    }\n",
              "\n",
              "    .colab-df-convert:hover {\n",
              "      background-color: #E2EBFA;\n",
              "      box-shadow: 0px 1px 2px rgba(60, 64, 67, 0.3), 0px 1px 3px 1px rgba(60, 64, 67, 0.15);\n",
              "      fill: #174EA6;\n",
              "    }\n",
              "\n",
              "    .colab-df-buttons div {\n",
              "      margin-bottom: 4px;\n",
              "    }\n",
              "\n",
              "    [theme=dark] .colab-df-convert {\n",
              "      background-color: #3B4455;\n",
              "      fill: #D2E3FC;\n",
              "    }\n",
              "\n",
              "    [theme=dark] .colab-df-convert:hover {\n",
              "      background-color: #434B5C;\n",
              "      box-shadow: 0px 1px 3px 1px rgba(0, 0, 0, 0.15);\n",
              "      filter: drop-shadow(0px 1px 2px rgba(0, 0, 0, 0.3));\n",
              "      fill: #FFFFFF;\n",
              "    }\n",
              "  </style>\n",
              "\n",
              "    <script>\n",
              "      const buttonEl =\n",
              "        document.querySelector('#df-c100c44d-55a7-478d-a6db-8e3a68cf7d8e button.colab-df-convert');\n",
              "      buttonEl.style.display =\n",
              "        google.colab.kernel.accessAllowed ? 'block' : 'none';\n",
              "\n",
              "      async function convertToInteractive(key) {\n",
              "        const element = document.querySelector('#df-c100c44d-55a7-478d-a6db-8e3a68cf7d8e');\n",
              "        const dataTable =\n",
              "          await google.colab.kernel.invokeFunction('convertToInteractive',\n",
              "                                                    [key], {});\n",
              "        if (!dataTable) return;\n",
              "\n",
              "        const docLinkHtml = 'Like what you see? Visit the ' +\n",
              "          '<a target=\"_blank\" href=https://colab.research.google.com/notebooks/data_table.ipynb>data table notebook</a>'\n",
              "          + ' to learn more about interactive tables.';\n",
              "        element.innerHTML = '';\n",
              "        dataTable['output_type'] = 'display_data';\n",
              "        await google.colab.output.renderOutput(dataTable, element);\n",
              "        const docLink = document.createElement('div');\n",
              "        docLink.innerHTML = docLinkHtml;\n",
              "        element.appendChild(docLink);\n",
              "      }\n",
              "    </script>\n",
              "  </div>\n",
              "\n",
              "\n",
              "<div id=\"df-16ed1a85-bbf7-4da2-807a-f0632450853a\">\n",
              "  <button class=\"colab-df-quickchart\" onclick=\"quickchart('df-16ed1a85-bbf7-4da2-807a-f0632450853a')\"\n",
              "            title=\"Suggest charts\"\n",
              "            style=\"display:none;\">\n",
              "\n",
              "<svg xmlns=\"http://www.w3.org/2000/svg\" height=\"24px\"viewBox=\"0 0 24 24\"\n",
              "     width=\"24px\">\n",
              "    <g>\n",
              "        <path d=\"M19 3H5c-1.1 0-2 .9-2 2v14c0 1.1.9 2 2 2h14c1.1 0 2-.9 2-2V5c0-1.1-.9-2-2-2zM9 17H7v-7h2v7zm4 0h-2V7h2v10zm4 0h-2v-4h2v4z\"/>\n",
              "    </g>\n",
              "</svg>\n",
              "  </button>\n",
              "\n",
              "<style>\n",
              "  .colab-df-quickchart {\n",
              "      --bg-color: #E8F0FE;\n",
              "      --fill-color: #1967D2;\n",
              "      --hover-bg-color: #E2EBFA;\n",
              "      --hover-fill-color: #174EA6;\n",
              "      --disabled-fill-color: #AAA;\n",
              "      --disabled-bg-color: #DDD;\n",
              "  }\n",
              "\n",
              "  [theme=dark] .colab-df-quickchart {\n",
              "      --bg-color: #3B4455;\n",
              "      --fill-color: #D2E3FC;\n",
              "      --hover-bg-color: #434B5C;\n",
              "      --hover-fill-color: #FFFFFF;\n",
              "      --disabled-bg-color: #3B4455;\n",
              "      --disabled-fill-color: #666;\n",
              "  }\n",
              "\n",
              "  .colab-df-quickchart {\n",
              "    background-color: var(--bg-color);\n",
              "    border: none;\n",
              "    border-radius: 50%;\n",
              "    cursor: pointer;\n",
              "    display: none;\n",
              "    fill: var(--fill-color);\n",
              "    height: 32px;\n",
              "    padding: 0;\n",
              "    width: 32px;\n",
              "  }\n",
              "\n",
              "  .colab-df-quickchart:hover {\n",
              "    background-color: var(--hover-bg-color);\n",
              "    box-shadow: 0 1px 2px rgba(60, 64, 67, 0.3), 0 1px 3px 1px rgba(60, 64, 67, 0.15);\n",
              "    fill: var(--button-hover-fill-color);\n",
              "  }\n",
              "\n",
              "  .colab-df-quickchart-complete:disabled,\n",
              "  .colab-df-quickchart-complete:disabled:hover {\n",
              "    background-color: var(--disabled-bg-color);\n",
              "    fill: var(--disabled-fill-color);\n",
              "    box-shadow: none;\n",
              "  }\n",
              "\n",
              "  .colab-df-spinner {\n",
              "    border: 2px solid var(--fill-color);\n",
              "    border-color: transparent;\n",
              "    border-bottom-color: var(--fill-color);\n",
              "    animation:\n",
              "      spin 1s steps(1) infinite;\n",
              "  }\n",
              "\n",
              "  @keyframes spin {\n",
              "    0% {\n",
              "      border-color: transparent;\n",
              "      border-bottom-color: var(--fill-color);\n",
              "      border-left-color: var(--fill-color);\n",
              "    }\n",
              "    20% {\n",
              "      border-color: transparent;\n",
              "      border-left-color: var(--fill-color);\n",
              "      border-top-color: var(--fill-color);\n",
              "    }\n",
              "    30% {\n",
              "      border-color: transparent;\n",
              "      border-left-color: var(--fill-color);\n",
              "      border-top-color: var(--fill-color);\n",
              "      border-right-color: var(--fill-color);\n",
              "    }\n",
              "    40% {\n",
              "      border-color: transparent;\n",
              "      border-right-color: var(--fill-color);\n",
              "      border-top-color: var(--fill-color);\n",
              "    }\n",
              "    60% {\n",
              "      border-color: transparent;\n",
              "      border-right-color: var(--fill-color);\n",
              "    }\n",
              "    80% {\n",
              "      border-color: transparent;\n",
              "      border-right-color: var(--fill-color);\n",
              "      border-bottom-color: var(--fill-color);\n",
              "    }\n",
              "    90% {\n",
              "      border-color: transparent;\n",
              "      border-bottom-color: var(--fill-color);\n",
              "    }\n",
              "  }\n",
              "</style>\n",
              "\n",
              "  <script>\n",
              "    async function quickchart(key) {\n",
              "      const quickchartButtonEl =\n",
              "        document.querySelector('#' + key + ' button');\n",
              "      quickchartButtonEl.disabled = true;  // To prevent multiple clicks.\n",
              "      quickchartButtonEl.classList.add('colab-df-spinner');\n",
              "      try {\n",
              "        const charts = await google.colab.kernel.invokeFunction(\n",
              "            'suggestCharts', [key], {});\n",
              "      } catch (error) {\n",
              "        console.error('Error during call to suggestCharts:', error);\n",
              "      }\n",
              "      quickchartButtonEl.classList.remove('colab-df-spinner');\n",
              "      quickchartButtonEl.classList.add('colab-df-quickchart-complete');\n",
              "    }\n",
              "    (() => {\n",
              "      let quickchartButtonEl =\n",
              "        document.querySelector('#df-16ed1a85-bbf7-4da2-807a-f0632450853a button');\n",
              "      quickchartButtonEl.style.display =\n",
              "        google.colab.kernel.accessAllowed ? 'block' : 'none';\n",
              "    })();\n",
              "  </script>\n",
              "</div>\n",
              "    </div>\n",
              "  </div>\n"
            ],
            "application/vnd.google.colaboratory.intrinsic+json": {
              "type": "dataframe",
              "variable_name": "df",
              "summary": "{\n  \"name\": \"df\",\n  \"rows\": 9649,\n  \"fields\": [\n    {\n      \"column\": \"Rating\",\n      \"properties\": {\n        \"dtype\": \"number\",\n        \"std\": 1.5140156390778263,\n        \"min\": 1.0,\n        \"max\": 5.0,\n        \"num_unique_values\": 5,\n        \"samples\": [\n          2.0,\n          5.0,\n          3.0\n        ],\n        \"semantic_type\": \"\",\n        \"description\": \"\"\n      }\n    },\n    {\n      \"column\": \"Review\",\n      \"properties\": {\n        \"dtype\": \"string\",\n        \"num_unique_values\": 9597,\n        \"samples\": [\n          \"i have really sensitive skin, so i might not be the best at commenting on this. the product made my skin feel oily. however, it did not have an unpleasant smell or texture. just didn't work for my skin type. product came as described with no blemishes or damage to the product.so i might not be the best at commenting on this\",\n          \"the box arrived in a very bad condition, it was for a gift, so i could not do it, because it looked like a cheap serum or some promotion.step presentation.it is not as good as even those of neutrogen that i have already used.\",\n          \"i have repurchased this product so many times! it is a great, simple, and affordable hyaluronic acid for your skincare routine. i have dry/combo skin and do not want anything that will conflict with my acne medicine or moisturizer. cerave is a very dependable brand as well!repurchase alert\"\n        ],\n        \"semantic_type\": \"\",\n        \"description\": \"\"\n      }\n    },\n    {\n      \"column\": \"Skin Concern\",\n      \"properties\": {\n        \"dtype\": \"category\",\n        \"num_unique_values\": 3,\n        \"samples\": [\n          \"acne and oily\",\n          \"anti-aging\",\n          \"dry\"\n        ],\n        \"semantic_type\": \"\",\n        \"description\": \"\"\n      }\n    },\n    {\n      \"column\": \"Brand\",\n      \"properties\": {\n        \"dtype\": \"category\",\n        \"num_unique_values\": 2,\n        \"samples\": [\n          \"La Roche-Posay\",\n          \"CeraVe\"\n        ],\n        \"semantic_type\": \"\",\n        \"description\": \"\"\n      }\n    },\n    {\n      \"column\": \"Product Type\",\n      \"properties\": {\n        \"dtype\": \"category\",\n        \"num_unique_values\": 5,\n        \"samples\": [\n          \"Cream\",\n          \"Eye Cream\"\n        ],\n        \"semantic_type\": \"\",\n        \"description\": \"\"\n      }\n    },\n    {\n      \"column\": \"Review Len\",\n      \"properties\": {\n        \"dtype\": \"number\",\n        \"std\": 251,\n        \"min\": 2,\n        \"max\": 5344,\n        \"num_unique_values\": 980,\n        \"samples\": [\n          616,\n          439\n        ],\n        \"semantic_type\": \"\",\n        \"description\": \"\"\n      }\n    },\n    {\n      \"column\": \"Word Count\",\n      \"properties\": {\n        \"dtype\": \"number\",\n        \"std\": 55,\n        \"min\": 1,\n        \"max\": 1072,\n        \"num_unique_values\": 325,\n        \"samples\": [\n          229,\n          16\n        ],\n        \"semantic_type\": \"\",\n        \"description\": \"\"\n      }\n    },\n    {\n      \"column\": \"Punct\",\n      \"properties\": {\n        \"dtype\": \"number\",\n        \"std\": 1.9373957030563838,\n        \"min\": 0.0,\n        \"max\": 27.3,\n        \"num_unique_values\": 133,\n        \"samples\": [\n          7.7,\n          9.2\n        ],\n        \"semantic_type\": \"\",\n        \"description\": \"\"\n      }\n    },\n    {\n      \"column\": \"Tokens\",\n      \"properties\": {\n        \"dtype\": \"object\",\n        \"semantic_type\": \"\",\n        \"description\": \"\"\n      }\n    },\n    {\n      \"column\": \"NoStopW Tokens\",\n      \"properties\": {\n        \"dtype\": \"object\",\n        \"semantic_type\": \"\",\n        \"description\": \"\"\n      }\n    },\n    {\n      \"column\": \"Lemmatized Tokens\",\n      \"properties\": {\n        \"dtype\": \"string\",\n        \"num_unique_values\": 9459,\n        \"samples\": [\n          \"not migrate eye not miracle sameit not migrate eye\",\n          \"dark circle blue brown metal applicator dispenses peasized recommended application tube not expect miracle overnight revisit update whenif dark circle amazon return desired resultsla rocheposay pigmentclar dark circle\"\n        ],\n        \"semantic_type\": \"\",\n        \"description\": \"\"\n      }\n    },\n    {\n      \"column\": \"Rating Class\",\n      \"properties\": {\n        \"dtype\": \"category\",\n        \"num_unique_values\": 3,\n        \"samples\": [\n          \"Low-rated\",\n          \"Moderate-rated\"\n        ],\n        \"semantic_type\": \"\",\n        \"description\": \"\"\n      }\n    },\n    {\n      \"column\": \"Label\",\n      \"properties\": {\n        \"dtype\": \"number\",\n        \"std\": 0,\n        \"min\": 0,\n        \"max\": 1,\n        \"num_unique_values\": 2,\n        \"samples\": [\n          1,\n          0\n        ],\n        \"semantic_type\": \"\",\n        \"description\": \"\"\n      }\n    },\n    {\n      \"column\": \"VADER Sentiment\",\n      \"properties\": {\n        \"dtype\": \"number\",\n        \"std\": 0,\n        \"min\": 0,\n        \"max\": 1,\n        \"num_unique_values\": 2,\n        \"samples\": [\n          0,\n          1\n        ],\n        \"semantic_type\": \"\",\n        \"description\": \"\"\n      }\n    }\n  ]\n}"
            }
          },
          "metadata": {},
          "execution_count": 38
        }
      ]
    },
    {
      "cell_type": "code",
      "source": [
        "from sklearn.metrics import confusion_matrix, classification_report\n",
        "\n",
        "# Calculate confusion matrix for VADER Sentiment\n",
        "conf_matrix_vader = confusion_matrix(df['Label'], df['VADER Sentiment'])\n",
        "\n",
        "# Plot confusion matrix for VADER Sentiment\n",
        "sns.heatmap(conf_matrix_vader, annot=True, fmt='d', cmap='BuPu', xticklabels=['Negative', 'Positive'], yticklabels=['Negative', 'Positive'])\n",
        "plt.title(\"Confusion Matrix (VADER Sentiment)\")\n",
        "plt.xlabel(\"Predicted Label\")\n",
        "plt.ylabel(\"True Label\")\n",
        "plt.show()\n",
        "\n",
        "# Classification Report for VADER Sentiment\n",
        "print('\\n\\nClassification Report (VADER Sentiment):')\n",
        "print(classification_report(df['Label'], df['VADER Sentiment']))\n"
      ],
      "metadata": {
        "colab": {
          "base_uri": "https://localhost:8080/",
          "height": 688
        },
        "id": "_379RYtMD-Xm",
        "outputId": "6bc1bf6d-1783-42cb-9ad4-6797fe92df9e"
      },
      "execution_count": 64,
      "outputs": [
        {
          "output_type": "display_data",
          "data": {
            "text/plain": [
              "<Figure size 640x480 with 2 Axes>"
            ],
            "image/png": "[encoded data removed]"
          },
          "metadata": {}
        },
        {
          "output_type": "stream",
          "name": "stdout",
          "text": [
            "\n",
            "\n",
            "Classification Report (VADER Sentiment):\n",
            "              precision    recall  f1-score   support\n",
            "\n",
            "           0       0.59      0.48      0.53      4961\n",
            "           1       0.54      0.64      0.59      4688\n",
            "\n",
            "    accuracy                           0.56      9649\n",
            "   macro avg       0.57      0.56      0.56      9649\n",
            "weighted avg       0.57      0.56      0.56      9649\n",
            "\n"
          ]
        }
      ]
    },
    {
      "cell_type": "markdown",
      "source": [
        "### **8.1.2 TextBlob**"
      ],
      "metadata": {
        "id": "e4oEz2QW97gm"
      }
    },
    {
      "cell_type": "code",
      "source": [
        "from textblob import TextBlob\n",
        "\n",
        "# Function to get sentiment polarity from a text\n",
        "def get_sentiment_polarity(text):\n",
        "    analysis = TextBlob(str(text))\n",
        "    return analysis.sentiment.polarity\n",
        "\n",
        "# Apply sentiment analysis to the 'body' column\n",
        "df['TB Polarity Score'] = df['Lemmatized Tokens'].apply(get_sentiment_polarity)"
      ],
      "metadata": {
        "id": "FI7fCpvE6HWc"
      },
      "execution_count": 40,
      "outputs": []
    },
    {
      "cell_type": "code",
      "source": [
        "# Function to get sentiment label based on polarity score\n",
        "def get_sentiment_label(score):\n",
        "    if score < 0:\n",
        "        return 0\n",
        "    else:\n",
        "        return 1\n",
        "\n",
        "# Example: Apply sentiment label to the 'polarity_score' column\n",
        "df['TB Sentiment'] = df['TB Polarity Score'].apply(get_sentiment_label)"
      ],
      "metadata": {
        "id": "0bWC6mjyuE9Q"
      },
      "execution_count": 41,
      "outputs": []
    },
    {
      "cell_type": "code",
      "source": [
        "# Calculate confusion matrix\n",
        "conf_matrix = confusion_matrix(df['Label'], df['TB Sentiment'])\n",
        "\n",
        "# Set the style\n",
        "sns.set(style=\"whitegrid\")\n",
        "\n",
        "# Plot confusion matrix\n",
        "sns.heatmap(conf_matrix, annot=True, fmt='d', cmap='BuPu', xticklabels=['Negative', 'Positive'], yticklabels=['Negative', 'Positive'])\n",
        "plt.title(\"Confusion Matrix (TextBlob Sentiment)\")\n",
        "plt.xlabel(\"Predicted Label\")\n",
        "plt.ylabel(\"True Label\")\n",
        "plt.show()\n",
        "\n",
        "# Classification Report\n",
        "print('\\n\\nClassification Report:')\n",
        "print(classification_report(df['Label'], df['TB Sentiment']))"
      ],
      "metadata": {
        "colab": {
          "base_uri": "https://localhost:8080/",
          "height": 688
        },
        "id": "I-4G8FBuWVqN",
        "outputId": "2e7f47fc-a565-4132-bb13-50e7598c41aa"
      },
      "execution_count": 62,
      "outputs": [
        {
          "output_type": "display_data",
          "data": {
            "text/plain": [
              "<Figure size 640x480 with 2 Axes>"
            ],
            "image/png": "[encoded data removed]"
          },
          "metadata": {}
        },
        {
          "output_type": "stream",
          "name": "stdout",
          "text": [
            "\n",
            "\n",
            "Classification Report:\n",
            "              precision    recall  f1-score   support\n",
            "\n",
            "           0       0.78      0.40      0.53      4961\n",
            "           1       0.58      0.88      0.70      4688\n",
            "\n",
            "    accuracy                           0.63      9649\n",
            "   macro avg       0.68      0.64      0.61      9649\n",
            "weighted avg       0.69      0.63      0.61      9649\n",
            "\n"
          ]
        }
      ]
    },
    {
      "cell_type": "markdown",
      "source": [
        "### **8.2 Vectorizer: TF-IDF**"
      ],
      "metadata": {
        "id": "8Z8U9FpvC36T"
      }
    },
    {
      "cell_type": "code",
      "source": [
        "X = df[['Lemmatized Tokens', 'Review Len', 'Punct']]\n",
        "y = df['Label']\n",
        "print(X.shape)\n",
        "print(y.shape)"
      ],
      "metadata": {
        "colab": {
          "base_uri": "https://localhost:8080/"
        },
        "id": "TBcENx1HuFBM",
        "outputId": "c4952101-a3ff-48f9-bfaa-1d7d691b39cc"
      },
      "execution_count": 15,
      "outputs": [
        {
          "output_type": "stream",
          "name": "stdout",
          "text": [
            "(9649, 3)\n",
            "(9649,)\n"
          ]
        }
      ]
    },
    {
      "cell_type": "code",
      "source": [
        "from sklearn.model_selection import train_test_split\n",
        "X_train, X_test, y_train, y_test = train_test_split(X, y, test_size = 0.3, random_state = 0)\n",
        "print(X_train.shape)\n",
        "print(X_test.shape)\n",
        "print(y_train.shape)\n",
        "print(y_test.shape)"
      ],
      "metadata": {
        "colab": {
          "base_uri": "https://localhost:8080/"
        },
        "id": "W12Ra4nNuFGM",
        "outputId": "a47d9b6c-97d5-4d6c-b24e-dc6b1040d526"
      },
      "execution_count": 16,
      "outputs": [
        {
          "output_type": "stream",
          "name": "stdout",
          "text": [
            "(6754, 3)\n",
            "(2895, 3)\n",
            "(6754,)\n",
            "(2895,)\n"
          ]
        }
      ]
    },
    {
      "cell_type": "code",
      "source": [
        "from sklearn.feature_extraction.text import TfidfVectorizer\n",
        "\n",
        "tfidf = TfidfVectorizer(max_df = 0.5, min_df = 2)\n",
        "tfidf_train = tfidf.fit_transform(X_train['Lemmatized Tokens'])\n",
        "tfidf_test = tfidf.transform(X_test['Lemmatized Tokens'])\n",
        "\n",
        "X_train_vect = pd.concat([X_train[['Review Len', 'Punct']].reset_index(drop=True),\n",
        "           pd.DataFrame(tfidf_train.toarray())], axis=1)\n",
        "X_test_vect = pd.concat([X_test[['Review Len', 'Punct']].reset_index(drop=True),\n",
        "           pd.DataFrame(tfidf_test.toarray())], axis=1)\n",
        "\n",
        "# Convert all feature names to strings\n",
        "X_train_vect.columns = X_train_vect.columns.astype(str)\n",
        "X_test_vect.columns = X_test_vect.columns.astype(str)\n",
        "\n",
        "X_train_vect.head()"
      ],
      "metadata": {
        "id": "anaPF2souFIc"
      },
      "execution_count": null,
      "outputs": []
    },
    {
      "cell_type": "markdown",
      "source": [
        "### **8.2.1 Multinomial Naive Bayes (MNB)**"
      ],
      "metadata": {
        "id": "QARMH7YHg17A"
      }
    },
    {
      "cell_type": "code",
      "source": [
        "from sklearn.naive_bayes import MultinomialNB\n",
        "\n",
        "# Initialize and train the classifier\n",
        "classifier = MultinomialNB()\n",
        "classifier.fit(X_train_vect, y_train)\n",
        "\n",
        "# Make predictions\n",
        "naive_bayes_pred = classifier.predict(X_test_vect)\n",
        "\n",
        "# Classification Report\n",
        "print(classification_report(y_test, naive_bayes_pred))\n",
        "\n",
        "# Confusion Matrix\n",
        "class_label = [\"negative\", \"positive\"]\n",
        "df_cm = pd.DataFrame(confusion_matrix(y_test, naive_bayes_pred), index=class_label, columns=class_label)\n",
        "sns.heatmap(df_cm, annot=True, fmt='d', cmap='BuPu')\n",
        "plt.title(\"Confusion Matrix (MNB) - TF-IDF\")\n",
        "plt.xlabel(\"Predicted Label\")\n",
        "plt.ylabel(\"True Label\")\n",
        "plt.show()"
      ],
      "metadata": {
        "id": "iMbpiUfhuFqF",
        "colab": {
          "base_uri": "https://localhost:8080/",
          "height": 636
        },
        "outputId": "cf1a91a9-0e62-4e3e-e222-b5c8071e05da"
      },
      "execution_count": 68,
      "outputs": [
        {
          "output_type": "stream",
          "name": "stdout",
          "text": [
            "              precision    recall  f1-score   support\n",
            "\n",
            "           0       0.76      0.84      0.80      1486\n",
            "           1       0.81      0.72      0.76      1409\n",
            "\n",
            "    accuracy                           0.78      2895\n",
            "   macro avg       0.78      0.78      0.78      2895\n",
            "weighted avg       0.78      0.78      0.78      2895\n",
            "\n"
          ]
        },
        {
          "output_type": "display_data",
          "data": {
            "text/plain": [
              "<Figure size 640x480 with 2 Axes>"
            ],
            "image/png": "[encoded data removed]"
          },
          "metadata": {}
        }
      ]
    },
    {
      "cell_type": "markdown",
      "source": [
        "### **8.2.2 Support Vector Machine (SVM)**"
      ],
      "metadata": {
        "id": "citUW8_7hUWp"
      }
    },
    {
      "cell_type": "code",
      "source": [
        "from sklearn.svm import SVC\n",
        "\n",
        "# Initialize and train the SVM classifier\n",
        "classifier_svm = SVC(kernel='linear', random_state=0)\n",
        "classifier_svm.fit(X_train_vect, y_train)\n",
        "\n",
        "# Make predictions using SVM classifier\n",
        "svm_pred = classifier_svm.predict(X_test_vect)\n",
        "\n",
        "# Classification Report for SVM\n",
        "print('Classification Report (SVM):')\n",
        "print(classification_report(y_test, svm_pred))\n",
        "\n",
        "# Confusion Matrix for SVM\n",
        "conf_matrix_svm = confusion_matrix(y_test, svm_pred)\n",
        "\n",
        "# Plot confusion matrix for SVM\n",
        "class_label = [\"negative\", \"positive\"]\n",
        "df_cm = pd.DataFrame(confusion_matrix(y_test, naive_bayes_pred), index=class_label, columns=class_label)\n",
        "sns.heatmap(df_cm, annot=True, fmt='d', cmap='BuPu')\n",
        "plt.title(\"Confusion Matrix (SVM) - TF-IDF\")\n",
        "plt.xlabel(\"Predicted Label\")\n",
        "plt.ylabel(\"True Label\")\n",
        "plt.show()\n"
      ],
      "metadata": {
        "id": "6bLDIK8wfa6p"
      },
      "execution_count": null,
      "outputs": []
    },
    {
      "cell_type": "code",
      "source": [],
      "metadata": {
        "id": "kdN2qG_nfa9l"
      },
      "execution_count": null,
      "outputs": []
    },
    {
      "cell_type": "code",
      "source": [],
      "metadata": {
        "id": "jtt9gc0ifbAm"
      },
      "execution_count": null,
      "outputs": []
    },
    {
      "cell_type": "code",
      "source": [],
      "metadata": {
        "id": "Q-GY-smifbEL"
      },
      "execution_count": null,
      "outputs": []
    }
  ]
}